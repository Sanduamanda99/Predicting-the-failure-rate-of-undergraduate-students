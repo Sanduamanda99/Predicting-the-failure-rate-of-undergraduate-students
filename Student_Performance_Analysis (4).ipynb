{
 "cells": [
  {
   "cell_type": "code",
   "execution_count": 1359,
   "metadata": {
    "id": "l4diI5aVf_rJ"
   },
   "outputs": [],
   "source": [
    "import pandas as pd\n",
    "import numpy as np\n",
    "import matplotlib.pyplot as plt\n",
    "import seaborn as sns"
   ]
  },
  {
   "cell_type": "markdown",
   "metadata": {
    "id": "nwE-coheikDT"
   },
   "source": [
    "## Helper functions to map grades"
   ]
  },
  {
   "cell_type": "code",
   "execution_count": 1360,
   "metadata": {
    "id": "XWUt4JL2icJS"
   },
   "outputs": [],
   "source": [
    "\n",
    "grade_mapping = {\n",
    "    \"A+\": 4.0,\n",
    "    \"A\": 4.0,\n",
    "    \"A-\": 3.7,\n",
    "    \"B+\": 3.3,\n",
    "    \"B\": 3.0,\n",
    "    \"B-\": 2.7,\n",
    "    \"C+\": 2.3,\n",
    "    \"C\": 2.0,\n",
    "    \"C-\": 1.7,\n",
    "    \"D+\": 1.3,\n",
    "    \"D\": 1.0,\n",
    "    \"D-\": 0.0,\n",
    "    \"E\": 0.0,\n",
    "    \"ab\": 0.0,\n",
    "    None: None\n",
    "}\n",
    "\n",
    "def map_grade(grade):\n",
    "    return grade_mapping.get(grade, None)\n",
    "\n",
    "\n",
    "def get_credit_value(course_code):\n",
    "    return int(course_code[4])\n",
    "\n",
    "\n",
    "# The highest value for continous assessment marks, continous assessment marks are divided by this to make a value between 0 and 1 to make value more standarized.\n",
    "CA_HIGHEST= 35\n"
   ]
  },
  {
   "cell_type": "markdown",
   "metadata": {
    "id": "koIX0BNRNy73"
   },
   "source": [
    "## Pre-processing Semester 1 Data"
   ]
  },
  {
   "cell_type": "code",
   "execution_count": 1361,
   "metadata": {
    "colab": {
     "base_uri": "https://localhost:8080/",
     "height": 342
    },
    "id": "6fqttTreipmo",
    "outputId": "6ffff6bb-c2d8-4ae2-df89-a9cdaf113e62"
   },
   "outputs": [
    {
     "data": {
      "text/html": [
       "<div>\n",
       "<style scoped>\n",
       "    .dataframe tbody tr th:only-of-type {\n",
       "        vertical-align: middle;\n",
       "    }\n",
       "\n",
       "    .dataframe tbody tr th {\n",
       "        vertical-align: top;\n",
       "    }\n",
       "\n",
       "    .dataframe thead th {\n",
       "        text-align: right;\n",
       "    }\n",
       "</style>\n",
       "<table border=\"1\" class=\"dataframe\">\n",
       "  <thead>\n",
       "    <tr style=\"text-align: right;\">\n",
       "      <th></th>\n",
       "      <th>Gender</th>\n",
       "      <th>Study Hours</th>\n",
       "      <th>Extracurricular_Involvement</th>\n",
       "      <th>Part time job</th>\n",
       "      <th>Struggle with English</th>\n",
       "      <th>Year</th>\n",
       "      <th>Pass/Fail</th>\n",
       "      <th>Previous_GPA</th>\n",
       "      <th>one_credit_course_1_ca</th>\n",
       "      <th>one_credit_course_1_grade</th>\n",
       "      <th>...</th>\n",
       "      <th>two_credit_course_3_attendance</th>\n",
       "      <th>two_credit_course_4_ca</th>\n",
       "      <th>two_credit_course_4_grade</th>\n",
       "      <th>two_credit_course_4_attendance</th>\n",
       "      <th>two_credit_course_5_ca</th>\n",
       "      <th>two_credit_course_5_grade</th>\n",
       "      <th>two_credit_course_5_attendance</th>\n",
       "      <th>two_credit_course_6_ca</th>\n",
       "      <th>two_credit_course_6_grade</th>\n",
       "      <th>two_credit_course_6_attendance</th>\n",
       "    </tr>\n",
       "  </thead>\n",
       "  <tbody>\n",
       "    <tr>\n",
       "      <th>0</th>\n",
       "      <td>Female</td>\n",
       "      <td>2</td>\n",
       "      <td>Yes</td>\n",
       "      <td>No</td>\n",
       "      <td>Yes</td>\n",
       "      <td>first</td>\n",
       "      <td>0</td>\n",
       "      <td>4</td>\n",
       "      <td>0.828571</td>\n",
       "      <td>3.3</td>\n",
       "      <td>...</td>\n",
       "      <td>1</td>\n",
       "      <td>0.857143</td>\n",
       "      <td>2.0</td>\n",
       "      <td>1</td>\n",
       "      <td>0.885714</td>\n",
       "      <td>3.0</td>\n",
       "      <td>1</td>\n",
       "      <td>0.257143</td>\n",
       "      <td>1.7</td>\n",
       "      <td>1</td>\n",
       "    </tr>\n",
       "    <tr>\n",
       "      <th>1</th>\n",
       "      <td>Male</td>\n",
       "      <td>1</td>\n",
       "      <td>Yes</td>\n",
       "      <td>Yes</td>\n",
       "      <td>No</td>\n",
       "      <td>first</td>\n",
       "      <td>1</td>\n",
       "      <td>4</td>\n",
       "      <td>0.828571</td>\n",
       "      <td>4.0</td>\n",
       "      <td>...</td>\n",
       "      <td>1</td>\n",
       "      <td>0.600000</td>\n",
       "      <td>3.3</td>\n",
       "      <td>1</td>\n",
       "      <td>0.685714</td>\n",
       "      <td>2.7</td>\n",
       "      <td>1</td>\n",
       "      <td>0.628571</td>\n",
       "      <td>2.0</td>\n",
       "      <td>1</td>\n",
       "    </tr>\n",
       "    <tr>\n",
       "      <th>2</th>\n",
       "      <td>Male</td>\n",
       "      <td>2</td>\n",
       "      <td>Yes</td>\n",
       "      <td>Yes</td>\n",
       "      <td>No</td>\n",
       "      <td>first</td>\n",
       "      <td>1</td>\n",
       "      <td>4</td>\n",
       "      <td>0.885714</td>\n",
       "      <td>4.0</td>\n",
       "      <td>...</td>\n",
       "      <td>1</td>\n",
       "      <td>0.800000</td>\n",
       "      <td>4.0</td>\n",
       "      <td>1</td>\n",
       "      <td>0.828571</td>\n",
       "      <td>2.7</td>\n",
       "      <td>1</td>\n",
       "      <td>0.428571</td>\n",
       "      <td>2.0</td>\n",
       "      <td>1</td>\n",
       "    </tr>\n",
       "    <tr>\n",
       "      <th>3</th>\n",
       "      <td>Male</td>\n",
       "      <td>4</td>\n",
       "      <td>No</td>\n",
       "      <td>No</td>\n",
       "      <td>No</td>\n",
       "      <td>first</td>\n",
       "      <td>0</td>\n",
       "      <td>4</td>\n",
       "      <td>0.400000</td>\n",
       "      <td>2.7</td>\n",
       "      <td>...</td>\n",
       "      <td>1</td>\n",
       "      <td>0.485714</td>\n",
       "      <td>2.7</td>\n",
       "      <td>1</td>\n",
       "      <td>0.542857</td>\n",
       "      <td>3.0</td>\n",
       "      <td>1</td>\n",
       "      <td>0.514286</td>\n",
       "      <td>2.3</td>\n",
       "      <td>1</td>\n",
       "    </tr>\n",
       "    <tr>\n",
       "      <th>4</th>\n",
       "      <td>Male</td>\n",
       "      <td>less than 1 hour</td>\n",
       "      <td>Yes</td>\n",
       "      <td>Yes</td>\n",
       "      <td>Yes</td>\n",
       "      <td>first</td>\n",
       "      <td>0</td>\n",
       "      <td>4</td>\n",
       "      <td>0.342857</td>\n",
       "      <td>4.0</td>\n",
       "      <td>...</td>\n",
       "      <td>1</td>\n",
       "      <td>0.285714</td>\n",
       "      <td>3.3</td>\n",
       "      <td>1</td>\n",
       "      <td>0.428571</td>\n",
       "      <td>4.0</td>\n",
       "      <td>1</td>\n",
       "      <td>0.342857</td>\n",
       "      <td>3.3</td>\n",
       "      <td>1</td>\n",
       "    </tr>\n",
       "  </tbody>\n",
       "</table>\n",
       "<p>5 rows × 35 columns</p>\n",
       "</div>"
      ],
      "text/plain": [
       "   Gender       Study Hours Extracurricular_Involvement Part time job  \\\n",
       "0  Female                 2                         Yes            No   \n",
       "1    Male                 1                         Yes           Yes   \n",
       "2    Male                 2                         Yes           Yes   \n",
       "3    Male                 4                          No            No   \n",
       "4    Male  less than 1 hour                         Yes           Yes   \n",
       "\n",
       "  Struggle with English   Year  Pass/Fail  Previous_GPA  \\\n",
       "0                   Yes  first          0             4   \n",
       "1                    No  first          1             4   \n",
       "2                    No  first          1             4   \n",
       "3                    No  first          0             4   \n",
       "4                   Yes  first          0             4   \n",
       "\n",
       "   one_credit_course_1_ca  one_credit_course_1_grade  ...  \\\n",
       "0                0.828571                        3.3  ...   \n",
       "1                0.828571                        4.0  ...   \n",
       "2                0.885714                        4.0  ...   \n",
       "3                0.400000                        2.7  ...   \n",
       "4                0.342857                        4.0  ...   \n",
       "\n",
       "   two_credit_course_3_attendance  two_credit_course_4_ca  \\\n",
       "0                               1                0.857143   \n",
       "1                               1                0.600000   \n",
       "2                               1                0.800000   \n",
       "3                               1                0.485714   \n",
       "4                               1                0.285714   \n",
       "\n",
       "   two_credit_course_4_grade  two_credit_course_4_attendance  \\\n",
       "0                        2.0                               1   \n",
       "1                        3.3                               1   \n",
       "2                        4.0                               1   \n",
       "3                        2.7                               1   \n",
       "4                        3.3                               1   \n",
       "\n",
       "   two_credit_course_5_ca  two_credit_course_5_grade  \\\n",
       "0                0.885714                        3.0   \n",
       "1                0.685714                        2.7   \n",
       "2                0.828571                        2.7   \n",
       "3                0.542857                        3.0   \n",
       "4                0.428571                        4.0   \n",
       "\n",
       "   two_credit_course_5_attendance  two_credit_course_6_ca  \\\n",
       "0                               1                0.257143   \n",
       "1                               1                0.628571   \n",
       "2                               1                0.428571   \n",
       "3                               1                0.514286   \n",
       "4                               1                0.342857   \n",
       "\n",
       "   two_credit_course_6_grade  two_credit_course_6_attendance  \n",
       "0                        1.7                               1  \n",
       "1                        2.0                               1  \n",
       "2                        2.0                               1  \n",
       "3                        2.3                               1  \n",
       "4                        3.3                               1  \n",
       "\n",
       "[5 rows x 35 columns]"
      ]
     },
     "execution_count": 1361,
     "metadata": {},
     "output_type": "execute_result"
    }
   ],
   "source": [
    "df1= pd.read_csv(\"C:/Users/NYA/Desktop/XGBoost/With GPA/Dataset/sem1.csv\")\n",
    "def extract_course_data_sem1(row):\n",
    "    course_data = {}\n",
    "    for col in df1.columns:\n",
    "        if \"CO\" in col:\n",
    "            course_code = col[:6]\n",
    "            if course_code not in course_data:\n",
    "                course_data[course_code] = {\n",
    "                    'ca': row.get(course_code + \"_CA\"),\n",
    "                    'grade': row.get(course_code),\n",
    "                    'attendance': row.get(course_code + \"_attendance\"),\n",
    "                    'credit': get_credit_value(course_code)\n",
    "                }\n",
    "    return course_data\n",
    "\n",
    "\n",
    "def process_row(row):\n",
    "    course_data = extract_course_data_sem1(row)\n",
    "    new_row = {\n",
    "        \"Gender\": row['Gender'],\n",
    "        \"Study Hours\": row['Study Hours'],\n",
    "        \"Extracurricular_Involvement\": row['Extracurricular_Involvement'],\n",
    "        \"Part time job\": row['Part time job'],\n",
    "        \"Struggle with English\": row['Struggle with English'],\n",
    "        \"Year\": 'first',\n",
    "        \"Pass/Fail\" : row['1sem_pass/fail'],\n",
    "        \"Previous_GPA\" : 4\n",
    "\n",
    "    }\n",
    "\n",
    "    one_credit_courses = [course for course in course_data.values() if course['credit'] == 1]\n",
    "    for i, course in enumerate(one_credit_courses, start=1):\n",
    "        new_row[f\"one_credit_course_{i}_ca\"] = course['ca']/CA_HIGHEST\n",
    "        new_row[f\"one_credit_course_{i}_grade\"] = map_grade(course['grade'])\n",
    "        new_row[f\"one_credit_course_{i}_attendance\"] = course['attendance']\n",
    "\n",
    "    two_credit_courses = [course for course in course_data.values() if course['credit'] == 2]\n",
    "    for i, course in enumerate(two_credit_courses, start=1):\n",
    "        new_row[f\"two_credit_course_{i}_ca\"] = course['ca']/CA_HIGHEST\n",
    "        new_row[f\"two_credit_course_{i}_grade\"] = map_grade(course['grade'])\n",
    "        new_row[f\"two_credit_course_{i}_attendance\"] = course['attendance']\n",
    "\n",
    "\n",
    "    three_credit_courses = [course for course in course_data.values() if course['credit'] == 3]\n",
    "    for i, course in enumerate(three_credit_courses, start=1):\n",
    "        new_row[f\"three_credit_course_{i}_ca\"] = course['ca']/CA_HIGHEST\n",
    "        new_row[f\"three_credit_course_{i}_grade\"] = map_grade(course['grade'])\n",
    "        new_row[f\"three_credit_course_{i}_attendance\"] = course['attendance']\n",
    "\n",
    "    return new_row\n",
    "\n",
    "\n",
    "# Apply the processing function to the dataframe\n",
    "processed_df1= pd.DataFrame(df1.apply(process_row, axis=1).tolist())\n",
    "processed_df1.head()\n",
    "\n"
   ]
  },
  {
   "cell_type": "markdown",
   "metadata": {
    "id": "T3gWV0tTfspu"
   },
   "source": [
    "## Pre-processing Semester 2 Data"
   ]
  },
  {
   "cell_type": "code",
   "execution_count": 1362,
   "metadata": {
    "colab": {
     "base_uri": "https://localhost:8080/",
     "height": 0
    },
    "id": "yR8M4xnj4as5",
    "outputId": "ece746f2-dc56-4ebb-8e7b-aee119481ff3"
   },
   "outputs": [
    {
     "data": {
      "text/plain": [
       "Index(['Gender', 'Study Hours', 'Extracurricular_Involvement', 'Part time job',\n",
       "       'Struggle with English', 'Year', 'Pass/Fail', 'Previous_GPA',\n",
       "       'one_credit_course_1_ca', 'one_credit_course_1_grade',\n",
       "       'one_credit_course_1_attendance', 'one_credit_course_2_ca',\n",
       "       'one_credit_course_2_grade', 'one_credit_course_2_attendance',\n",
       "       'one_credit_course_3_ca', 'one_credit_course_3_grade',\n",
       "       'one_credit_course_3_attendance', 'two_credit_course_1_ca',\n",
       "       'two_credit_course_1_grade', 'two_credit_course_1_attendance',\n",
       "       'two_credit_course_2_ca', 'two_credit_course_2_grade',\n",
       "       'two_credit_course_2_attendance', 'two_credit_course_3_ca',\n",
       "       'two_credit_course_3_grade', 'two_credit_course_3_attendance',\n",
       "       'two_credit_course_4_ca', 'two_credit_course_4_grade',\n",
       "       'two_credit_course_4_attendance', 'two_credit_course_5_ca',\n",
       "       'two_credit_course_5_grade', 'two_credit_course_5_attendance',\n",
       "       'two_credit_course_6_ca', 'two_credit_course_6_grade',\n",
       "       'two_credit_course_6_attendance'],\n",
       "      dtype='object')"
      ]
     },
     "execution_count": 1362,
     "metadata": {},
     "output_type": "execute_result"
    }
   ],
   "source": [
    "df2 = pd.read_csv(\"C:/Users/NYA/Desktop/XGBoost/With GPA/Dataset/sem2.csv\")\n",
    "def extract_course_data_sem2(row):\n",
    "    course_data = {}\n",
    "    for col in df2.columns:\n",
    "        if \"CO\" in col:\n",
    "            course_code = col[:6]\n",
    "            if course_code not in course_data:\n",
    "                course_data[course_code] = {\n",
    "                    'ca': row.get(course_code + \"_CA\"),\n",
    "                    'grade': row.get(course_code),\n",
    "                    'attendance': row.get(course_code + \"_attendance\"),\n",
    "                    'credit': get_credit_value(course_code)\n",
    "                }\n",
    "    return course_data\n",
    "\n",
    "\n",
    "def process_row(row):\n",
    "    course_data = extract_course_data_sem2(row)\n",
    "    new_row = {\n",
    "        \"Gender\": row['Gender'],\n",
    "        \"Study Hours\": row['Study Hours'],\n",
    "        \"Extracurricular_Involvement\": row['Extracurricular_Involvement'],\n",
    "        \"Part time job\": row['Part time job'],\n",
    "        \"Struggle with English\": row['Struggle with English'],\n",
    "        \"Year\": 'first',\n",
    "        \"Pass/Fail\" : row['2sem_pass/fail'],\n",
    "         \"Previous_GPA\" : row['1st_sem_GPA']\n",
    "    }\n",
    "\n",
    "    one_credit_courses = [course for course in course_data.values() if course['credit'] == 1]\n",
    "    for i, course in enumerate(one_credit_courses, start=1):\n",
    "        new_row[f\"one_credit_course_{i}_ca\"] = course['ca']/CA_HIGHEST\n",
    "        new_row[f\"one_credit_course_{i}_grade\"] = map_grade(course['grade'])\n",
    "        new_row[f\"one_credit_course_{i}_attendance\"] = course['attendance']\n",
    "\n",
    "    two_credit_courses = [course for course in course_data.values() if course['credit'] == 2]\n",
    "    for i, course in enumerate(two_credit_courses, start=1):\n",
    "        new_row[f\"two_credit_course_{i}_ca\"] = course['ca']/CA_HIGHEST\n",
    "        new_row[f\"two_credit_course_{i}_grade\"] = map_grade(course['grade'])\n",
    "        new_row[f\"two_credit_course_{i}_attendance\"] = course['attendance']\n",
    "\n",
    "\n",
    "    three_credit_courses = [course for course in course_data.values() if course['credit'] == 3]\n",
    "    for i, course in enumerate(three_credit_courses, start=1):\n",
    "        new_row[f\"three_credit_course_{i}_ca\"] = course['ca']/CA_HIGHEST\n",
    "        new_row[f\"three_credit_course_{i}_grade\"] = map_grade(course['grade'])\n",
    "        new_row[f\"three_credit_course_{i}_attendance\"] = course['attendance']\n",
    "\n",
    "    return new_row\n",
    "\n",
    "\n",
    "\n",
    "processed_df2= pd.DataFrame(df2.apply(process_row, axis=1).tolist())\n",
    "processed_df2.head()\n",
    "processed_df2.columns"
   ]
  },
  {
   "cell_type": "markdown",
   "metadata": {
    "id": "F4z-oUCc6isV"
   },
   "source": [
    "## Pre-processing Semester 3 Data"
   ]
  },
  {
   "cell_type": "code",
   "execution_count": 1363,
   "metadata": {
    "colab": {
     "base_uri": "https://localhost:8080/",
     "height": 0
    },
    "id": "w7soCQpz6vez",
    "outputId": "05f4561c-a111-4e5d-bcd7-e0565f741717"
   },
   "outputs": [
    {
     "data": {
      "text/plain": [
       "Index(['Gender', 'Study Hours', 'Extracurricular_Involvement', 'Part time job',\n",
       "       'Struggle with English', 'Year', 'Pass/Fail', 'Previous_GPA',\n",
       "       'one_credit_course_1_ca', 'one_credit_course_1_grade',\n",
       "       'one_credit_course_1_attendance', 'one_credit_course_2_ca',\n",
       "       'one_credit_course_2_grade', 'one_credit_course_2_attendance',\n",
       "       'one_credit_course_3_ca', 'one_credit_course_3_grade',\n",
       "       'one_credit_course_3_attendance', 'two_credit_course_1_ca',\n",
       "       'two_credit_course_1_grade', 'two_credit_course_1_attendance',\n",
       "       'two_credit_course_2_ca', 'two_credit_course_2_grade',\n",
       "       'two_credit_course_2_attendance', 'two_credit_course_3_ca',\n",
       "       'two_credit_course_3_grade', 'two_credit_course_3_attendance',\n",
       "       'two_credit_course_4_ca', 'two_credit_course_4_grade',\n",
       "       'two_credit_course_4_attendance', 'two_credit_course_5_ca',\n",
       "       'two_credit_course_5_grade', 'two_credit_course_5_attendance',\n",
       "       'two_credit_course_6_ca', 'two_credit_course_6_grade',\n",
       "       'two_credit_course_6_attendance'],\n",
       "      dtype='object')"
      ]
     },
     "execution_count": 1363,
     "metadata": {},
     "output_type": "execute_result"
    }
   ],
   "source": [
    "df3 = pd.read_csv(\"C:/Users/NYA/Desktop/XGBoost/With GPA/Dataset/sem3.csv\")\n",
    "def extract_course_data_sem3(row):\n",
    "    course_data = {}\n",
    "    for col in df3.columns:\n",
    "        if \"CO\" in col:\n",
    "            course_code = col[:6]\n",
    "            if course_code not in course_data:\n",
    "                course_data[course_code] = {\n",
    "                    'ca': row.get(course_code + \"_CA\"),\n",
    "                    'grade': row.get(course_code),\n",
    "                    'attendance': row.get(course_code + \"_attendance\"),\n",
    "                    'credit': get_credit_value(course_code)\n",
    "                }\n",
    "    return course_data\n",
    "\n",
    "\n",
    "def process_row(row):\n",
    "    course_data = extract_course_data_sem3(row)\n",
    "    new_row = {\n",
    "        \"Gender\": row['Gender'],\n",
    "        \"Study Hours\": row['Study Hours'],\n",
    "        \"Extracurricular_Involvement\": row['Extracurricular_Involvement'],\n",
    "        \"Part time job\": row['Part time job'],\n",
    "        \"Struggle with English\": row['Struggle with English'],\n",
    "        \"Year\": 'second',\n",
    "        \"Pass/Fail\" : row['3sem_pass/fail'],\n",
    "         \"Previous_GPA\" : row['2nd_sem_GPA']\n",
    "    }\n",
    "\n",
    "    one_credit_courses = [course for course in course_data.values() if course['credit'] == 1]\n",
    "    for i, course in enumerate(one_credit_courses, start=1):\n",
    "        new_row[f\"one_credit_course_{i}_ca\"] = course['ca']/CA_HIGHEST\n",
    "        new_row[f\"one_credit_course_{i}_grade\"] = map_grade(course['grade'])\n",
    "        new_row[f\"one_credit_course_{i}_attendance\"] = course['attendance']\n",
    "\n",
    "    two_credit_courses = [course for course in course_data.values() if course['credit'] == 2]\n",
    "    for i, course in enumerate(two_credit_courses, start=1):\n",
    "        new_row[f\"two_credit_course_{i}_ca\"] = course['ca']/CA_HIGHEST\n",
    "        new_row[f\"two_credit_course_{i}_grade\"] = map_grade(course['grade'])\n",
    "        new_row[f\"two_credit_course_{i}_attendance\"] = course['attendance']\n",
    "\n",
    "\n",
    "    three_credit_courses = [course for course in course_data.values() if course['credit'] == 3]\n",
    "    for i, course in enumerate(three_credit_courses, start=1):\n",
    "        new_row[f\"three_credit_course_{i}_ca\"] = course['ca']/CA_HIGHEST\n",
    "        new_row[f\"three_credit_course_{i}_grade\"] = map_grade(course['grade'])\n",
    "        new_row[f\"three_credit_course_{i}_attendance\"] = course['attendance']\n",
    "\n",
    "    return new_row\n",
    "\n",
    "\n",
    "\n",
    "processed_df3= pd.DataFrame(df3.apply(process_row, axis=1).tolist())\n",
    "processed_df3.head()\n",
    "processed_df3.columns"
   ]
  },
  {
   "cell_type": "markdown",
   "metadata": {
    "id": "5TldMAd56poV"
   },
   "source": [
    "## Pre-processing Semester 4 **Data**"
   ]
  },
  {
   "cell_type": "code",
   "execution_count": 1364,
   "metadata": {
    "colab": {
     "base_uri": "https://localhost:8080/",
     "height": 0
    },
    "id": "vtkykgqD7I1Q",
    "outputId": "f3865730-a3e4-4c33-b7dd-04eaef172e87"
   },
   "outputs": [
    {
     "data": {
      "text/plain": [
       "Index(['Gender', 'Study Hours', 'Extracurricular_Involvement', 'Part time job',\n",
       "       'Struggle with English', 'Year', 'Pass/Fail', 'Previous_GPA',\n",
       "       'one_credit_course_1_ca', 'one_credit_course_1_grade',\n",
       "       'one_credit_course_1_attendance', 'one_credit_course_2_ca',\n",
       "       'one_credit_course_2_grade', 'one_credit_course_2_attendance',\n",
       "       'one_credit_course_3_ca', 'one_credit_course_3_grade',\n",
       "       'one_credit_course_3_attendance', 'two_credit_course_1_ca',\n",
       "       'two_credit_course_1_grade', 'two_credit_course_1_attendance',\n",
       "       'two_credit_course_2_ca', 'two_credit_course_2_grade',\n",
       "       'two_credit_course_2_attendance', 'two_credit_course_3_ca',\n",
       "       'two_credit_course_3_grade', 'two_credit_course_3_attendance',\n",
       "       'two_credit_course_4_ca', 'two_credit_course_4_grade',\n",
       "       'two_credit_course_4_attendance', 'two_credit_course_5_ca',\n",
       "       'two_credit_course_5_grade', 'two_credit_course_5_attendance',\n",
       "       'two_credit_course_6_ca', 'two_credit_course_6_grade',\n",
       "       'two_credit_course_6_attendance'],\n",
       "      dtype='object')"
      ]
     },
     "execution_count": 1364,
     "metadata": {},
     "output_type": "execute_result"
    }
   ],
   "source": [
    "df4 = pd.read_csv(\"C:/Users/NYA/Desktop/XGBoost/With GPA/Dataset/sem4.csv\")\n",
    "def extract_course_data_sem4(row):\n",
    "    course_data = {}\n",
    "    for col in df4.columns:\n",
    "        if \"CO\" in col:\n",
    "            course_code = col[:6]\n",
    "            if course_code not in course_data:\n",
    "                course_data[course_code] = {\n",
    "                    'ca': row.get(course_code + \"_CA\"),\n",
    "                    'grade': row.get(course_code),\n",
    "                    'attendance': row.get(course_code + \"_attendance\"),\n",
    "                    'credit': get_credit_value(course_code)\n",
    "                }\n",
    "    return course_data\n",
    "\n",
    "\n",
    "def process_row(row):\n",
    "    course_data = extract_course_data_sem4(row)\n",
    "    new_row = {\n",
    "        \"Gender\": row['Gender'],\n",
    "        \"Study Hours\": row['Study Hours'],\n",
    "        \"Extracurricular_Involvement\": row['Extracurricular_Involvement'],\n",
    "        \"Part time job\": row['Part time job'],\n",
    "        \"Struggle with English\": row['Struggle with English'],\n",
    "        \"Year\": 'second',\n",
    "        \"Pass/Fail\" : row['4sem_pass/fail'],\n",
    "         \"Previous_GPA\" : row['3rd_sem_GPA']\n",
    "    }\n",
    "\n",
    "    one_credit_courses = [course for course in course_data.values() if course['credit'] == 1]\n",
    "    for i, course in enumerate(one_credit_courses, start=1):\n",
    "        new_row[f\"one_credit_course_{i}_ca\"] = course['ca']/CA_HIGHEST\n",
    "        new_row[f\"one_credit_course_{i}_grade\"] = map_grade(course['grade'])\n",
    "        new_row[f\"one_credit_course_{i}_attendance\"] = course['attendance']\n",
    "\n",
    "    two_credit_courses = [course for course in course_data.values() if course['credit'] == 2]\n",
    "    for i, course in enumerate(two_credit_courses, start=1):\n",
    "        new_row[f\"two_credit_course_{i}_ca\"] = course['ca']/CA_HIGHEST\n",
    "        new_row[f\"two_credit_course_{i}_grade\"] = map_grade(course['grade'])\n",
    "        new_row[f\"two_credit_course_{i}_attendance\"] = course['attendance']\n",
    "\n",
    "\n",
    "    three_credit_courses = [course for course in course_data.values() if course['credit'] == 3]\n",
    "    for i, course in enumerate(three_credit_courses, start=1):\n",
    "        new_row[f\"three_credit_course_{i}_ca\"] = course['ca']/CA_HIGHEST\n",
    "        new_row[f\"three_credit_course_{i}_grade\"] = map_grade(course['grade'])\n",
    "        new_row[f\"three_credit_course_{i}_attendance\"] = course['attendance']\n",
    "\n",
    "    return new_row\n",
    "\n",
    "\n",
    "\n",
    "processed_df4= pd.DataFrame(df4.apply(process_row, axis=1).tolist())\n",
    "processed_df4.head()\n",
    "processed_df4.columns"
   ]
  },
  {
   "cell_type": "markdown",
   "metadata": {
    "id": "p2FWAp-MCNpP"
   },
   "source": [
    "# Pre-processing Semester 5 Data"
   ]
  },
  {
   "cell_type": "code",
   "execution_count": 1365,
   "metadata": {
    "colab": {
     "base_uri": "https://localhost:8080/",
     "height": 0
    },
    "id": "vAF93eBpCS0_",
    "outputId": "2016170e-dc86-41dd-e991-0609b2fe1d03"
   },
   "outputs": [
    {
     "data": {
      "text/plain": [
       "Index(['Gender', 'Study Hours', 'Extracurricular_Involvement', 'Part time job',\n",
       "       'Struggle with English', 'Year', 'Pass/Fail', 'Previous_GPA',\n",
       "       'one_credit_course_1_ca', 'one_credit_course_1_grade',\n",
       "       'one_credit_course_1_attendance', 'one_credit_course_2_ca',\n",
       "       'one_credit_course_2_grade', 'one_credit_course_2_attendance',\n",
       "       'one_credit_course_3_ca', 'one_credit_course_3_grade',\n",
       "       'one_credit_course_3_attendance', 'one_credit_course_4_ca',\n",
       "       'one_credit_course_4_grade', 'one_credit_course_4_attendance',\n",
       "       'two_credit_course_1_ca', 'two_credit_course_1_grade',\n",
       "       'two_credit_course_1_attendance', 'two_credit_course_2_ca',\n",
       "       'two_credit_course_2_grade', 'two_credit_course_2_attendance',\n",
       "       'two_credit_course_3_ca', 'two_credit_course_3_grade',\n",
       "       'two_credit_course_3_attendance', 'two_credit_course_4_ca',\n",
       "       'two_credit_course_4_grade', 'two_credit_course_4_attendance',\n",
       "       'three_credit_course_1_ca', 'three_credit_course_1_grade',\n",
       "       'three_credit_course_1_attendance'],\n",
       "      dtype='object')"
      ]
     },
     "execution_count": 1365,
     "metadata": {},
     "output_type": "execute_result"
    }
   ],
   "source": [
    "df5 = pd.read_csv(\"C:/Users/NYA/Desktop/XGBoost/With GPA/Dataset/sem5.csv\")\n",
    "def extract_course_data_sem5(row):\n",
    "    course_data = {}\n",
    "    for col in df5.columns:\n",
    "        if \"CS\" in col:\n",
    "            course_code = col[:6]\n",
    "            if course_code not in course_data:\n",
    "                course_data[course_code] = {\n",
    "                    'ca': row.get(course_code + \"_CA\"),\n",
    "                    'grade': row.get(course_code),\n",
    "                    'attendance': row.get(course_code + \"_attendance\"),\n",
    "                    'credit': get_credit_value(course_code)\n",
    "                }\n",
    "    return course_data\n",
    "\n",
    "\n",
    "def process_row(row):\n",
    "    course_data = extract_course_data_sem5(row)\n",
    "    new_row = {\n",
    "        \"Gender\": row['Gender'],\n",
    "        \"Study Hours\": row['Study Hours'],\n",
    "        \"Extracurricular_Involvement\": row['Extracurricular_Involvement'],\n",
    "        \"Part time job\": row['Part time job'],\n",
    "        \"Struggle with English\": row['Struggle with English'],\n",
    "        \"Year\": 'third',\n",
    "        \"Pass/Fail\" : row['5sem_pass/fail'],\n",
    "         \"Previous_GPA\" : row['4th_sem_GPA']\n",
    "    }\n",
    "\n",
    "    one_credit_courses = [course for course in course_data.values() if course['credit'] == 1]\n",
    "    for i, course in enumerate(one_credit_courses, start=1):\n",
    "        new_row[f\"one_credit_course_{i}_ca\"] = course['ca']/CA_HIGHEST\n",
    "        new_row[f\"one_credit_course_{i}_grade\"] = map_grade(course['grade'])\n",
    "        new_row[f\"one_credit_course_{i}_attendance\"] = course['attendance']\n",
    "\n",
    "    two_credit_courses = [course for course in course_data.values() if course['credit'] == 2]\n",
    "    for i, course in enumerate(two_credit_courses, start=1):\n",
    "        new_row[f\"two_credit_course_{i}_ca\"] = course['ca']/CA_HIGHEST\n",
    "        new_row[f\"two_credit_course_{i}_grade\"] = map_grade(course['grade'])\n",
    "        new_row[f\"two_credit_course_{i}_attendance\"] = course['attendance']\n",
    "\n",
    "\n",
    "    three_credit_courses = [course for course in course_data.values() if course['credit'] == 3]\n",
    "    for i, course in enumerate(three_credit_courses, start=1):\n",
    "        new_row[f\"three_credit_course_{i}_ca\"] = course['ca']/CA_HIGHEST\n",
    "        new_row[f\"three_credit_course_{i}_grade\"] = map_grade(course['grade'])\n",
    "        new_row[f\"three_credit_course_{i}_attendance\"] = course['attendance']\n",
    "\n",
    "    return new_row\n",
    "\n",
    "\n",
    "\n",
    "processed_df5= pd.DataFrame(df5.apply(process_row, axis=1).tolist())\n",
    "processed_df5.head()\n",
    "processed_df5.columns"
   ]
  },
  {
   "cell_type": "markdown",
   "metadata": {
    "id": "tO026TLGDVer"
   },
   "source": [
    "## Pre-Processing Semester 6 Data"
   ]
  },
  {
   "cell_type": "code",
   "execution_count": 1366,
   "metadata": {
    "colab": {
     "base_uri": "https://localhost:8080/",
     "height": 342
    },
    "id": "CZmupgiXDaMi",
    "outputId": "a24dff3b-3268-4d6d-e125-9b8592676c3f"
   },
   "outputs": [
    {
     "data": {
      "text/html": [
       "<div>\n",
       "<style scoped>\n",
       "    .dataframe tbody tr th:only-of-type {\n",
       "        vertical-align: middle;\n",
       "    }\n",
       "\n",
       "    .dataframe tbody tr th {\n",
       "        vertical-align: top;\n",
       "    }\n",
       "\n",
       "    .dataframe thead th {\n",
       "        text-align: right;\n",
       "    }\n",
       "</style>\n",
       "<table border=\"1\" class=\"dataframe\">\n",
       "  <thead>\n",
       "    <tr style=\"text-align: right;\">\n",
       "      <th></th>\n",
       "      <th>Gender</th>\n",
       "      <th>Study Hours</th>\n",
       "      <th>Extracurricular_Involvement</th>\n",
       "      <th>Part time job</th>\n",
       "      <th>Struggle with English</th>\n",
       "      <th>Year</th>\n",
       "      <th>Pass/Fail</th>\n",
       "      <th>Previous_GPA</th>\n",
       "      <th>one_credit_course_1_ca</th>\n",
       "      <th>one_credit_course_1_grade</th>\n",
       "      <th>...</th>\n",
       "      <th>two_credit_course_2_attendance</th>\n",
       "      <th>two_credit_course_3_ca</th>\n",
       "      <th>two_credit_course_3_grade</th>\n",
       "      <th>two_credit_course_3_attendance</th>\n",
       "      <th>three_credit_course_1_ca</th>\n",
       "      <th>three_credit_course_1_grade</th>\n",
       "      <th>three_credit_course_1_attendance</th>\n",
       "      <th>three_credit_course_2_ca</th>\n",
       "      <th>three_credit_course_2_grade</th>\n",
       "      <th>three_credit_course_2_attendance</th>\n",
       "    </tr>\n",
       "  </thead>\n",
       "  <tbody>\n",
       "    <tr>\n",
       "      <th>0</th>\n",
       "      <td>Female</td>\n",
       "      <td>2</td>\n",
       "      <td>Yes</td>\n",
       "      <td>No</td>\n",
       "      <td>Yes</td>\n",
       "      <td>third</td>\n",
       "      <td>1</td>\n",
       "      <td>2.806667</td>\n",
       "      <td>0.257143</td>\n",
       "      <td>4.0</td>\n",
       "      <td>...</td>\n",
       "      <td>1</td>\n",
       "      <td>0.800000</td>\n",
       "      <td>2.7</td>\n",
       "      <td>1</td>\n",
       "      <td>0.571429</td>\n",
       "      <td>2.7</td>\n",
       "      <td>1</td>\n",
       "      <td>0.771429</td>\n",
       "      <td>4.0</td>\n",
       "      <td>1</td>\n",
       "    </tr>\n",
       "    <tr>\n",
       "      <th>1</th>\n",
       "      <td>Male</td>\n",
       "      <td>1</td>\n",
       "      <td>Yes</td>\n",
       "      <td>Yes</td>\n",
       "      <td>No</td>\n",
       "      <td>third</td>\n",
       "      <td>0</td>\n",
       "      <td>2.411667</td>\n",
       "      <td>0.342857</td>\n",
       "      <td>4.0</td>\n",
       "      <td>...</td>\n",
       "      <td>1</td>\n",
       "      <td>0.542857</td>\n",
       "      <td>2.0</td>\n",
       "      <td>1</td>\n",
       "      <td>0.542857</td>\n",
       "      <td>1.7</td>\n",
       "      <td>1</td>\n",
       "      <td>0.742857</td>\n",
       "      <td>2.7</td>\n",
       "      <td>1</td>\n",
       "    </tr>\n",
       "    <tr>\n",
       "      <th>2</th>\n",
       "      <td>Male</td>\n",
       "      <td>2</td>\n",
       "      <td>Yes</td>\n",
       "      <td>Yes</td>\n",
       "      <td>No</td>\n",
       "      <td>third</td>\n",
       "      <td>1</td>\n",
       "      <td>3.218333</td>\n",
       "      <td>0.628571</td>\n",
       "      <td>4.0</td>\n",
       "      <td>...</td>\n",
       "      <td>1</td>\n",
       "      <td>0.571429</td>\n",
       "      <td>2.0</td>\n",
       "      <td>1</td>\n",
       "      <td>0.714286</td>\n",
       "      <td>4.0</td>\n",
       "      <td>1</td>\n",
       "      <td>0.714286</td>\n",
       "      <td>2.7</td>\n",
       "      <td>1</td>\n",
       "    </tr>\n",
       "    <tr>\n",
       "      <th>3</th>\n",
       "      <td>Male</td>\n",
       "      <td>4</td>\n",
       "      <td>No</td>\n",
       "      <td>No</td>\n",
       "      <td>No</td>\n",
       "      <td>third</td>\n",
       "      <td>0</td>\n",
       "      <td>1.788333</td>\n",
       "      <td>0.542857</td>\n",
       "      <td>4.0</td>\n",
       "      <td>...</td>\n",
       "      <td>1</td>\n",
       "      <td>0.142857</td>\n",
       "      <td>1.7</td>\n",
       "      <td>1</td>\n",
       "      <td>0.228571</td>\n",
       "      <td>1.3</td>\n",
       "      <td>1</td>\n",
       "      <td>0.714286</td>\n",
       "      <td>2.7</td>\n",
       "      <td>1</td>\n",
       "    </tr>\n",
       "    <tr>\n",
       "      <th>4</th>\n",
       "      <td>Male</td>\n",
       "      <td>less than 1 hour</td>\n",
       "      <td>Yes</td>\n",
       "      <td>Yes</td>\n",
       "      <td>Yes</td>\n",
       "      <td>third</td>\n",
       "      <td>1</td>\n",
       "      <td>3.095000</td>\n",
       "      <td>0.571429</td>\n",
       "      <td>3.7</td>\n",
       "      <td>...</td>\n",
       "      <td>1</td>\n",
       "      <td>0.628571</td>\n",
       "      <td>3.0</td>\n",
       "      <td>1</td>\n",
       "      <td>0.714286</td>\n",
       "      <td>3.3</td>\n",
       "      <td>1</td>\n",
       "      <td>0.685714</td>\n",
       "      <td>3.0</td>\n",
       "      <td>1</td>\n",
       "    </tr>\n",
       "  </tbody>\n",
       "</table>\n",
       "<p>5 rows × 32 columns</p>\n",
       "</div>"
      ],
      "text/plain": [
       "   Gender       Study Hours Extracurricular_Involvement Part time job  \\\n",
       "0  Female                 2                         Yes            No   \n",
       "1    Male                 1                         Yes           Yes   \n",
       "2    Male                 2                         Yes           Yes   \n",
       "3    Male                 4                          No            No   \n",
       "4    Male  less than 1 hour                         Yes           Yes   \n",
       "\n",
       "  Struggle with English   Year  Pass/Fail  Previous_GPA  \\\n",
       "0                   Yes  third          1      2.806667   \n",
       "1                    No  third          0      2.411667   \n",
       "2                    No  third          1      3.218333   \n",
       "3                    No  third          0      1.788333   \n",
       "4                   Yes  third          1      3.095000   \n",
       "\n",
       "   one_credit_course_1_ca  one_credit_course_1_grade  ...  \\\n",
       "0                0.257143                        4.0  ...   \n",
       "1                0.342857                        4.0  ...   \n",
       "2                0.628571                        4.0  ...   \n",
       "3                0.542857                        4.0  ...   \n",
       "4                0.571429                        3.7  ...   \n",
       "\n",
       "   two_credit_course_2_attendance  two_credit_course_3_ca  \\\n",
       "0                               1                0.800000   \n",
       "1                               1                0.542857   \n",
       "2                               1                0.571429   \n",
       "3                               1                0.142857   \n",
       "4                               1                0.628571   \n",
       "\n",
       "   two_credit_course_3_grade  two_credit_course_3_attendance  \\\n",
       "0                        2.7                               1   \n",
       "1                        2.0                               1   \n",
       "2                        2.0                               1   \n",
       "3                        1.7                               1   \n",
       "4                        3.0                               1   \n",
       "\n",
       "   three_credit_course_1_ca  three_credit_course_1_grade  \\\n",
       "0                  0.571429                          2.7   \n",
       "1                  0.542857                          1.7   \n",
       "2                  0.714286                          4.0   \n",
       "3                  0.228571                          1.3   \n",
       "4                  0.714286                          3.3   \n",
       "\n",
       "   three_credit_course_1_attendance  three_credit_course_2_ca  \\\n",
       "0                                 1                  0.771429   \n",
       "1                                 1                  0.742857   \n",
       "2                                 1                  0.714286   \n",
       "3                                 1                  0.714286   \n",
       "4                                 1                  0.685714   \n",
       "\n",
       "   three_credit_course_2_grade  three_credit_course_2_attendance  \n",
       "0                          4.0                                 1  \n",
       "1                          2.7                                 1  \n",
       "2                          2.7                                 1  \n",
       "3                          2.7                                 1  \n",
       "4                          3.0                                 1  \n",
       "\n",
       "[5 rows x 32 columns]"
      ]
     },
     "execution_count": 1366,
     "metadata": {},
     "output_type": "execute_result"
    }
   ],
   "source": [
    "df6 = pd.read_csv(\"C:/Users/NYA/Desktop/XGBoost/With GPA/Dataset/sem6.csv\")\n",
    "def extract_course_data_sem6(row):\n",
    "    course_data = {}\n",
    "    for col in df6.columns:\n",
    "        if \"CS\" in col:\n",
    "            course_code = col[:6]\n",
    "            if course_code not in course_data:\n",
    "                course_data[course_code] = {\n",
    "                    'ca': row.get(course_code + \"_CA\"),\n",
    "                    'grade': row.get(course_code),\n",
    "                    'attendance': row.get(course_code + \"_attendance\"),\n",
    "                    'credit': get_credit_value(course_code)\n",
    "                }\n",
    "    return course_data\n",
    "\n",
    "\n",
    "def process_row(row):\n",
    "    course_data = extract_course_data_sem6(row)\n",
    "    new_row = {\n",
    "        \"Gender\": row['Gender'],\n",
    "        \"Study Hours\": row['Study Hours'],\n",
    "        \"Extracurricular_Involvement\": row['Extracurricular_Involvement'],\n",
    "        \"Part time job\": row['Part time job'],\n",
    "        \"Struggle with English\": row['Struggle with English'],\n",
    "        \"Year\": 'third',\n",
    "        \"Pass/Fail\" : row['6sem_pass/fail'],\n",
    "         \"Previous_GPA\" : row['5th_sem_GPA']\n",
    "    }\n",
    "\n",
    "    one_credit_courses = [course for course in course_data.values() if course['credit'] == 1]\n",
    "    for i, course in enumerate(one_credit_courses, start=1):\n",
    "        new_row[f\"one_credit_course_{i}_ca\"] = course['ca']/CA_HIGHEST\n",
    "        new_row[f\"one_credit_course_{i}_grade\"] = map_grade(course['grade'])\n",
    "        new_row[f\"one_credit_course_{i}_attendance\"] = course['attendance']\n",
    "\n",
    "    two_credit_courses = [course for course in course_data.values() if course['credit'] == 2]\n",
    "    for i, course in enumerate(two_credit_courses, start=1):\n",
    "        new_row[f\"two_credit_course_{i}_ca\"] = course['ca']/CA_HIGHEST\n",
    "        new_row[f\"two_credit_course_{i}_grade\"] = map_grade(course['grade'])\n",
    "        new_row[f\"two_credit_course_{i}_attendance\"] = course['attendance']\n",
    "\n",
    "\n",
    "    three_credit_courses = [course for course in course_data.values() if course['credit'] == 3]\n",
    "    for i, course in enumerate(three_credit_courses, start=1):\n",
    "        new_row[f\"three_credit_course_{i}_ca\"] = course['ca']/CA_HIGHEST\n",
    "        new_row[f\"three_credit_course_{i}_grade\"] = map_grade(course['grade'])\n",
    "        new_row[f\"three_credit_course_{i}_attendance\"] = course['attendance']\n",
    "\n",
    "    return new_row\n",
    "\n",
    "\n",
    "\n",
    "processed_df6= pd.DataFrame(df6.apply(process_row, axis=1).tolist())\n",
    "processed_df6.head()"
   ]
  },
  {
   "cell_type": "code",
   "execution_count": 1367,
   "metadata": {
    "colab": {
     "base_uri": "https://localhost:8080/",
     "height": 0
    },
    "id": "LKB8gwOiD-UG",
    "outputId": "4cd45b5c-781e-43e6-8b1c-60a6ec3efa18"
   },
   "outputs": [
    {
     "data": {
      "text/plain": [
       "(1134, 44)"
      ]
     },
     "execution_count": 1367,
     "metadata": {},
     "output_type": "execute_result"
    }
   ],
   "source": [
    "dataframe = pd.concat([processed_df1, processed_df2, processed_df3, processed_df4, processed_df5, processed_df6], ignore_index=True)\n",
    "dataframe.shape"
   ]
  },
  {
   "cell_type": "code",
   "execution_count": 1368,
   "metadata": {
    "colab": {
     "base_uri": "https://localhost:8080/",
     "height": 0
    },
    "id": "X6DNt99QEIPZ",
    "outputId": "77d7508a-ded5-4550-bd31-de5ad58cac10"
   },
   "outputs": [
    {
     "data": {
      "text/plain": [
       "Index(['Gender', 'Study Hours', 'Extracurricular_Involvement', 'Part time job',\n",
       "       'Struggle with English', 'Year', 'Pass/Fail', 'Previous_GPA',\n",
       "       'one_credit_course_1_ca', 'one_credit_course_1_grade',\n",
       "       'one_credit_course_1_attendance', 'one_credit_course_2_ca',\n",
       "       'one_credit_course_2_grade', 'one_credit_course_2_attendance',\n",
       "       'one_credit_course_3_ca', 'one_credit_course_3_grade',\n",
       "       'one_credit_course_3_attendance', 'two_credit_course_1_ca',\n",
       "       'two_credit_course_1_grade', 'two_credit_course_1_attendance',\n",
       "       'two_credit_course_2_ca', 'two_credit_course_2_grade',\n",
       "       'two_credit_course_2_attendance', 'two_credit_course_3_ca',\n",
       "       'two_credit_course_3_grade', 'two_credit_course_3_attendance',\n",
       "       'two_credit_course_4_ca', 'two_credit_course_4_grade',\n",
       "       'two_credit_course_4_attendance', 'two_credit_course_5_ca',\n",
       "       'two_credit_course_5_grade', 'two_credit_course_5_attendance',\n",
       "       'two_credit_course_6_ca', 'two_credit_course_6_grade',\n",
       "       'two_credit_course_6_attendance', 'one_credit_course_4_ca',\n",
       "       'one_credit_course_4_grade', 'one_credit_course_4_attendance',\n",
       "       'three_credit_course_1_ca', 'three_credit_course_1_grade',\n",
       "       'three_credit_course_1_attendance', 'three_credit_course_2_ca',\n",
       "       'three_credit_course_2_grade', 'three_credit_course_2_attendance'],\n",
       "      dtype='object')"
      ]
     },
     "execution_count": 1368,
     "metadata": {},
     "output_type": "execute_result"
    }
   ],
   "source": [
    "dataframe.columns"
   ]
  },
  {
   "cell_type": "code",
   "execution_count": 1369,
   "metadata": {
    "colab": {
     "base_uri": "https://localhost:8080/",
     "height": 342
    },
    "id": "29f04CU-NMNh",
    "outputId": "9db5f25e-9316-4b0f-d58e-97b2182962d8"
   },
   "outputs": [
    {
     "data": {
      "text/html": [
       "<div>\n",
       "<style scoped>\n",
       "    .dataframe tbody tr th:only-of-type {\n",
       "        vertical-align: middle;\n",
       "    }\n",
       "\n",
       "    .dataframe tbody tr th {\n",
       "        vertical-align: top;\n",
       "    }\n",
       "\n",
       "    .dataframe thead th {\n",
       "        text-align: right;\n",
       "    }\n",
       "</style>\n",
       "<table border=\"1\" class=\"dataframe\">\n",
       "  <thead>\n",
       "    <tr style=\"text-align: right;\">\n",
       "      <th></th>\n",
       "      <th>Gender</th>\n",
       "      <th>Study Hours</th>\n",
       "      <th>Extracurricular_Involvement</th>\n",
       "      <th>Part time job</th>\n",
       "      <th>Struggle with English</th>\n",
       "      <th>Year</th>\n",
       "      <th>Pass/Fail</th>\n",
       "      <th>Previous_GPA</th>\n",
       "      <th>one_credit_course_1_ca</th>\n",
       "      <th>one_credit_course_1_grade</th>\n",
       "      <th>...</th>\n",
       "      <th>two_credit_course_6_attendance</th>\n",
       "      <th>one_credit_course_4_ca</th>\n",
       "      <th>one_credit_course_4_grade</th>\n",
       "      <th>one_credit_course_4_attendance</th>\n",
       "      <th>three_credit_course_1_ca</th>\n",
       "      <th>three_credit_course_1_grade</th>\n",
       "      <th>three_credit_course_1_attendance</th>\n",
       "      <th>three_credit_course_2_ca</th>\n",
       "      <th>three_credit_course_2_grade</th>\n",
       "      <th>three_credit_course_2_attendance</th>\n",
       "    </tr>\n",
       "  </thead>\n",
       "  <tbody>\n",
       "    <tr>\n",
       "      <th>0</th>\n",
       "      <td>Female</td>\n",
       "      <td>2</td>\n",
       "      <td>Yes</td>\n",
       "      <td>No</td>\n",
       "      <td>Yes</td>\n",
       "      <td>first</td>\n",
       "      <td>0</td>\n",
       "      <td>4.0</td>\n",
       "      <td>0.828571</td>\n",
       "      <td>3.3</td>\n",
       "      <td>...</td>\n",
       "      <td>1.0</td>\n",
       "      <td>0.0</td>\n",
       "      <td>0.0</td>\n",
       "      <td>0.0</td>\n",
       "      <td>0.0</td>\n",
       "      <td>0.0</td>\n",
       "      <td>0.0</td>\n",
       "      <td>0.0</td>\n",
       "      <td>0.0</td>\n",
       "      <td>0.0</td>\n",
       "    </tr>\n",
       "    <tr>\n",
       "      <th>1</th>\n",
       "      <td>Male</td>\n",
       "      <td>1</td>\n",
       "      <td>Yes</td>\n",
       "      <td>Yes</td>\n",
       "      <td>No</td>\n",
       "      <td>first</td>\n",
       "      <td>1</td>\n",
       "      <td>4.0</td>\n",
       "      <td>0.828571</td>\n",
       "      <td>4.0</td>\n",
       "      <td>...</td>\n",
       "      <td>1.0</td>\n",
       "      <td>0.0</td>\n",
       "      <td>0.0</td>\n",
       "      <td>0.0</td>\n",
       "      <td>0.0</td>\n",
       "      <td>0.0</td>\n",
       "      <td>0.0</td>\n",
       "      <td>0.0</td>\n",
       "      <td>0.0</td>\n",
       "      <td>0.0</td>\n",
       "    </tr>\n",
       "    <tr>\n",
       "      <th>2</th>\n",
       "      <td>Male</td>\n",
       "      <td>2</td>\n",
       "      <td>Yes</td>\n",
       "      <td>Yes</td>\n",
       "      <td>No</td>\n",
       "      <td>first</td>\n",
       "      <td>1</td>\n",
       "      <td>4.0</td>\n",
       "      <td>0.885714</td>\n",
       "      <td>4.0</td>\n",
       "      <td>...</td>\n",
       "      <td>1.0</td>\n",
       "      <td>0.0</td>\n",
       "      <td>0.0</td>\n",
       "      <td>0.0</td>\n",
       "      <td>0.0</td>\n",
       "      <td>0.0</td>\n",
       "      <td>0.0</td>\n",
       "      <td>0.0</td>\n",
       "      <td>0.0</td>\n",
       "      <td>0.0</td>\n",
       "    </tr>\n",
       "    <tr>\n",
       "      <th>3</th>\n",
       "      <td>Male</td>\n",
       "      <td>4</td>\n",
       "      <td>No</td>\n",
       "      <td>No</td>\n",
       "      <td>No</td>\n",
       "      <td>first</td>\n",
       "      <td>0</td>\n",
       "      <td>4.0</td>\n",
       "      <td>0.400000</td>\n",
       "      <td>2.7</td>\n",
       "      <td>...</td>\n",
       "      <td>1.0</td>\n",
       "      <td>0.0</td>\n",
       "      <td>0.0</td>\n",
       "      <td>0.0</td>\n",
       "      <td>0.0</td>\n",
       "      <td>0.0</td>\n",
       "      <td>0.0</td>\n",
       "      <td>0.0</td>\n",
       "      <td>0.0</td>\n",
       "      <td>0.0</td>\n",
       "    </tr>\n",
       "    <tr>\n",
       "      <th>4</th>\n",
       "      <td>Male</td>\n",
       "      <td>less than 1 hour</td>\n",
       "      <td>Yes</td>\n",
       "      <td>Yes</td>\n",
       "      <td>Yes</td>\n",
       "      <td>first</td>\n",
       "      <td>0</td>\n",
       "      <td>4.0</td>\n",
       "      <td>0.342857</td>\n",
       "      <td>4.0</td>\n",
       "      <td>...</td>\n",
       "      <td>1.0</td>\n",
       "      <td>0.0</td>\n",
       "      <td>0.0</td>\n",
       "      <td>0.0</td>\n",
       "      <td>0.0</td>\n",
       "      <td>0.0</td>\n",
       "      <td>0.0</td>\n",
       "      <td>0.0</td>\n",
       "      <td>0.0</td>\n",
       "      <td>0.0</td>\n",
       "    </tr>\n",
       "  </tbody>\n",
       "</table>\n",
       "<p>5 rows × 44 columns</p>\n",
       "</div>"
      ],
      "text/plain": [
       "   Gender       Study Hours Extracurricular_Involvement Part time job  \\\n",
       "0  Female                 2                         Yes            No   \n",
       "1    Male                 1                         Yes           Yes   \n",
       "2    Male                 2                         Yes           Yes   \n",
       "3    Male                 4                          No            No   \n",
       "4    Male  less than 1 hour                         Yes           Yes   \n",
       "\n",
       "  Struggle with English   Year  Pass/Fail  Previous_GPA  \\\n",
       "0                   Yes  first          0           4.0   \n",
       "1                    No  first          1           4.0   \n",
       "2                    No  first          1           4.0   \n",
       "3                    No  first          0           4.0   \n",
       "4                   Yes  first          0           4.0   \n",
       "\n",
       "   one_credit_course_1_ca  one_credit_course_1_grade  ...  \\\n",
       "0                0.828571                        3.3  ...   \n",
       "1                0.828571                        4.0  ...   \n",
       "2                0.885714                        4.0  ...   \n",
       "3                0.400000                        2.7  ...   \n",
       "4                0.342857                        4.0  ...   \n",
       "\n",
       "   two_credit_course_6_attendance  one_credit_course_4_ca  \\\n",
       "0                             1.0                     0.0   \n",
       "1                             1.0                     0.0   \n",
       "2                             1.0                     0.0   \n",
       "3                             1.0                     0.0   \n",
       "4                             1.0                     0.0   \n",
       "\n",
       "   one_credit_course_4_grade  one_credit_course_4_attendance  \\\n",
       "0                        0.0                             0.0   \n",
       "1                        0.0                             0.0   \n",
       "2                        0.0                             0.0   \n",
       "3                        0.0                             0.0   \n",
       "4                        0.0                             0.0   \n",
       "\n",
       "   three_credit_course_1_ca  three_credit_course_1_grade  \\\n",
       "0                       0.0                          0.0   \n",
       "1                       0.0                          0.0   \n",
       "2                       0.0                          0.0   \n",
       "3                       0.0                          0.0   \n",
       "4                       0.0                          0.0   \n",
       "\n",
       "   three_credit_course_1_attendance  three_credit_course_2_ca  \\\n",
       "0                               0.0                       0.0   \n",
       "1                               0.0                       0.0   \n",
       "2                               0.0                       0.0   \n",
       "3                               0.0                       0.0   \n",
       "4                               0.0                       0.0   \n",
       "\n",
       "   three_credit_course_2_grade  three_credit_course_2_attendance  \n",
       "0                          0.0                               0.0  \n",
       "1                          0.0                               0.0  \n",
       "2                          0.0                               0.0  \n",
       "3                          0.0                               0.0  \n",
       "4                          0.0                               0.0  \n",
       "\n",
       "[5 rows x 44 columns]"
      ]
     },
     "execution_count": 1369,
     "metadata": {},
     "output_type": "execute_result"
    }
   ],
   "source": [
    "#filling NAN values with 0\n",
    "dataframe.fillna(0, inplace=True)\n",
    "dataframe.head()"
   ]
  },
  {
   "cell_type": "markdown",
   "metadata": {
    "id": "lQtF3zspVENk"
   },
   "source": [
    "#### Pre-processing Study Hour column"
   ]
  },
  {
   "cell_type": "code",
   "execution_count": 1370,
   "metadata": {
    "colab": {
     "base_uri": "https://localhost:8080/",
     "height": 0
    },
    "id": "tVO6zaHgVLJF",
    "outputId": "30fc62c4-bf4c-4f9c-dfc0-c2e0bfac9b07"
   },
   "outputs": [
    {
     "name": "stdout",
     "output_type": "stream",
     "text": [
      "0      2\n",
      "1      1\n",
      "2      2\n",
      "3      4\n",
      "4    0.5\n",
      "Name: Study Hours, dtype: object\n"
     ]
    }
   ],
   "source": [
    "# Replace the string 'less than 1 hour' with a suitable numerical value by, 0.5\n",
    "dataframe['Study Hours'] = dataframe['Study Hours'].replace('less than 1 hour', 0.5)\n",
    "# Replace the string 'less than 1 hour' with a suitable numerical value by, 6.5\n",
    "dataframe['Study Hours'] = dataframe['Study Hours'].replace('more than 6 hours',6.5)\n",
    "print(dataframe['Study Hours'].head())\n"
   ]
  },
  {
   "cell_type": "code",
   "execution_count": 1371,
   "metadata": {
    "id": "sn1h-Gv4WDxi"
   },
   "outputs": [],
   "source": [
    "dataframe.columns\n",
    "#shuffle the dataframe\n",
    "dataframe = dataframe.sample(frac = 1)"
   ]
  },
  {
   "cell_type": "markdown",
   "metadata": {
    "id": "XO5pBX2xYSEy"
   },
   "source": [
    "## Selecting Feature Set and Independent Variables"
   ]
  },
  {
   "cell_type": "code",
   "execution_count": 1372,
   "metadata": {
    "colab": {
     "base_uri": "https://localhost:8080/",
     "height": 0
    },
    "id": "gZPbEZINYZls",
    "outputId": "941d5f5c-00ec-4ffd-92fd-9b9c0297efb6"
   },
   "outputs": [
    {
     "name": "stdout",
     "output_type": "stream",
     "text": [
      "(1134, 43)\n",
      "(1134,)\n"
     ]
    }
   ],
   "source": [
    "y = dataframe['Pass/Fail']  # Target variable\n",
    "\n",
    "# Define the feature columns (all columns except Pass/Fail)\n",
    "X = dataframe.drop('Pass/Fail', axis=1)  # Features\n",
    "\n",
    "# Check the shape of X and y to ensure they were separated correctly\n",
    "print(X.shape)\n",
    "print(y.shape)"
   ]
  },
  {
   "cell_type": "markdown",
   "metadata": {
    "id": "-XPE6KA2Uo77"
   },
   "source": [
    "## One Hot Encoder to deal with Categorical Data"
   ]
  },
  {
   "cell_type": "code",
   "execution_count": 1373,
   "metadata": {
    "colab": {
     "base_uri": "https://localhost:8080/",
     "height": 0
    },
    "id": "TBl2BIo_PwL-",
    "outputId": "4bf692b5-3e2b-430c-8edf-b713f01b9644"
   },
   "outputs": [
    {
     "data": {
      "text/plain": [
       "(1134, 49)"
      ]
     },
     "execution_count": 1373,
     "metadata": {},
     "output_type": "execute_result"
    }
   ],
   "source": [
    "from sklearn.compose import ColumnTransformer\n",
    "from sklearn.preprocessing import OneHotEncoder\n",
    "ct = ColumnTransformer(transformers=[('encoder', OneHotEncoder(), [0,2,3,4,5])], remainder='passthrough')\n",
    "X= np.array(ct.fit_transform(X))\n",
    "X.shape"
   ]
  },
  {
   "cell_type": "markdown",
   "metadata": {
    "id": "Bbcclqz3aRhT"
   },
   "source": [
    "### Splitting the data into Train and Test Set"
   ]
  },
  {
   "cell_type": "code",
   "execution_count": 1374,
   "metadata": {
    "id": "FhHiorO_YyHU"
   },
   "outputs": [],
   "source": [
    "from sklearn.model_selection import train_test_split\n",
    "X_train, X_test, y_train, y_test = train_test_split(X, y, test_size = 0.2, random_state = 42)"
   ]
  },
  {
   "cell_type": "markdown",
   "metadata": {
    "id": "wsKbdbACa5fx"
   },
   "source": [
    "### Feature Engineering for identify most important features of Feature Set"
   ]
  },
  {
   "cell_type": "code",
   "execution_count": 1375,
   "metadata": {
    "colab": {
     "base_uri": "https://localhost:8080/",
     "height": 0
    },
    "id": "H3qKHb-qbCuA",
    "outputId": "6b9a04db-b7b6-4cd3-b95a-ab026955bacc"
   },
   "outputs": [
    {
     "name": "stdout",
     "output_type": "stream",
     "text": [
      "                                        feature  importance\n",
      "26         remainder__two_credit_course_2_grade    0.347420\n",
      "38         remainder__two_credit_course_6_grade    0.137617\n",
      "29         remainder__two_credit_course_3_grade    0.135527\n",
      "17         remainder__one_credit_course_2_grade    0.096058\n",
      "32         remainder__two_credit_course_4_grade    0.078772\n",
      "23         remainder__two_credit_course_1_grade    0.042851\n",
      "14         remainder__one_credit_course_1_grade    0.037018\n",
      "44       remainder__three_credit_course_1_grade    0.035460\n",
      "43          remainder__three_credit_course_1_ca    0.025034\n",
      "35         remainder__two_credit_course_5_grade    0.011137\n",
      "34            remainder__two_credit_course_5_ca    0.008790\n",
      "12                      remainder__Previous_GPA    0.006681\n",
      "31            remainder__two_credit_course_4_ca    0.005302\n",
      "13            remainder__one_credit_course_1_ca    0.004311\n",
      "25            remainder__two_credit_course_2_ca    0.004302\n",
      "20         remainder__one_credit_course_3_grade    0.003756\n",
      "40            remainder__one_credit_course_4_ca    0.002238\n",
      "41         remainder__one_credit_course_4_grade    0.002159\n",
      "16            remainder__one_credit_course_2_ca    0.001957\n",
      "11                       remainder__Study Hours    0.001928\n",
      "37            remainder__two_credit_course_6_ca    0.001457\n",
      "48  remainder__three_credit_course_2_attendance    0.001421\n",
      "28            remainder__two_credit_course_3_ca    0.001417\n",
      "22            remainder__two_credit_course_1_ca    0.001134\n",
      "10                          encoder__Year_third    0.000986\n",
      "19            remainder__one_credit_course_3_ca    0.000798\n",
      "9                          encoder__Year_second    0.000728\n",
      "2       encoder__Extracurricular_Involvement_No    0.000674\n",
      "3      encoder__Extracurricular_Involvement_Yes    0.000452\n",
      "30    remainder__two_credit_course_3_attendance    0.000390\n",
      "6             encoder__Struggle with English_No    0.000361\n",
      "45  remainder__three_credit_course_1_attendance    0.000342\n",
      "0                        encoder__Gender_Female    0.000235\n",
      "4                     encoder__Part time job_No    0.000201\n",
      "7            encoder__Struggle with English_Yes    0.000168\n",
      "8                           encoder__Year_first    0.000146\n",
      "33    remainder__two_credit_course_4_attendance    0.000122\n",
      "36    remainder__two_credit_course_5_attendance    0.000114\n",
      "46          remainder__three_credit_course_2_ca    0.000113\n",
      "5                    encoder__Part time job_Yes    0.000104\n",
      "24    remainder__two_credit_course_1_attendance    0.000100\n",
      "47       remainder__three_credit_course_2_grade    0.000094\n",
      "42    remainder__one_credit_course_4_attendance    0.000036\n",
      "1                          encoder__Gender_Male    0.000035\n",
      "21    remainder__one_credit_course_3_attendance    0.000031\n",
      "27    remainder__two_credit_course_2_attendance    0.000024\n",
      "15    remainder__one_credit_course_1_attendance    0.000000\n",
      "18    remainder__one_credit_course_2_attendance    0.000000\n",
      "39    remainder__two_credit_course_6_attendance    0.000000\n"
     ]
    }
   ],
   "source": [
    "from sklearn.ensemble import RandomForestRegressor  # Example model\n",
    "\n",
    "# Train a RandomForestRegressor (you can use any other model like RandomForestClassifier if it's classification)\n",
    "model = RandomForestRegressor(random_state=42)\n",
    "model.fit(X_train, y_train)\n",
    "\n",
    "# Get feature importance\n",
    "importances = model.feature_importances_\n",
    "\n",
    "# Get the names of the encoded features from the ColumnTransformer\n",
    "# Categorical features were one-hot encoded, so we get the new feature names\n",
    "encoded_feature_names = ct.get_feature_names_out()\n",
    "\n",
    "# Combine the encoded feature names with their importance\n",
    "feature_importance = pd.DataFrame({\n",
    "    'feature': encoded_feature_names,\n",
    "    'importance': importances\n",
    "})\n",
    "\n",
    "# Sort the features by importance\n",
    "feature_importance = feature_importance.sort_values(by='importance', ascending=False)\n",
    "\n",
    "# Display the feature importance\n",
    "print(feature_importance)\n",
    "\n",
    "\n"
   ]
  },
  {
   "cell_type": "markdown",
   "metadata": {
    "id": "BGKANJ6Feneb"
   },
   "source": [
    "### Applying a standard scaler"
   ]
  },
  {
   "cell_type": "code",
   "execution_count": 1376,
   "metadata": {
    "id": "deRMzPQWdUVs"
   },
   "outputs": [],
   "source": [
    "from sklearn.preprocessing import StandardScaler\n",
    "sc = StandardScaler()\n",
    "X_train = sc.fit_transform(X_train)\n"
   ]
  },
  {
   "cell_type": "markdown",
   "metadata": {
    "id": "rTjE96-j49Z_"
   },
   "source": [
    "### Random Forest Classifier"
   ]
  },
  {
   "cell_type": "code",
   "execution_count": 1377,
   "metadata": {
    "colab": {
     "base_uri": "https://localhost:8080/",
     "height": 0
    },
    "id": "ADsVX4OUfU5Y",
    "outputId": "fdcc89f9-ec1a-4502-befc-6fd483192e6b"
   },
   "outputs": [
    {
     "name": "stdout",
     "output_type": "stream",
     "text": [
      "Accuracy: 0.73\n",
      "Classification Report:\n",
      "              precision    recall  f1-score   support\n",
      "\n",
      "           0       1.00      0.20      0.33        76\n",
      "           1       0.71      1.00      0.83       151\n",
      "\n",
      "    accuracy                           0.73       227\n",
      "   macro avg       0.86      0.60      0.58       227\n",
      "weighted avg       0.81      0.73      0.66       227\n",
      "\n",
      "Confusion Matrix:\n",
      "[[ 15  61]\n",
      " [  0 151]]\n"
     ]
    }
   ],
   "source": [
    "from sklearn.ensemble import RandomForestClassifier\n",
    "from sklearn.metrics import accuracy_score, classification_report, confusion_matrix\n",
    "\n",
    "# Assuming X_train and X_test have already been scaled\n",
    "# X_train and X_test are already transformed using StandardScaler\n",
    "\n",
    "# Define and train the RandomForestClassifier\n",
    "classifier = RandomForestClassifier(random_state=42)\n",
    "classifier.fit(X_train, y_train)\n",
    "\n",
    "# Predict on the test data\n",
    "y_pred = classifier.predict(X_test)\n",
    "\n",
    "# Evaluate the model performance\n",
    "accuracy = accuracy_score(y_test, y_pred)\n",
    "print(f'Accuracy: {accuracy:.2f}')\n",
    "\n",
    "# Display the classification report for precision, recall, and F1-score\n",
    "print(\"Classification Report:\")\n",
    "print(classification_report(y_test, y_pred))\n",
    "\n",
    "# Display the confusion matrix\n",
    "print(\"Confusion Matrix:\")\n",
    "print(confusion_matrix(y_test, y_pred))\n"
   ]
  },
  {
   "cell_type": "code",
   "execution_count": 1378,
   "metadata": {
    "colab": {
     "base_uri": "https://localhost:8080/",
     "height": 0
    },
    "id": "N6GcNzB21Y40",
    "outputId": "10ba06c5-c917-4850-dbfe-dbf27dd472e1"
   },
   "outputs": [
    {
     "name": "stdout",
     "output_type": "stream",
     "text": [
      "Defaulting to user installation because normal site-packages is not writeable\n",
      "Requirement already satisfied: xgboost in c:\\users\\nya\\appdata\\roaming\\python\\python312\\site-packages (2.1.1)\n",
      "Requirement already satisfied: numpy in c:\\users\\nya\\appdata\\roaming\\python\\python312\\site-packages (from xgboost) (2.0.2)\n",
      "Requirement already satisfied: scipy in c:\\users\\nya\\appdata\\roaming\\python\\python312\\site-packages (from xgboost) (1.14.1)\n",
      "Note: you may need to restart the kernel to use updated packages.\n"
     ]
    },
    {
     "name": "stderr",
     "output_type": "stream",
     "text": [
      "\n",
      "[notice] A new release of pip is available: 24.0 -> 24.3.1\n",
      "[notice] To update, run: python.exe -m pip install --upgrade pip\n"
     ]
    }
   ],
   "source": [
    "%pip install xgboost"
   ]
  },
  {
   "cell_type": "markdown",
   "metadata": {
    "id": "E1vp4-XK5DHW"
   },
   "source": [
    "### XGBoost Classifier"
   ]
  },
  {
   "cell_type": "code",
   "execution_count": 1379,
   "metadata": {
    "colab": {
     "base_uri": "https://localhost:8080/",
     "height": 0
    },
    "id": "YjesrPcw3NAm",
    "outputId": "20d74ca5-e9cf-45dc-bb52-1a5557d15a08"
   },
   "outputs": [
    {
     "name": "stderr",
     "output_type": "stream",
     "text": [
      "C:\\Users\\NYA\\AppData\\Roaming\\Python\\Python312\\site-packages\\xgboost\\core.py:158: UserWarning: [23:11:59] WARNING: C:\\buildkite-agent\\builds\\buildkite-windows-cpu-autoscaling-group-i-0015a694724fa8361-1\\xgboost\\xgboost-ci-windows\\src\\learner.cc:740: \n",
      "Parameters: { \"use_label_encoder\" } are not used.\n",
      "\n",
      "  warnings.warn(smsg, UserWarning)\n"
     ]
    },
    {
     "name": "stdout",
     "output_type": "stream",
     "text": [
      "Accuracy: 0.73\n",
      "Classification Report:\n",
      "              precision    recall  f1-score   support\n",
      "\n",
      "           0       1.00      0.20      0.33        76\n",
      "           1       0.71      1.00      0.83       151\n",
      "\n",
      "    accuracy                           0.73       227\n",
      "   macro avg       0.86      0.60      0.58       227\n",
      "weighted avg       0.81      0.73      0.66       227\n",
      "\n",
      "Confusion Matrix:\n",
      "[[ 15  61]\n",
      " [  0 151]]\n"
     ]
    },
    {
     "name": "stderr",
     "output_type": "stream",
     "text": [
      "C:\\Users\\NYA\\AppData\\Roaming\\Python\\Python312\\site-packages\\xgboost\\core.py:158: UserWarning: [23:12:00] WARNING: C:\\buildkite-agent\\builds\\buildkite-windows-cpu-autoscaling-group-i-0015a694724fa8361-1\\xgboost\\xgboost-ci-windows\\src\\learner.cc:740: \n",
      "Parameters: { \"use_label_encoder\" } are not used.\n",
      "\n",
      "  warnings.warn(smsg, UserWarning)\n"
     ]
    }
   ],
   "source": [
    "from xgboost import XGBClassifier\n",
    "\n",
    "# Define and train the XGBoost classifier\n",
    "xgb_classifier = XGBClassifier(\n",
    "    n_estimators=100,\n",
    "    learning_rate=0.1,\n",
    "    max_depth=5,\n",
    "    random_state=42,\n",
    "    use_label_encoder=False,\n",
    "    eval_metric='logloss'\n",
    ")\n",
    "xgb_classifier.fit(X_train, y_train)\n",
    "\n",
    "xgb_classifier.fit(X_train, y_train)\n",
    "\n",
    "# Predict on the test data\n",
    "y_pred = xgb_classifier.predict(X_test)\n",
    "\n",
    "# Evaluate the model performance\n",
    "accuracy = accuracy_score(y_test, y_pred)\n",
    "print(f'Accuracy: {accuracy:.2f}')\n",
    "\n",
    "# Display the classification report for precision, recall, and F1-score\n",
    "print(\"Classification Report:\")\n",
    "print(classification_report(y_test, y_pred))\n",
    "\n",
    "# Display the confusion matrix\n",
    "print(\"Confusion Matrix:\")\n",
    "print(confusion_matrix(y_test, y_pred))\n"
   ]
  },
  {
   "cell_type": "markdown",
   "metadata": {
    "id": "o0vPu8Ti5VnZ"
   },
   "source": [
    "### Decision Tree Classifier"
   ]
  },
  {
   "cell_type": "code",
   "execution_count": 1380,
   "metadata": {
    "colab": {
     "base_uri": "https://localhost:8080/",
     "height": 0
    },
    "id": "zbYR65wh5SKT",
    "outputId": "cfa9e643-6c03-4f48-9115-23cd80e4372b"
   },
   "outputs": [
    {
     "name": "stdout",
     "output_type": "stream",
     "text": [
      "Accuracy: 0.73\n",
      "Classification Report:\n",
      "              precision    recall  f1-score   support\n",
      "\n",
      "           0       1.00      0.20      0.33        76\n",
      "           1       0.71      1.00      0.83       151\n",
      "\n",
      "    accuracy                           0.73       227\n",
      "   macro avg       0.86      0.60      0.58       227\n",
      "weighted avg       0.81      0.73      0.66       227\n",
      "\n",
      "Confusion Matrix:\n",
      "[[ 15  61]\n",
      " [  0 151]]\n"
     ]
    }
   ],
   "source": [
    "from sklearn.tree import DecisionTreeClassifier\n",
    "from sklearn.metrics import accuracy_score, classification_report, confusion_matrix\n",
    "\n",
    "# Define and train the Decision Tree classifier\n",
    "dt_classifier = DecisionTreeClassifier(random_state=42)\n",
    "dt_classifier.fit(X_train, y_train)\n",
    "\n",
    "# Predict on the test data\n",
    "y_pred = dt_classifier.predict(X_test)\n",
    "\n",
    "# Evaluate the model performance\n",
    "accuracy = accuracy_score(y_test, y_pred)\n",
    "print(f'Accuracy: {accuracy:.2f}')\n",
    "\n",
    "# Display the classification report for precision, recall, and F1-score\n",
    "print(\"Classification Report:\")\n",
    "print(classification_report(y_test, y_pred))\n",
    "\n",
    "# Display the confusion matrix\n",
    "print(\"Confusion Matrix:\")\n",
    "print(confusion_matrix(y_test, y_pred))\n"
   ]
  },
  {
   "cell_type": "markdown",
   "metadata": {
    "id": "g7YNLjKPMX2h"
   },
   "source": []
  },
  {
   "cell_type": "code",
   "execution_count": 1381,
   "metadata": {
    "colab": {
     "base_uri": "https://localhost:8080/",
     "height": 0
    },
    "id": "hfBmvebnMYr3",
    "outputId": "35317fd6-907c-48fb-b7b0-053aeedcc72b"
   },
   "outputs": [
    {
     "data": {
      "text/plain": [
       "Index(['Gender', 'Study Hours', 'Extracurricular_Involvement', 'Part time job',\n",
       "       'Struggle with English', 'Year', 'Pass/Fail', 'Previous_GPA',\n",
       "       'one_credit_course_1_ca', 'one_credit_course_1_grade',\n",
       "       'one_credit_course_1_attendance', 'one_credit_course_2_ca',\n",
       "       'one_credit_course_2_grade', 'one_credit_course_2_attendance',\n",
       "       'one_credit_course_3_ca', 'one_credit_course_3_grade',\n",
       "       'one_credit_course_3_attendance', 'two_credit_course_1_ca',\n",
       "       'two_credit_course_1_grade', 'two_credit_course_1_attendance',\n",
       "       'two_credit_course_2_ca', 'two_credit_course_2_grade',\n",
       "       'two_credit_course_2_attendance', 'two_credit_course_3_ca',\n",
       "       'two_credit_course_3_grade', 'two_credit_course_3_attendance',\n",
       "       'two_credit_course_4_ca', 'two_credit_course_4_grade',\n",
       "       'two_credit_course_4_attendance', 'two_credit_course_5_ca',\n",
       "       'two_credit_course_5_grade', 'two_credit_course_5_attendance',\n",
       "       'two_credit_course_6_ca', 'two_credit_course_6_grade',\n",
       "       'two_credit_course_6_attendance', 'one_credit_course_4_ca',\n",
       "       'one_credit_course_4_grade', 'one_credit_course_4_attendance',\n",
       "       'three_credit_course_1_ca', 'three_credit_course_1_grade',\n",
       "       'three_credit_course_1_attendance', 'three_credit_course_2_ca',\n",
       "       'three_credit_course_2_grade', 'three_credit_course_2_attendance'],\n",
       "      dtype='object')"
      ]
     },
     "execution_count": 1381,
     "metadata": {},
     "output_type": "execute_result"
    }
   ],
   "source": [
    "dataframe.columns"
   ]
  },
  {
   "cell_type": "markdown",
   "metadata": {
    "id": "5cXe3b5-5Rva"
   },
   "source": [
    "## Model training only with continous assessment marks and other features except final grades of subjects"
   ]
  },
  {
   "cell_type": "code",
   "execution_count": 1382,
   "metadata": {
    "colab": {
     "base_uri": "https://localhost:8080/",
     "height": 0
    },
    "id": "WAT9CdD9Fgua",
    "outputId": "919740cc-1235-49ef-fba5-04142596982b"
   },
   "outputs": [
    {
     "data": {
      "text/plain": [
       "(1134, 32)"
      ]
     },
     "execution_count": 1382,
     "metadata": {},
     "output_type": "execute_result"
    }
   ],
   "source": [
    "filtered_dataframe = dataframe[[col for col in dataframe.columns if 'grade' not in col]]\n",
    "filtered_dataframe.columns\n",
    "filtered_dataframe.shape"
   ]
  },
  {
   "cell_type": "code",
   "execution_count": 1383,
   "metadata": {
    "colab": {
     "base_uri": "https://localhost:8080/",
     "height": 0
    },
    "id": "-ZQADZTpHZzS",
    "outputId": "38714df0-4db2-47e8-f974-696928449c04"
   },
   "outputs": [
    {
     "name": "stdout",
     "output_type": "stream",
     "text": [
      "(1134, 31)\n",
      "(1134,)\n"
     ]
    }
   ],
   "source": [
    "y = filtered_dataframe['Pass/Fail']  # Target variable\n",
    "\n",
    "# Define the feature columns (all columns except Pass/Fail)\n",
    "X = filtered_dataframe.drop('Pass/Fail', axis=1)  # Features\n",
    "\n",
    "# Check the shape of X and y to ensure they were separated correctly\n",
    "print(X.shape)\n",
    "print(y.shape)\n",
    "\n"
   ]
  },
  {
   "cell_type": "code",
   "execution_count": 1384,
   "metadata": {
    "colab": {
     "base_uri": "https://localhost:8080/",
     "height": 0
    },
    "id": "V2e-O4sJGvAC",
    "outputId": "44c1a9b5-5a43-4d68-dde5-bd1ad48b6c81"
   },
   "outputs": [
    {
     "name": "stdout",
     "output_type": "stream",
     "text": [
      "X Shape :{} (1134, 31)\n",
      "(1134, 37)\n"
     ]
    }
   ],
   "source": [
    "from sklearn.compose import ColumnTransformer\n",
    "from sklearn.preprocessing import OneHotEncoder\n",
    "print(\"X Shape :{}\" ,X.shape)\n",
    "ct = ColumnTransformer(transformers=[('encoder', OneHotEncoder(categories = \"auto\", handle_unknown = \"ignore\"), [0,2,3,4,5])], remainder='passthrough')\n",
    "X= np.array(ct.fit_transform(X))\n",
    "print(X.shape)\n"
   ]
  },
  {
   "cell_type": "code",
   "execution_count": 1385,
   "metadata": {
    "id": "lsTjQ4yHHsnA"
   },
   "outputs": [],
   "source": [
    "from sklearn.model_selection import train_test_split\n",
    "X_train, X_test, y_train, y_test = train_test_split(X, y, test_size = 0.2, random_state = 42)"
   ]
  },
  {
   "cell_type": "code",
   "execution_count": 1386,
   "metadata": {
    "colab": {
     "base_uri": "https://localhost:8080/",
     "height": 0
    },
    "id": "dlmy43ykH5NE",
    "outputId": "92acc051-edee-4d2a-94ee-fa2d106965e3"
   },
   "outputs": [
    {
     "data": {
      "text/plain": [
       "(907, 37)"
      ]
     },
     "execution_count": 1386,
     "metadata": {},
     "output_type": "execute_result"
    }
   ],
   "source": [
    "from sklearn.preprocessing import StandardScaler\n",
    "sc = StandardScaler()\n",
    "X_train = sc.fit_transform(X_train)\n",
    "X_train.shape"
   ]
  },
  {
   "cell_type": "code",
   "execution_count": 1387,
   "metadata": {
    "colab": {
     "base_uri": "https://localhost:8080/",
     "height": 0
    },
    "id": "kzuMrPmhIMm9",
    "outputId": "d8dba398-0d44-4b51-ebfb-7ea73d37abbe"
   },
   "outputs": [
    {
     "name": "stdout",
     "output_type": "stream",
     "text": [
      "Accuracy: 0.67\n",
      "Classification Report:\n",
      "              precision    recall  f1-score   support\n",
      "\n",
      "           0       0.00      0.00      0.00        76\n",
      "           1       0.67      1.00      0.80       151\n",
      "\n",
      "    accuracy                           0.67       227\n",
      "   macro avg       0.33      0.50      0.40       227\n",
      "weighted avg       0.44      0.67      0.53       227\n",
      "\n",
      "Confusion Matrix:\n",
      "[[  0  76]\n",
      " [  0 151]]\n"
     ]
    },
    {
     "name": "stderr",
     "output_type": "stream",
     "text": [
      "C:\\Users\\NYA\\AppData\\Roaming\\Python\\Python312\\site-packages\\sklearn\\metrics\\_classification.py:1531: UndefinedMetricWarning: Precision is ill-defined and being set to 0.0 in labels with no predicted samples. Use `zero_division` parameter to control this behavior.\n",
      "  _warn_prf(average, modifier, f\"{metric.capitalize()} is\", len(result))\n",
      "C:\\Users\\NYA\\AppData\\Roaming\\Python\\Python312\\site-packages\\sklearn\\metrics\\_classification.py:1531: UndefinedMetricWarning: Precision is ill-defined and being set to 0.0 in labels with no predicted samples. Use `zero_division` parameter to control this behavior.\n",
      "  _warn_prf(average, modifier, f\"{metric.capitalize()} is\", len(result))\n",
      "C:\\Users\\NYA\\AppData\\Roaming\\Python\\Python312\\site-packages\\sklearn\\metrics\\_classification.py:1531: UndefinedMetricWarning: Precision is ill-defined and being set to 0.0 in labels with no predicted samples. Use `zero_division` parameter to control this behavior.\n",
      "  _warn_prf(average, modifier, f\"{metric.capitalize()} is\", len(result))\n"
     ]
    }
   ],
   "source": [
    "from sklearn.ensemble import RandomForestClassifier\n",
    "from sklearn.metrics import accuracy_score, classification_report, confusion_matrix\n",
    "\n",
    "# Assuming X_train and X_test have already been scaled\n",
    "# X_train and X_test are already transformed using StandardScaler\n",
    "\n",
    "# Define and train the RandomForestClassifier\n",
    "classifier = RandomForestClassifier(random_state=42)\n",
    "classifier.fit(X_train, y_train)\n",
    "\n",
    "# Predict on the test data\n",
    "y_pred = classifier.predict(X_test)\n",
    "\n",
    "# Evaluate the model performance\n",
    "accuracy = accuracy_score(y_test, y_pred)\n",
    "print(f'Accuracy: {accuracy:.2f}')\n",
    "\n",
    "# Display the classification report for precision, recall, and F1-score\n",
    "print(\"Classification Report:\")\n",
    "print(classification_report(y_test, y_pred))\n",
    "\n",
    "# Display the confusion matrix\n",
    "print(\"Confusion Matrix:\")\n",
    "print(confusion_matrix(y_test, y_pred))"
   ]
  },
  {
   "cell_type": "code",
   "execution_count": 1388,
   "metadata": {
    "colab": {
     "base_uri": "https://localhost:8080/",
     "height": 0
    },
    "id": "72LKtvnCIXWv",
    "outputId": "c8041fb4-814e-4309-b3bf-2c2d17c0c8ff"
   },
   "outputs": [
    {
     "name": "stderr",
     "output_type": "stream",
     "text": [
      "C:\\Users\\NYA\\AppData\\Roaming\\Python\\Python312\\site-packages\\xgboost\\core.py:158: UserWarning: [23:12:01] WARNING: C:\\buildkite-agent\\builds\\buildkite-windows-cpu-autoscaling-group-i-0015a694724fa8361-1\\xgboost\\xgboost-ci-windows\\src\\learner.cc:740: \n",
      "Parameters: { \"use_label_encoder\" } are not used.\n",
      "\n",
      "  warnings.warn(smsg, UserWarning)\n",
      "C:\\Users\\NYA\\AppData\\Roaming\\Python\\Python312\\site-packages\\xgboost\\core.py:158: UserWarning: [23:12:02] WARNING: C:\\buildkite-agent\\builds\\buildkite-windows-cpu-autoscaling-group-i-0015a694724fa8361-1\\xgboost\\xgboost-ci-windows\\src\\learner.cc:740: \n",
      "Parameters: { \"use_label_encoder\" } are not used.\n",
      "\n",
      "  warnings.warn(smsg, UserWarning)\n"
     ]
    },
    {
     "name": "stdout",
     "output_type": "stream",
     "text": [
      "Accuracy: 0.77\n",
      "Classification Report:\n",
      "              precision    recall  f1-score   support\n",
      "\n",
      "           0       1.00      0.30      0.46        76\n",
      "           1       0.74      1.00      0.85       151\n",
      "\n",
      "    accuracy                           0.77       227\n",
      "   macro avg       0.87      0.65      0.66       227\n",
      "weighted avg       0.83      0.77      0.72       227\n",
      "\n",
      "Confusion Matrix:\n",
      "[[ 23  53]\n",
      " [  0 151]]\n"
     ]
    }
   ],
   "source": [
    "from xgboost import XGBClassifier\n",
    "\n",
    "# Define and train the XGBoost classifier\n",
    "xgb_classifier = XGBClassifier(\n",
    "    n_estimators=100,\n",
    "    learning_rate=0.1,\n",
    "    max_depth=5,\n",
    "    random_state=42,\n",
    "    use_label_encoder=False,\n",
    "    eval_metric='logloss'\n",
    ")\n",
    "xgb_classifier.fit(X_train, y_train)\n",
    "\n",
    "xgb_classifier.fit(X_train, y_train)\n",
    "\n",
    "# Predict on the test data\n",
    "y_pred = xgb_classifier.predict(X_test)\n",
    "\n",
    "# Evaluate the model performance\n",
    "accuracy = accuracy_score(y_test, y_pred)\n",
    "print(f'Accuracy: {accuracy:.2f}')\n",
    "\n",
    "# Display the classification report for precision, recall, and F1-score\n",
    "print(\"Classification Report:\")\n",
    "print(classification_report(y_test, y_pred))\n",
    "\n",
    "# Display the confusion matrix\n",
    "print(\"Confusion Matrix:\")\n",
    "print(confusion_matrix(y_test, y_pred))"
   ]
  },
  {
   "cell_type": "code",
   "execution_count": 1389,
   "metadata": {
    "colab": {
     "base_uri": "https://localhost:8080/",
     "height": 0
    },
    "id": "H4I5nOXRJUit",
    "outputId": "f597d962-35b7-4152-d4f7-1b04c3216c9d"
   },
   "outputs": [
    {
     "name": "stdout",
     "output_type": "stream",
     "text": [
      "Accuracy: 0.67\n",
      "Classification Report:\n",
      "              precision    recall  f1-score   support\n",
      "\n",
      "           0       0.50      0.05      0.10        76\n",
      "           1       0.67      0.97      0.79       151\n",
      "\n",
      "    accuracy                           0.67       227\n",
      "   macro avg       0.59      0.51      0.44       227\n",
      "weighted avg       0.61      0.67      0.56       227\n",
      "\n",
      "Confusion Matrix:\n",
      "[[  4  72]\n",
      " [  4 147]]\n"
     ]
    }
   ],
   "source": [
    "from sklearn.tree import DecisionTreeClassifier\n",
    "from sklearn.metrics import accuracy_score, classification_report, confusion_matrix\n",
    "\n",
    "# Define and train the Decision Tree classifier\n",
    "dt_classifier = DecisionTreeClassifier(random_state=42)\n",
    "dt_classifier.fit(X_train, y_train)\n",
    "\n",
    "# Predict on the test data\n",
    "y_pred = dt_classifier.predict(X_test)\n",
    "\n",
    "# Evaluate the model performance\n",
    "accuracy = accuracy_score(y_test, y_pred)\n",
    "print(f'Accuracy: {accuracy:.2f}')\n",
    "\n",
    "# Display the classification report for precision, recall, and F1-score\n",
    "print(\"Classification Report:\")\n",
    "print(classification_report(y_test, y_pred))\n",
    "\n",
    "# Display the confusion matrix\n",
    "print(\"Confusion Matrix:\")\n",
    "print(confusion_matrix(y_test, y_pred))"
   ]
  },
  {
   "cell_type": "code",
   "execution_count": 1390,
   "metadata": {
    "colab": {
     "base_uri": "https://localhost:8080/",
     "height": 0
    },
    "id": "e5usdxHcKE7G",
    "outputId": "3490cb56-5bdc-43f1-953e-babc0abc9a2d"
   },
   "outputs": [
    {
     "name": "stdout",
     "output_type": "stream",
     "text": [
      "Accuracy: 0.77\n",
      "Classification Report:\n",
      "              precision    recall  f1-score   support\n",
      "\n",
      "           0       1.00      0.30      0.46        76\n",
      "           1       0.74      1.00      0.85       151\n",
      "\n",
      "    accuracy                           0.77       227\n",
      "   macro avg       0.87      0.65      0.66       227\n",
      "weighted avg       0.83      0.77      0.72       227\n",
      "\n",
      "Confusion Matrix:\n",
      "[[ 23  53]\n",
      " [  0 151]]\n"
     ]
    },
    {
     "name": "stderr",
     "output_type": "stream",
     "text": [
      "C:\\Users\\NYA\\AppData\\Roaming\\Python\\Python312\\site-packages\\xgboost\\core.py:158: UserWarning: [23:12:02] WARNING: C:\\buildkite-agent\\builds\\buildkite-windows-cpu-autoscaling-group-i-0015a694724fa8361-1\\xgboost\\xgboost-ci-windows\\src\\learner.cc:740: \n",
      "Parameters: { \"use_label_encoder\" } are not used.\n",
      "\n",
      "  warnings.warn(smsg, UserWarning)\n"
     ]
    }
   ],
   "source": [
    "import matplotlib.pyplot as plt\n",
    "import seaborn as sns\n",
    "from sklearn.metrics import confusion_matrix, classification_report, accuracy_score, roc_curve, auc\n",
    "from xgboost import XGBClassifier\n",
    "import numpy as np\n",
    "\n",
    "# Define and train the XGBoost classifier\n",
    "xgb_classifier = XGBClassifier(\n",
    "    n_estimators=100,\n",
    "    learning_rate=0.1,\n",
    "    max_depth=5,\n",
    "    random_state=42,\n",
    "    use_label_encoder=False,\n",
    "    eval_metric='logloss'\n",
    ")\n",
    "xgb_classifier.fit(X_train, y_train)\n",
    "\n",
    "# Predict on the test data\n",
    "y_pred = xgb_classifier.predict(X_test)\n",
    "\n",
    "# Evaluate the model performance\n",
    "accuracy = accuracy_score(y_test, y_pred)\n",
    "print(f'Accuracy: {accuracy:.2f}')\n",
    "\n",
    "# Display the classification report\n",
    "print(\"Classification Report:\")\n",
    "print(classification_report(y_test, y_pred))\n",
    "\n",
    "# Confusion Matrix\n",
    "cm = confusion_matrix(y_test, y_pred)\n",
    "print(\"Confusion Matrix:\")\n",
    "print(cm)\n",
    "\n",
    "\n"
   ]
  },
  {
   "cell_type": "code",
   "execution_count": 1391,
   "metadata": {},
   "outputs": [
    {
     "name": "stderr",
     "output_type": "stream",
     "text": [
      "C:\\Users\\NYA\\AppData\\Roaming\\Python\\Python312\\site-packages\\xgboost\\core.py:158: UserWarning: [23:12:02] WARNING: C:\\buildkite-agent\\builds\\buildkite-windows-cpu-autoscaling-group-i-0015a694724fa8361-1\\xgboost\\xgboost-ci-windows\\src\\learner.cc:740: \n",
      "Parameters: { \"use_label_encoder\" } are not used.\n",
      "\n",
      "  warnings.warn(smsg, UserWarning)\n",
      "C:\\Users\\NYA\\AppData\\Roaming\\Python\\Python312\\site-packages\\xgboost\\core.py:158: UserWarning: [23:12:02] WARNING: C:\\buildkite-agent\\builds\\buildkite-windows-cpu-autoscaling-group-i-0015a694724fa8361-1\\xgboost\\xgboost-ci-windows\\src\\learner.cc:740: \n",
      "Parameters: { \"use_label_encoder\" } are not used.\n",
      "\n",
      "  warnings.warn(smsg, UserWarning)\n",
      "C:\\Users\\NYA\\AppData\\Roaming\\Python\\Python312\\site-packages\\xgboost\\core.py:158: UserWarning: [23:12:02] WARNING: C:\\buildkite-agent\\builds\\buildkite-windows-cpu-autoscaling-group-i-0015a694724fa8361-1\\xgboost\\xgboost-ci-windows\\src\\learner.cc:740: \n",
      "Parameters: { \"use_label_encoder\" } are not used.\n",
      "\n",
      "  warnings.warn(smsg, UserWarning)\n",
      "C:\\Users\\NYA\\AppData\\Roaming\\Python\\Python312\\site-packages\\xgboost\\core.py:158: UserWarning: [23:12:02] WARNING: C:\\buildkite-agent\\builds\\buildkite-windows-cpu-autoscaling-group-i-0015a694724fa8361-1\\xgboost\\xgboost-ci-windows\\src\\learner.cc:740: \n",
      "Parameters: { \"use_label_encoder\" } are not used.\n",
      "\n",
      "  warnings.warn(smsg, UserWarning)\n",
      "C:\\Users\\NYA\\AppData\\Roaming\\Python\\Python312\\site-packages\\xgboost\\core.py:158: UserWarning: [23:12:02] WARNING: C:\\buildkite-agent\\builds\\buildkite-windows-cpu-autoscaling-group-i-0015a694724fa8361-1\\xgboost\\xgboost-ci-windows\\src\\learner.cc:740: \n",
      "Parameters: { \"use_label_encoder\" } are not used.\n",
      "\n",
      "  warnings.warn(smsg, UserWarning)\n",
      "C:\\Users\\NYA\\AppData\\Roaming\\Python\\Python312\\site-packages\\xgboost\\core.py:158: UserWarning: [23:12:03] WARNING: C:\\buildkite-agent\\builds\\buildkite-windows-cpu-autoscaling-group-i-0015a694724fa8361-1\\xgboost\\xgboost-ci-windows\\src\\learner.cc:740: \n",
      "Parameters: { \"use_label_encoder\" } are not used.\n",
      "\n",
      "  warnings.warn(smsg, UserWarning)\n",
      "C:\\Users\\NYA\\AppData\\Roaming\\Python\\Python312\\site-packages\\xgboost\\core.py:158: UserWarning: [23:12:03] WARNING: C:\\buildkite-agent\\builds\\buildkite-windows-cpu-autoscaling-group-i-0015a694724fa8361-1\\xgboost\\xgboost-ci-windows\\src\\learner.cc:740: \n",
      "Parameters: { \"use_label_encoder\" } are not used.\n",
      "\n",
      "  warnings.warn(smsg, UserWarning)\n",
      "C:\\Users\\NYA\\AppData\\Roaming\\Python\\Python312\\site-packages\\xgboost\\core.py:158: UserWarning: [23:12:03] WARNING: C:\\buildkite-agent\\builds\\buildkite-windows-cpu-autoscaling-group-i-0015a694724fa8361-1\\xgboost\\xgboost-ci-windows\\src\\learner.cc:740: \n",
      "Parameters: { \"use_label_encoder\" } are not used.\n",
      "\n",
      "  warnings.warn(smsg, UserWarning)\n"
     ]
    },
    {
     "name": "stdout",
     "output_type": "stream",
     "text": [
      "Cross-validation accuracy scores: [0.83333333 0.79824561 0.73684211 0.70175439 0.77876106 0.78761062\n",
      " 0.79646018 0.72566372 0.71681416 0.73451327]\n",
      "Mean accuracy: 0.7609998447446049\n",
      "Standard deviation: 0.04110545723298433\n"
     ]
    },
    {
     "name": "stderr",
     "output_type": "stream",
     "text": [
      "C:\\Users\\NYA\\AppData\\Roaming\\Python\\Python312\\site-packages\\xgboost\\core.py:158: UserWarning: [23:12:03] WARNING: C:\\buildkite-agent\\builds\\buildkite-windows-cpu-autoscaling-group-i-0015a694724fa8361-1\\xgboost\\xgboost-ci-windows\\src\\learner.cc:740: \n",
      "Parameters: { \"use_label_encoder\" } are not used.\n",
      "\n",
      "  warnings.warn(smsg, UserWarning)\n",
      "C:\\Users\\NYA\\AppData\\Roaming\\Python\\Python312\\site-packages\\xgboost\\core.py:158: UserWarning: [23:12:03] WARNING: C:\\buildkite-agent\\builds\\buildkite-windows-cpu-autoscaling-group-i-0015a694724fa8361-1\\xgboost\\xgboost-ci-windows\\src\\learner.cc:740: \n",
      "Parameters: { \"use_label_encoder\" } are not used.\n",
      "\n",
      "  warnings.warn(smsg, UserWarning)\n"
     ]
    }
   ],
   "source": [
    "from sklearn.model_selection import KFold, cross_val_score\n",
    "from sklearn.ensemble import RandomForestClassifier  # Example model\n",
    "from sklearn.datasets import load_iris\n",
    "from sklearn.metrics import accuracy_score, make_scorer\n",
    "\n",
    "# Set up k-fold cross-validation\n",
    "k = 10\n",
    "kf = KFold(n_splits=k, shuffle=True, random_state=42)\n",
    "\n",
    "# Evaluate model using cross-validation\n",
    "scores = cross_val_score(xgb_classifier, X, y, cv=kf, scoring=make_scorer(accuracy_score))\n",
    "\n",
    "# Output the results\n",
    "print(\"Cross-validation accuracy scores:\", scores)\n",
    "print(\"Mean accuracy:\", scores.mean())\n",
    "print(\"Standard deviation:\", scores.std())"
   ]
  },
  {
   "cell_type": "code",
   "execution_count": 1392,
   "metadata": {
    "colab": {
     "base_uri": "https://localhost:8080/",
     "height": 564
    },
    "id": "qahpbGISKU3b",
    "outputId": "43f81653-c069-445f-8fd7-5d6e139c468a"
   },
   "outputs": [
    {
     "data": {
      "image/png": "[encoded data removed]",
      "text/plain": [
       "<Figure size 800x600 with 2 Axes>"
      ]
     },
     "metadata": {},
     "output_type": "display_data"
    }
   ],
   "source": [
    "# Plot the Confusion Matrix using Seaborn\n",
    "plt.figure(figsize=(8,6))\n",
    "sns.heatmap(cm, annot=True, fmt='d', cmap='Blues', xticklabels=['Predicted Negative', 'Predicted Positive'], yticklabels=['Actual Negative', 'Actual Positive'])\n",
    "plt.ylabel('Actual')\n",
    "plt.xlabel('Predicted')\n",
    "plt.title('Confusion Matrix')\n",
    "plt.show()\n",
    "\n"
   ]
  },
  {
   "cell_type": "code",
   "execution_count": 1393,
   "metadata": {
    "colab": {
     "base_uri": "https://localhost:8080/",
     "height": 564
    },
    "id": "DyopL0CbKamT",
    "outputId": "3b5589f8-f42d-4584-eafc-e2752944d29e"
   },
   "outputs": [
    {
     "data": {
      "image/png": "[encoded data removed]",
      "text/plain": [
       "<Figure size 800x600 with 1 Axes>"
      ]
     },
     "metadata": {},
     "output_type": "display_data"
    }
   ],
   "source": [
    "# Plot ROC Curve (for binary classification)\n",
    "y_prob = xgb_classifier.predict_proba(X_test)[:,1]  # Probability estimates\n",
    "fpr, tpr, thresholds = roc_curve(y_test, y_prob)\n",
    "roc_auc = auc(fpr, tpr)\n",
    "\n",
    "plt.figure(figsize=(8,6))\n",
    "plt.plot(fpr, tpr, color='blue', label=f'ROC Curve (area = {roc_auc:.2f})')\n",
    "plt.plot([0, 1], [0, 1], color='red', linestyle='--')\n",
    "plt.xlim([0.0, 1.0])\n",
    "plt.ylim([0.0, 1.05])\n",
    "plt.xlabel('False Positive Rate')\n",
    "plt.ylabel('True Positive Rate')\n",
    "plt.title('Receiver Operating Characteristic (ROC) Curve')\n",
    "plt.legend(loc=\"lower right\")\n",
    "plt.show()\n",
    "\n"
   ]
  },
  {
   "cell_type": "code",
   "execution_count": 1394,
   "metadata": {
    "colab": {
     "base_uri": "https://localhost:8080/",
     "height": 472
    },
    "id": "Z9WE-AlqKfZa",
    "outputId": "8fa63bb4-f9bd-43c7-8f2b-22e1aa7cffe1"
   },
   "outputs": [
    {
     "data": {
      "image/png": "[encoded data removed]",
      "text/plain": [
       "<Figure size 640x480 with 1 Axes>"
      ]
     },
     "metadata": {},
     "output_type": "display_data"
    }
   ],
   "source": [
    "# Feature Importance (corrected)\n",
    "from xgboost import XGBClassifier, plot_importance  # Correct import for XGBoost plot_importance\n",
    "\n",
    "\n",
    "plot_importance(xgb_classifier)  # Correct method to plot feature importance\n",
    "plt.title('Feature Importance')\n",
    "plt.show()"
   ]
  },
  {
   "cell_type": "code",
   "execution_count": 1395,
   "metadata": {
    "id": "JSf5sB_7tSb9"
   },
   "outputs": [],
   "source": [
    "import pandas as pd\n",
    "import numpy as np\n",
    "\n",
    "# Example feature values for a new instance\n",
    "\n",
    "data = {\n",
    "    'Gender': ['Male'],\n",
    "    'Study Hours': [4],\n",
    "    'Extracurricular_Involvement': ['No'],\n",
    "    'Part time job': ['No'],\n",
    "    'Struggle with English': ['No'],\n",
    "    'Year': ['First'],\n",
    "    'Previous_GPA' :  [3.8],\n",
    "    'one_credit_course_1_ca': [20/35],\n",
    "    'one_credit_course_1_attendance': [1],\n",
    "    'one_credit_course_2_ca': [28/35],\n",
    "    'one_credit_course_2_attendance': [1],\n",
    "    'one_credit_course_3_ca': [22/35],\n",
    "    'one_credit_course_3_attendance': [1],\n",
    "    'two_credit_course_1_ca': [29/35],\n",
    "    'two_credit_course_1_attendance': [1],\n",
    "    'two_credit_course_2_ca': [22/35],\n",
    "    'two_credit_course_2_attendance': [1],\n",
    "    'two_credit_course_3_ca': [20/35],\n",
    "    'two_credit_course_3_attendance': [1],\n",
    "    'two_credit_course_4_ca': [28/35],\n",
    "    'two_credit_course_4_attendance': [1],\n",
    "    'two_credit_course_5_ca': [26/35],\n",
    "    'two_credit_course_5_attendance': [1],\n",
    "    'two_credit_course_6_ca': [20/35],\n",
    "    'two_credit_course_6_attendance': [0],\n",
    "    'one_credit_course_4_ca': [25/35],\n",
    "    'one_credit_course_4_attendance': [1],\n",
    "    'three_credit_course_1_ca': [20/35],\n",
    "    'three_credit_course_1_attendance': [1],\n",
    "    'three_credit_course_2_ca': [20/35],\n",
    "    'three_credit_course_2_attendance': [1]\n",
    "}"
   ]
  },
  {
   "cell_type": "code",
   "execution_count": 1396,
   "metadata": {
    "colab": {
     "base_uri": "https://localhost:8080/",
     "height": 165
    },
    "id": "RUxDnXKtvzYD",
    "outputId": "60ec8e53-b54d-4bf9-949f-604e97beeb7c"
   },
   "outputs": [
    {
     "data": {
      "text/html": [
       "<div>\n",
       "<style scoped>\n",
       "    .dataframe tbody tr th:only-of-type {\n",
       "        vertical-align: middle;\n",
       "    }\n",
       "\n",
       "    .dataframe tbody tr th {\n",
       "        vertical-align: top;\n",
       "    }\n",
       "\n",
       "    .dataframe thead th {\n",
       "        text-align: right;\n",
       "    }\n",
       "</style>\n",
       "<table border=\"1\" class=\"dataframe\">\n",
       "  <thead>\n",
       "    <tr style=\"text-align: right;\">\n",
       "      <th></th>\n",
       "      <th>Gender</th>\n",
       "      <th>Study Hours</th>\n",
       "      <th>Extracurricular_Involvement</th>\n",
       "      <th>Part time job</th>\n",
       "      <th>Struggle with English</th>\n",
       "      <th>Year</th>\n",
       "      <th>Previous_GPA</th>\n",
       "      <th>one_credit_course_1_ca</th>\n",
       "      <th>one_credit_course_1_attendance</th>\n",
       "      <th>one_credit_course_2_ca</th>\n",
       "      <th>...</th>\n",
       "      <th>two_credit_course_5_ca</th>\n",
       "      <th>two_credit_course_5_attendance</th>\n",
       "      <th>two_credit_course_6_ca</th>\n",
       "      <th>two_credit_course_6_attendance</th>\n",
       "      <th>one_credit_course_4_ca</th>\n",
       "      <th>one_credit_course_4_attendance</th>\n",
       "      <th>three_credit_course_1_ca</th>\n",
       "      <th>three_credit_course_1_attendance</th>\n",
       "      <th>three_credit_course_2_ca</th>\n",
       "      <th>three_credit_course_2_attendance</th>\n",
       "    </tr>\n",
       "  </thead>\n",
       "  <tbody>\n",
       "    <tr>\n",
       "      <th>0</th>\n",
       "      <td>Male</td>\n",
       "      <td>4</td>\n",
       "      <td>No</td>\n",
       "      <td>No</td>\n",
       "      <td>No</td>\n",
       "      <td>First</td>\n",
       "      <td>3.8</td>\n",
       "      <td>0.571429</td>\n",
       "      <td>1</td>\n",
       "      <td>0.8</td>\n",
       "      <td>...</td>\n",
       "      <td>0.742857</td>\n",
       "      <td>1</td>\n",
       "      <td>0.571429</td>\n",
       "      <td>0</td>\n",
       "      <td>0.714286</td>\n",
       "      <td>1</td>\n",
       "      <td>0.571429</td>\n",
       "      <td>1</td>\n",
       "      <td>0.571429</td>\n",
       "      <td>1</td>\n",
       "    </tr>\n",
       "  </tbody>\n",
       "</table>\n",
       "<p>1 rows × 31 columns</p>\n",
       "</div>"
      ],
      "text/plain": [
       "  Gender  Study Hours Extracurricular_Involvement Part time job  \\\n",
       "0   Male            4                          No            No   \n",
       "\n",
       "  Struggle with English   Year  Previous_GPA  one_credit_course_1_ca  \\\n",
       "0                    No  First           3.8                0.571429   \n",
       "\n",
       "   one_credit_course_1_attendance  one_credit_course_2_ca  ...  \\\n",
       "0                               1                     0.8  ...   \n",
       "\n",
       "   two_credit_course_5_ca  two_credit_course_5_attendance  \\\n",
       "0                0.742857                               1   \n",
       "\n",
       "   two_credit_course_6_ca  two_credit_course_6_attendance  \\\n",
       "0                0.571429                               0   \n",
       "\n",
       "   one_credit_course_4_ca  one_credit_course_4_attendance  \\\n",
       "0                0.714286                               1   \n",
       "\n",
       "   three_credit_course_1_ca  three_credit_course_1_attendance  \\\n",
       "0                  0.571429                                 1   \n",
       "\n",
       "   three_credit_course_2_ca  three_credit_course_2_attendance  \n",
       "0                  0.571429                                 1  \n",
       "\n",
       "[1 rows x 31 columns]"
      ]
     },
     "execution_count": 1396,
     "metadata": {},
     "output_type": "execute_result"
    }
   ],
   "source": [
    "#converting data into a df\n",
    "new_data =pd.DataFrame(data)\n",
    "new_data"
   ]
  },
  {
   "cell_type": "code",
   "execution_count": 1397,
   "metadata": {
    "colab": {
     "base_uri": "https://localhost:8080/",
     "height": 0
    },
    "id": "R9nLB_Lrv494",
    "outputId": "bd0081a0-9d72-4576-c548-659dfb6aa3b9"
   },
   "outputs": [
    {
     "name": "stdout",
     "output_type": "stream",
     "text": [
      "[[0.         1.         1.         0.         1.         0.\n",
      "  1.         0.         0.         0.         0.         4.\n",
      "  3.8        0.57142857 1.         0.8        1.         0.62857143\n",
      "  1.         0.82857143 1.         0.62857143 1.         0.57142857\n",
      "  1.         0.8        1.         0.74285714 1.         0.57142857\n",
      "  0.         0.71428571 1.         0.57142857 1.         0.57142857\n",
      "  1.        ]]\n"
     ]
    }
   ],
   "source": [
    "transformed =ct.transform(new_data)\n",
    "print(transformed)"
   ]
  },
  {
   "cell_type": "code",
   "execution_count": 1398,
   "metadata": {
    "colab": {
     "base_uri": "https://localhost:8080/",
     "height": 0
    },
    "id": "Iah2VmtLwdna",
    "outputId": "2f014792-aa0f-4bb8-e1d2-3bca02d02bf7"
   },
   "outputs": [
    {
     "name": "stdout",
     "output_type": "stream",
     "text": [
      "StandardScaler()\n"
     ]
    }
   ],
   "source": [
    "scaled_new_data= sc.fit(transformed)\n",
    "print(scaled_new_data)"
   ]
  },
  {
   "cell_type": "code",
   "execution_count": 1399,
   "metadata": {
    "colab": {
     "base_uri": "https://localhost:8080/",
     "height": 0
    },
    "id": "LJSSVrUryGT-",
    "outputId": "4ad2853c-949c-4719-e0ca-4c84f91b54c4"
   },
   "outputs": [
    {
     "name": "stdout",
     "output_type": "stream",
     "text": [
      "Predicted Class: [1]\n",
      "Predicted Probabilities: [[0.23480022 0.7651998 ]]\n"
     ]
    }
   ],
   "source": [
    "# Predict the result for the new data\n",
    "y_pred_new = xgb_classifier.predict(transformed)\n",
    "\n",
    "# If you want probability estimates for classification\n",
    "y_prob_new = xgb_classifier.predict_proba(transformed)\n",
    "\n",
    "# Output the predicted class and probabilities\n",
    "print(f'Predicted Class: {y_pred_new}')\n",
    "print(f'Predicted Probabilities: {y_prob_new}')\n",
    "\n",
    "\n",
    "#predicted class : 1 -> Pass\n"
   ]
  }
 ],
 "metadata": {
  "colab": {
   "provenance": []
  },
  "kernelspec": {
   "display_name": "Python 3",
   "name": "python3"
  },
  "language_info": {
   "codemirror_mode": {
    "name": "ipython",
    "version": 3
   },
   "file_extension": ".py",
   "mimetype": "text/x-python",
   "name": "python",
   "nbconvert_exporter": "python",
   "pygments_lexer": "ipython3",
   "version": "3.12.4"
  }
 },
 "nbformat": 4,
 "nbformat_minor": 0
}
