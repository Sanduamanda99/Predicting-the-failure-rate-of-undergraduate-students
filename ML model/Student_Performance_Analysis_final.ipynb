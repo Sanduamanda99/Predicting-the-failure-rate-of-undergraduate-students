{
  "cells": [
    {
      "cell_type": "code",
      "execution_count": 391,
      "metadata": {
        "id": "l4diI5aVf_rJ"
      },
      "outputs": [],
      "source": [
        "import pandas as pd\n",
        "import numpy as np\n",
        "import matplotlib.pyplot as plt\n",
        "import seaborn as sns"
      ]
    },
    {
      "cell_type": "markdown",
      "metadata": {
        "id": "nwE-coheikDT"
      },
      "source": [
        "## Helper functions to map grades"
      ]
    },
    {
      "cell_type": "code",
      "execution_count": 392,
      "metadata": {
        "id": "XWUt4JL2icJS"
      },
      "outputs": [],
      "source": [
        "\n",
        "grade_mapping = {\n",
        "    \"A+\": 4.0,\n",
        "    \"A\": 4.0,\n",
        "    \"A-\": 3.7,\n",
        "    \"B+\": 3.3,\n",
        "    \"B\": 3.0,\n",
        "    \"B-\": 2.7,\n",
        "    \"C+\": 2.3,\n",
        "    \"C\": 2.0,\n",
        "    \"C-\": 1.7,\n",
        "    \"D+\": 1.3,\n",
        "    \"D\": 1.0,\n",
        "    \"D-\": 0.0,\n",
        "    \"E\": 0.0,\n",
        "    \"ab\": 0.0,\n",
        "    None: None\n",
        "}\n",
        "\n",
        "def map_grade(grade):\n",
        "    return grade_mapping.get(grade, None)\n",
        "\n",
        "\n",
        "def get_credit_value(course_code):\n",
        "    return int(course_code[4])\n",
        "\n",
        "\n",
        "# The highest value for continous assessment marks, continous assessment marks are divided by this to make a value between 0 and 1 to make value more standarized.\n",
        "CA_HIGHEST= 35\n"
      ]
    },
    {
      "cell_type": "markdown",
      "metadata": {
        "id": "koIX0BNRNy73"
      },
      "source": [
        "## Pre-processing Semester 1 Data"
      ]
    },
    {
      "cell_type": "code",
      "execution_count": 393,
      "metadata": {
        "colab": {
          "base_uri": "https://localhost:8080/",
          "height": 342
        },
        "id": "6fqttTreipmo",
        "outputId": "14700309-6cd8-4ff8-9dcc-bc8634ad51bf"
      },
      "outputs": [
        {
          "data": {
            "text/html": [
              "<div>\n",
              "<style scoped>\n",
              "    .dataframe tbody tr th:only-of-type {\n",
              "        vertical-align: middle;\n",
              "    }\n",
              "\n",
              "    .dataframe tbody tr th {\n",
              "        vertical-align: top;\n",
              "    }\n",
              "\n",
              "    .dataframe thead th {\n",
              "        text-align: right;\n",
              "    }\n",
              "</style>\n",
              "<table border=\"1\" class=\"dataframe\">\n",
              "  <thead>\n",
              "    <tr style=\"text-align: right;\">\n",
              "      <th></th>\n",
              "      <th>Gender</th>\n",
              "      <th>Study Hours</th>\n",
              "      <th>Extracurricular_Involvement</th>\n",
              "      <th>Part time job</th>\n",
              "      <th>Struggle with English</th>\n",
              "      <th>Year</th>\n",
              "      <th>Pass/Fail</th>\n",
              "      <th>Previous_GPA</th>\n",
              "      <th>one_credit_course_1_ca</th>\n",
              "      <th>one_credit_course_1_grade</th>\n",
              "      <th>...</th>\n",
              "      <th>two_credit_course_3_attendance</th>\n",
              "      <th>two_credit_course_4_ca</th>\n",
              "      <th>two_credit_course_4_grade</th>\n",
              "      <th>two_credit_course_4_attendance</th>\n",
              "      <th>two_credit_course_5_ca</th>\n",
              "      <th>two_credit_course_5_grade</th>\n",
              "      <th>two_credit_course_5_attendance</th>\n",
              "      <th>two_credit_course_6_ca</th>\n",
              "      <th>two_credit_course_6_grade</th>\n",
              "      <th>two_credit_course_6_attendance</th>\n",
              "    </tr>\n",
              "  </thead>\n",
              "  <tbody>\n",
              "    <tr>\n",
              "      <th>0</th>\n",
              "      <td>Female</td>\n",
              "      <td>2</td>\n",
              "      <td>Yes</td>\n",
              "      <td>No</td>\n",
              "      <td>Yes</td>\n",
              "      <td>first</td>\n",
              "      <td>0</td>\n",
              "      <td>4</td>\n",
              "      <td>0.828571</td>\n",
              "      <td>3.3</td>\n",
              "      <td>...</td>\n",
              "      <td>1</td>\n",
              "      <td>0.857143</td>\n",
              "      <td>2.0</td>\n",
              "      <td>1</td>\n",
              "      <td>0.885714</td>\n",
              "      <td>3.0</td>\n",
              "      <td>1</td>\n",
              "      <td>0.257143</td>\n",
              "      <td>1.7</td>\n",
              "      <td>1</td>\n",
              "    </tr>\n",
              "    <tr>\n",
              "      <th>1</th>\n",
              "      <td>Male</td>\n",
              "      <td>1</td>\n",
              "      <td>Yes</td>\n",
              "      <td>Yes</td>\n",
              "      <td>No</td>\n",
              "      <td>first</td>\n",
              "      <td>1</td>\n",
              "      <td>4</td>\n",
              "      <td>0.828571</td>\n",
              "      <td>4.0</td>\n",
              "      <td>...</td>\n",
              "      <td>1</td>\n",
              "      <td>0.600000</td>\n",
              "      <td>3.3</td>\n",
              "      <td>1</td>\n",
              "      <td>0.685714</td>\n",
              "      <td>2.7</td>\n",
              "      <td>1</td>\n",
              "      <td>0.628571</td>\n",
              "      <td>2.0</td>\n",
              "      <td>1</td>\n",
              "    </tr>\n",
              "    <tr>\n",
              "      <th>2</th>\n",
              "      <td>Male</td>\n",
              "      <td>2</td>\n",
              "      <td>Yes</td>\n",
              "      <td>Yes</td>\n",
              "      <td>No</td>\n",
              "      <td>first</td>\n",
              "      <td>1</td>\n",
              "      <td>4</td>\n",
              "      <td>0.885714</td>\n",
              "      <td>4.0</td>\n",
              "      <td>...</td>\n",
              "      <td>1</td>\n",
              "      <td>0.800000</td>\n",
              "      <td>4.0</td>\n",
              "      <td>1</td>\n",
              "      <td>0.828571</td>\n",
              "      <td>2.7</td>\n",
              "      <td>1</td>\n",
              "      <td>0.428571</td>\n",
              "      <td>2.0</td>\n",
              "      <td>1</td>\n",
              "    </tr>\n",
              "    <tr>\n",
              "      <th>3</th>\n",
              "      <td>Male</td>\n",
              "      <td>4</td>\n",
              "      <td>No</td>\n",
              "      <td>No</td>\n",
              "      <td>No</td>\n",
              "      <td>first</td>\n",
              "      <td>0</td>\n",
              "      <td>4</td>\n",
              "      <td>0.400000</td>\n",
              "      <td>2.7</td>\n",
              "      <td>...</td>\n",
              "      <td>1</td>\n",
              "      <td>0.485714</td>\n",
              "      <td>2.7</td>\n",
              "      <td>1</td>\n",
              "      <td>0.542857</td>\n",
              "      <td>3.0</td>\n",
              "      <td>1</td>\n",
              "      <td>0.514286</td>\n",
              "      <td>2.3</td>\n",
              "      <td>1</td>\n",
              "    </tr>\n",
              "    <tr>\n",
              "      <th>4</th>\n",
              "      <td>Male</td>\n",
              "      <td>less than 1 hour</td>\n",
              "      <td>Yes</td>\n",
              "      <td>Yes</td>\n",
              "      <td>Yes</td>\n",
              "      <td>first</td>\n",
              "      <td>0</td>\n",
              "      <td>4</td>\n",
              "      <td>0.342857</td>\n",
              "      <td>4.0</td>\n",
              "      <td>...</td>\n",
              "      <td>1</td>\n",
              "      <td>0.285714</td>\n",
              "      <td>3.3</td>\n",
              "      <td>1</td>\n",
              "      <td>0.428571</td>\n",
              "      <td>4.0</td>\n",
              "      <td>1</td>\n",
              "      <td>0.342857</td>\n",
              "      <td>3.3</td>\n",
              "      <td>1</td>\n",
              "    </tr>\n",
              "  </tbody>\n",
              "</table>\n",
              "<p>5 rows × 35 columns</p>\n",
              "</div>"
            ],
            "text/plain": [
              "   Gender       Study Hours Extracurricular_Involvement Part time job  \\\n",
              "0  Female                 2                         Yes            No   \n",
              "1    Male                 1                         Yes           Yes   \n",
              "2    Male                 2                         Yes           Yes   \n",
              "3    Male                 4                          No            No   \n",
              "4    Male  less than 1 hour                         Yes           Yes   \n",
              "\n",
              "  Struggle with English   Year  Pass/Fail  Previous_GPA  \\\n",
              "0                   Yes  first          0             4   \n",
              "1                    No  first          1             4   \n",
              "2                    No  first          1             4   \n",
              "3                    No  first          0             4   \n",
              "4                   Yes  first          0             4   \n",
              "\n",
              "   one_credit_course_1_ca  one_credit_course_1_grade  ...  \\\n",
              "0                0.828571                        3.3  ...   \n",
              "1                0.828571                        4.0  ...   \n",
              "2                0.885714                        4.0  ...   \n",
              "3                0.400000                        2.7  ...   \n",
              "4                0.342857                        4.0  ...   \n",
              "\n",
              "   two_credit_course_3_attendance  two_credit_course_4_ca  \\\n",
              "0                               1                0.857143   \n",
              "1                               1                0.600000   \n",
              "2                               1                0.800000   \n",
              "3                               1                0.485714   \n",
              "4                               1                0.285714   \n",
              "\n",
              "   two_credit_course_4_grade  two_credit_course_4_attendance  \\\n",
              "0                        2.0                               1   \n",
              "1                        3.3                               1   \n",
              "2                        4.0                               1   \n",
              "3                        2.7                               1   \n",
              "4                        3.3                               1   \n",
              "\n",
              "   two_credit_course_5_ca  two_credit_course_5_grade  \\\n",
              "0                0.885714                        3.0   \n",
              "1                0.685714                        2.7   \n",
              "2                0.828571                        2.7   \n",
              "3                0.542857                        3.0   \n",
              "4                0.428571                        4.0   \n",
              "\n",
              "   two_credit_course_5_attendance  two_credit_course_6_ca  \\\n",
              "0                               1                0.257143   \n",
              "1                               1                0.628571   \n",
              "2                               1                0.428571   \n",
              "3                               1                0.514286   \n",
              "4                               1                0.342857   \n",
              "\n",
              "   two_credit_course_6_grade  two_credit_course_6_attendance  \n",
              "0                        1.7                               1  \n",
              "1                        2.0                               1  \n",
              "2                        2.0                               1  \n",
              "3                        2.3                               1  \n",
              "4                        3.3                               1  \n",
              "\n",
              "[5 rows x 35 columns]"
            ]
          },
          "execution_count": 393,
          "metadata": {},
          "output_type": "execute_result"
        }
      ],
      "source": [
        "df1= pd.read_csv(\"C:/Users/NYA/Desktop/XGBoost/With GPA/Dataset/sem1.csv\")\n",
        "def extract_course_data_sem1(row):\n",
        "    course_data = {}\n",
        "    for col in df1.columns:\n",
        "        if \"CO\" in col:\n",
        "            course_code = col[:6]\n",
        "            if course_code not in course_data:\n",
        "                course_data[course_code] = {\n",
        "                    'ca': row.get(course_code + \"_CA\"),\n",
        "                    'grade': row.get(course_code),\n",
        "                    'attendance': row.get(course_code + \"_attendance\"),\n",
        "                    'credit': get_credit_value(course_code)\n",
        "                }\n",
        "    return course_data\n",
        "\n",
        "\n",
        "def process_row(row):\n",
        "    course_data = extract_course_data_sem1(row)\n",
        "    new_row = {\n",
        "        \"Gender\": row['Gender'],\n",
        "        \"Study Hours\": row['Study Hours'],\n",
        "        \"Extracurricular_Involvement\": row['Extracurricular_Involvement'],\n",
        "        \"Part time job\": row['Part time job'],\n",
        "        \"Struggle with English\": row['Struggle with English'],\n",
        "        \"Year\": 'first',\n",
        "        \"Pass/Fail\" : row['1sem_pass/fail'],\n",
        "        \"Previous_GPA\" : 4\n",
        "\n",
        "    }\n",
        "\n",
        "    one_credit_courses = [course for course in course_data.values() if course['credit'] == 1]\n",
        "    for i, course in enumerate(one_credit_courses, start=1):\n",
        "        new_row[f\"one_credit_course_{i}_ca\"] = course['ca']/CA_HIGHEST\n",
        "        new_row[f\"one_credit_course_{i}_grade\"] = map_grade(course['grade'])\n",
        "        new_row[f\"one_credit_course_{i}_attendance\"] = course['attendance']\n",
        "\n",
        "    two_credit_courses = [course for course in course_data.values() if course['credit'] == 2]\n",
        "    for i, course in enumerate(two_credit_courses, start=1):\n",
        "        new_row[f\"two_credit_course_{i}_ca\"] = course['ca']/CA_HIGHEST\n",
        "        new_row[f\"two_credit_course_{i}_grade\"] = map_grade(course['grade'])\n",
        "        new_row[f\"two_credit_course_{i}_attendance\"] = course['attendance']\n",
        "\n",
        "\n",
        "    three_credit_courses = [course for course in course_data.values() if course['credit'] == 3]\n",
        "    for i, course in enumerate(three_credit_courses, start=1):\n",
        "        new_row[f\"three_credit_course_{i}_ca\"] = course['ca']/CA_HIGHEST\n",
        "        new_row[f\"three_credit_course_{i}_grade\"] = map_grade(course['grade'])\n",
        "        new_row[f\"three_credit_course_{i}_attendance\"] = course['attendance']\n",
        "\n",
        "    return new_row\n",
        "\n",
        "\n",
        "# Apply the processing function to the dataframe\n",
        "processed_df1= pd.DataFrame(df1.apply(process_row, axis=1).tolist())\n",
        "processed_df1.head()\n",
        "\n"
      ]
    },
    {
      "cell_type": "markdown",
      "metadata": {
        "id": "T3gWV0tTfspu"
      },
      "source": [
        "## Pre-processing Semester 2 Data"
      ]
    },
    {
      "cell_type": "code",
      "execution_count": 394,
      "metadata": {
        "colab": {
          "base_uri": "https://localhost:8080/"
        },
        "id": "yR8M4xnj4as5",
        "outputId": "eb5ca89e-1642-4443-80b6-da0748dea8ee"
      },
      "outputs": [
        {
          "data": {
            "text/plain": [
              "Index(['Gender', 'Study Hours', 'Extracurricular_Involvement', 'Part time job',\n",
              "       'Struggle with English', 'Year', 'Pass/Fail', 'Previous_GPA',\n",
              "       'one_credit_course_1_ca', 'one_credit_course_1_grade',\n",
              "       'one_credit_course_1_attendance', 'one_credit_course_2_ca',\n",
              "       'one_credit_course_2_grade', 'one_credit_course_2_attendance',\n",
              "       'one_credit_course_3_ca', 'one_credit_course_3_grade',\n",
              "       'one_credit_course_3_attendance', 'two_credit_course_1_ca',\n",
              "       'two_credit_course_1_grade', 'two_credit_course_1_attendance',\n",
              "       'two_credit_course_2_ca', 'two_credit_course_2_grade',\n",
              "       'two_credit_course_2_attendance', 'two_credit_course_3_ca',\n",
              "       'two_credit_course_3_grade', 'two_credit_course_3_attendance',\n",
              "       'two_credit_course_4_ca', 'two_credit_course_4_grade',\n",
              "       'two_credit_course_4_attendance', 'two_credit_course_5_ca',\n",
              "       'two_credit_course_5_grade', 'two_credit_course_5_attendance',\n",
              "       'two_credit_course_6_ca', 'two_credit_course_6_grade',\n",
              "       'two_credit_course_6_attendance'],\n",
              "      dtype='object')"
            ]
          },
          "execution_count": 394,
          "metadata": {},
          "output_type": "execute_result"
        }
      ],
      "source": [
        "df2 = pd.read_csv(\"C:/Users/NYA/Desktop/XGBoost/With GPA/Dataset/sem2.csv\")\n",
        "def extract_course_data_sem2(row):\n",
        "    course_data = {}\n",
        "    for col in df2.columns:\n",
        "        if \"CO\" in col:\n",
        "            course_code = col[:6]\n",
        "            if course_code not in course_data:\n",
        "                course_data[course_code] = {\n",
        "                    'ca': row.get(course_code + \"_CA\"),\n",
        "                    'grade': row.get(course_code),\n",
        "                    'attendance': row.get(course_code + \"_attendance\"),\n",
        "                    'credit': get_credit_value(course_code)\n",
        "                }\n",
        "    return course_data\n",
        "\n",
        "\n",
        "def process_row(row):\n",
        "    course_data = extract_course_data_sem2(row)\n",
        "    new_row = {\n",
        "        \"Gender\": row['Gender'],\n",
        "        \"Study Hours\": row['Study Hours'],\n",
        "        \"Extracurricular_Involvement\": row['Extracurricular_Involvement'],\n",
        "        \"Part time job\": row['Part time job'],\n",
        "        \"Struggle with English\": row['Struggle with English'],\n",
        "        \"Year\": 'first',\n",
        "        \"Pass/Fail\" : row['2sem_pass/fail'],\n",
        "         \"Previous_GPA\" : row['1st_sem_GPA']\n",
        "    }\n",
        "\n",
        "    one_credit_courses = [course for course in course_data.values() if course['credit'] == 1]\n",
        "    for i, course in enumerate(one_credit_courses, start=1):\n",
        "        new_row[f\"one_credit_course_{i}_ca\"] = course['ca']/CA_HIGHEST\n",
        "        new_row[f\"one_credit_course_{i}_grade\"] = map_grade(course['grade'])\n",
        "        new_row[f\"one_credit_course_{i}_attendance\"] = course['attendance']\n",
        "\n",
        "    two_credit_courses = [course for course in course_data.values() if course['credit'] == 2]\n",
        "    for i, course in enumerate(two_credit_courses, start=1):\n",
        "        new_row[f\"two_credit_course_{i}_ca\"] = course['ca']/CA_HIGHEST\n",
        "        new_row[f\"two_credit_course_{i}_grade\"] = map_grade(course['grade'])\n",
        "        new_row[f\"two_credit_course_{i}_attendance\"] = course['attendance']\n",
        "\n",
        "\n",
        "    three_credit_courses = [course for course in course_data.values() if course['credit'] == 3]\n",
        "    for i, course in enumerate(three_credit_courses, start=1):\n",
        "        new_row[f\"three_credit_course_{i}_ca\"] = course['ca']/CA_HIGHEST\n",
        "        new_row[f\"three_credit_course_{i}_grade\"] = map_grade(course['grade'])\n",
        "        new_row[f\"three_credit_course_{i}_attendance\"] = course['attendance']\n",
        "\n",
        "    return new_row\n",
        "\n",
        "\n",
        "\n",
        "processed_df2= pd.DataFrame(df2.apply(process_row, axis=1).tolist())\n",
        "processed_df2.head()\n",
        "processed_df2.columns"
      ]
    },
    {
      "cell_type": "markdown",
      "metadata": {
        "id": "F4z-oUCc6isV"
      },
      "source": [
        "## Pre-processing Semester 3 Data"
      ]
    },
    {
      "cell_type": "code",
      "execution_count": 395,
      "metadata": {
        "colab": {
          "base_uri": "https://localhost:8080/"
        },
        "id": "w7soCQpz6vez",
        "outputId": "66f8158b-ef39-4c04-aff8-fb7421f8c646"
      },
      "outputs": [
        {
          "data": {
            "text/plain": [
              "Index(['Gender', 'Study Hours', 'Extracurricular_Involvement', 'Part time job',\n",
              "       'Struggle with English', 'Year', 'Pass/Fail', 'Previous_GPA',\n",
              "       'one_credit_course_1_ca', 'one_credit_course_1_grade',\n",
              "       'one_credit_course_1_attendance', 'one_credit_course_2_ca',\n",
              "       'one_credit_course_2_grade', 'one_credit_course_2_attendance',\n",
              "       'one_credit_course_3_ca', 'one_credit_course_3_grade',\n",
              "       'one_credit_course_3_attendance', 'two_credit_course_1_ca',\n",
              "       'two_credit_course_1_grade', 'two_credit_course_1_attendance',\n",
              "       'two_credit_course_2_ca', 'two_credit_course_2_grade',\n",
              "       'two_credit_course_2_attendance', 'two_credit_course_3_ca',\n",
              "       'two_credit_course_3_grade', 'two_credit_course_3_attendance',\n",
              "       'two_credit_course_4_ca', 'two_credit_course_4_grade',\n",
              "       'two_credit_course_4_attendance', 'two_credit_course_5_ca',\n",
              "       'two_credit_course_5_grade', 'two_credit_course_5_attendance',\n",
              "       'two_credit_course_6_ca', 'two_credit_course_6_grade',\n",
              "       'two_credit_course_6_attendance'],\n",
              "      dtype='object')"
            ]
          },
          "execution_count": 395,
          "metadata": {},
          "output_type": "execute_result"
        }
      ],
      "source": [
        "df3 = pd.read_csv(\"C:/Users/NYA/Desktop/XGBoost/With GPA/Dataset/sem3.csv\")\n",
        "def extract_course_data_sem3(row):\n",
        "    course_data = {}\n",
        "    for col in df3.columns:\n",
        "        if \"CO\" in col:\n",
        "            course_code = col[:6]\n",
        "            if course_code not in course_data:\n",
        "                course_data[course_code] = {\n",
        "                    'ca': row.get(course_code + \"_CA\"),\n",
        "                    'grade': row.get(course_code),\n",
        "                    'attendance': row.get(course_code + \"_attendance\"),\n",
        "                    'credit': get_credit_value(course_code)\n",
        "                }\n",
        "    return course_data\n",
        "\n",
        "\n",
        "def process_row(row):\n",
        "    course_data = extract_course_data_sem3(row)\n",
        "    new_row = {\n",
        "        \"Gender\": row['Gender'],\n",
        "        \"Study Hours\": row['Study Hours'],\n",
        "        \"Extracurricular_Involvement\": row['Extracurricular_Involvement'],\n",
        "        \"Part time job\": row['Part time job'],\n",
        "        \"Struggle with English\": row['Struggle with English'],\n",
        "        \"Year\": 'second',\n",
        "        \"Pass/Fail\" : row['3sem_pass/fail'],\n",
        "         \"Previous_GPA\" : row['2nd_sem_GPA']\n",
        "    }\n",
        "\n",
        "    one_credit_courses = [course for course in course_data.values() if course['credit'] == 1]\n",
        "    for i, course in enumerate(one_credit_courses, start=1):\n",
        "        new_row[f\"one_credit_course_{i}_ca\"] = course['ca']/CA_HIGHEST\n",
        "        new_row[f\"one_credit_course_{i}_grade\"] = map_grade(course['grade'])\n",
        "        new_row[f\"one_credit_course_{i}_attendance\"] = course['attendance']\n",
        "\n",
        "    two_credit_courses = [course for course in course_data.values() if course['credit'] == 2]\n",
        "    for i, course in enumerate(two_credit_courses, start=1):\n",
        "        new_row[f\"two_credit_course_{i}_ca\"] = course['ca']/CA_HIGHEST\n",
        "        new_row[f\"two_credit_course_{i}_grade\"] = map_grade(course['grade'])\n",
        "        new_row[f\"two_credit_course_{i}_attendance\"] = course['attendance']\n",
        "\n",
        "\n",
        "    three_credit_courses = [course for course in course_data.values() if course['credit'] == 3]\n",
        "    for i, course in enumerate(three_credit_courses, start=1):\n",
        "        new_row[f\"three_credit_course_{i}_ca\"] = course['ca']/CA_HIGHEST\n",
        "        new_row[f\"three_credit_course_{i}_grade\"] = map_grade(course['grade'])\n",
        "        new_row[f\"three_credit_course_{i}_attendance\"] = course['attendance']\n",
        "\n",
        "    return new_row\n",
        "\n",
        "\n",
        "\n",
        "processed_df3= pd.DataFrame(df3.apply(process_row, axis=1).tolist())\n",
        "processed_df3.head()\n",
        "processed_df3.columns"
      ]
    },
    {
      "cell_type": "markdown",
      "metadata": {
        "id": "5TldMAd56poV"
      },
      "source": [
        "## Pre-processing Semester 4 **Data**"
      ]
    },
    {
      "cell_type": "code",
      "execution_count": 396,
      "metadata": {
        "colab": {
          "base_uri": "https://localhost:8080/"
        },
        "id": "vtkykgqD7I1Q",
        "outputId": "df70b455-9c17-439c-ca3e-eee0da1c4192"
      },
      "outputs": [
        {
          "data": {
            "text/plain": [
              "Index(['Gender', 'Study Hours', 'Extracurricular_Involvement', 'Part time job',\n",
              "       'Struggle with English', 'Year', 'Pass/Fail', 'Previous_GPA',\n",
              "       'one_credit_course_1_ca', 'one_credit_course_1_grade',\n",
              "       'one_credit_course_1_attendance', 'one_credit_course_2_ca',\n",
              "       'one_credit_course_2_grade', 'one_credit_course_2_attendance',\n",
              "       'one_credit_course_3_ca', 'one_credit_course_3_grade',\n",
              "       'one_credit_course_3_attendance', 'two_credit_course_1_ca',\n",
              "       'two_credit_course_1_grade', 'two_credit_course_1_attendance',\n",
              "       'two_credit_course_2_ca', 'two_credit_course_2_grade',\n",
              "       'two_credit_course_2_attendance', 'two_credit_course_3_ca',\n",
              "       'two_credit_course_3_grade', 'two_credit_course_3_attendance',\n",
              "       'two_credit_course_4_ca', 'two_credit_course_4_grade',\n",
              "       'two_credit_course_4_attendance', 'two_credit_course_5_ca',\n",
              "       'two_credit_course_5_grade', 'two_credit_course_5_attendance',\n",
              "       'two_credit_course_6_ca', 'two_credit_course_6_grade',\n",
              "       'two_credit_course_6_attendance'],\n",
              "      dtype='object')"
            ]
          },
          "execution_count": 396,
          "metadata": {},
          "output_type": "execute_result"
        }
      ],
      "source": [
        "df4 = pd.read_csv(\"C:/Users/NYA/Desktop/XGBoost/With GPA/Dataset/sem4.csv\")\n",
        "def extract_course_data_sem4(row):\n",
        "    course_data = {}\n",
        "    for col in df4.columns:\n",
        "        if \"CO\" in col:\n",
        "            course_code = col[:6]\n",
        "            if course_code not in course_data:\n",
        "                course_data[course_code] = {\n",
        "                    'ca': row.get(course_code + \"_CA\"),\n",
        "                    'grade': row.get(course_code),\n",
        "                    'attendance': row.get(course_code + \"_attendance\"),\n",
        "                    'credit': get_credit_value(course_code)\n",
        "                }\n",
        "    return course_data\n",
        "\n",
        "\n",
        "def process_row(row):\n",
        "    course_data = extract_course_data_sem4(row)\n",
        "    new_row = {\n",
        "        \"Gender\": row['Gender'],\n",
        "        \"Study Hours\": row['Study Hours'],\n",
        "        \"Extracurricular_Involvement\": row['Extracurricular_Involvement'],\n",
        "        \"Part time job\": row['Part time job'],\n",
        "        \"Struggle with English\": row['Struggle with English'],\n",
        "        \"Year\": 'second',\n",
        "        \"Pass/Fail\" : row['4sem_pass/fail'],\n",
        "         \"Previous_GPA\" : row['3rd_sem_GPA']\n",
        "    }\n",
        "\n",
        "    one_credit_courses = [course for course in course_data.values() if course['credit'] == 1]\n",
        "    for i, course in enumerate(one_credit_courses, start=1):\n",
        "        new_row[f\"one_credit_course_{i}_ca\"] = course['ca']/CA_HIGHEST\n",
        "        new_row[f\"one_credit_course_{i}_grade\"] = map_grade(course['grade'])\n",
        "        new_row[f\"one_credit_course_{i}_attendance\"] = course['attendance']\n",
        "\n",
        "    two_credit_courses = [course for course in course_data.values() if course['credit'] == 2]\n",
        "    for i, course in enumerate(two_credit_courses, start=1):\n",
        "        new_row[f\"two_credit_course_{i}_ca\"] = course['ca']/CA_HIGHEST\n",
        "        new_row[f\"two_credit_course_{i}_grade\"] = map_grade(course['grade'])\n",
        "        new_row[f\"two_credit_course_{i}_attendance\"] = course['attendance']\n",
        "\n",
        "\n",
        "    three_credit_courses = [course for course in course_data.values() if course['credit'] == 3]\n",
        "    for i, course in enumerate(three_credit_courses, start=1):\n",
        "        new_row[f\"three_credit_course_{i}_ca\"] = course['ca']/CA_HIGHEST\n",
        "        new_row[f\"three_credit_course_{i}_grade\"] = map_grade(course['grade'])\n",
        "        new_row[f\"three_credit_course_{i}_attendance\"] = course['attendance']\n",
        "\n",
        "    return new_row\n",
        "\n",
        "\n",
        "\n",
        "processed_df4= pd.DataFrame(df4.apply(process_row, axis=1).tolist())\n",
        "processed_df4.head()\n",
        "processed_df4.columns"
      ]
    },
    {
      "cell_type": "markdown",
      "metadata": {
        "id": "p2FWAp-MCNpP"
      },
      "source": [
        "# Pre-processing Semester 5 Data"
      ]
    },
    {
      "cell_type": "code",
      "execution_count": 397,
      "metadata": {
        "colab": {
          "base_uri": "https://localhost:8080/"
        },
        "id": "vAF93eBpCS0_",
        "outputId": "133552cd-2d13-4a8f-f18d-d98c91f9b25a"
      },
      "outputs": [
        {
          "data": {
            "text/plain": [
              "Index(['Gender', 'Study Hours', 'Extracurricular_Involvement', 'Part time job',\n",
              "       'Struggle with English', 'Year', 'Pass/Fail', 'Previous_GPA',\n",
              "       'one_credit_course_1_ca', 'one_credit_course_1_grade',\n",
              "       'one_credit_course_1_attendance', 'one_credit_course_2_ca',\n",
              "       'one_credit_course_2_grade', 'one_credit_course_2_attendance',\n",
              "       'one_credit_course_3_ca', 'one_credit_course_3_grade',\n",
              "       'one_credit_course_3_attendance', 'one_credit_course_4_ca',\n",
              "       'one_credit_course_4_grade', 'one_credit_course_4_attendance',\n",
              "       'two_credit_course_1_ca', 'two_credit_course_1_grade',\n",
              "       'two_credit_course_1_attendance', 'two_credit_course_2_ca',\n",
              "       'two_credit_course_2_grade', 'two_credit_course_2_attendance',\n",
              "       'two_credit_course_3_ca', 'two_credit_course_3_grade',\n",
              "       'two_credit_course_3_attendance', 'two_credit_course_4_ca',\n",
              "       'two_credit_course_4_grade', 'two_credit_course_4_attendance',\n",
              "       'three_credit_course_1_ca', 'three_credit_course_1_grade',\n",
              "       'three_credit_course_1_attendance'],\n",
              "      dtype='object')"
            ]
          },
          "execution_count": 397,
          "metadata": {},
          "output_type": "execute_result"
        }
      ],
      "source": [
        "df5 = pd.read_csv(\"C:/Users/NYA/Desktop/XGBoost/With GPA/Dataset/sem5.csv\")\n",
        "def extract_course_data_sem5(row):\n",
        "    course_data = {}\n",
        "    for col in df5.columns:\n",
        "        if \"CS\" in col:\n",
        "            course_code = col[:6]\n",
        "            if course_code not in course_data:\n",
        "                course_data[course_code] = {\n",
        "                    'ca': row.get(course_code + \"_CA\"),\n",
        "                    'grade': row.get(course_code),\n",
        "                    'attendance': row.get(course_code + \"_attendance\"),\n",
        "                    'credit': get_credit_value(course_code)\n",
        "                }\n",
        "    return course_data\n",
        "\n",
        "\n",
        "def process_row(row):\n",
        "    course_data = extract_course_data_sem5(row)\n",
        "    new_row = {\n",
        "        \"Gender\": row['Gender'],\n",
        "        \"Study Hours\": row['Study Hours'],\n",
        "        \"Extracurricular_Involvement\": row['Extracurricular_Involvement'],\n",
        "        \"Part time job\": row['Part time job'],\n",
        "        \"Struggle with English\": row['Struggle with English'],\n",
        "        \"Year\": 'third',\n",
        "        \"Pass/Fail\" : row['5sem_pass/fail'],\n",
        "         \"Previous_GPA\" : row['4th_sem_GPA']\n",
        "    }\n",
        "\n",
        "    one_credit_courses = [course for course in course_data.values() if course['credit'] == 1]\n",
        "    for i, course in enumerate(one_credit_courses, start=1):\n",
        "        new_row[f\"one_credit_course_{i}_ca\"] = course['ca']/CA_HIGHEST\n",
        "        new_row[f\"one_credit_course_{i}_grade\"] = map_grade(course['grade'])\n",
        "        new_row[f\"one_credit_course_{i}_attendance\"] = course['attendance']\n",
        "\n",
        "    two_credit_courses = [course for course in course_data.values() if course['credit'] == 2]\n",
        "    for i, course in enumerate(two_credit_courses, start=1):\n",
        "        new_row[f\"two_credit_course_{i}_ca\"] = course['ca']/CA_HIGHEST\n",
        "        new_row[f\"two_credit_course_{i}_grade\"] = map_grade(course['grade'])\n",
        "        new_row[f\"two_credit_course_{i}_attendance\"] = course['attendance']\n",
        "\n",
        "\n",
        "    three_credit_courses = [course for course in course_data.values() if course['credit'] == 3]\n",
        "    for i, course in enumerate(three_credit_courses, start=1):\n",
        "        new_row[f\"three_credit_course_{i}_ca\"] = course['ca']/CA_HIGHEST\n",
        "        new_row[f\"three_credit_course_{i}_grade\"] = map_grade(course['grade'])\n",
        "        new_row[f\"three_credit_course_{i}_attendance\"] = course['attendance']\n",
        "\n",
        "    return new_row\n",
        "\n",
        "\n",
        "\n",
        "processed_df5= pd.DataFrame(df5.apply(process_row, axis=1).tolist())\n",
        "processed_df5.head()\n",
        "processed_df5.columns"
      ]
    },
    {
      "cell_type": "markdown",
      "metadata": {
        "id": "tO026TLGDVer"
      },
      "source": [
        "## Pre-Processing Semester 6 Data"
      ]
    },
    {
      "cell_type": "code",
      "execution_count": 398,
      "metadata": {
        "colab": {
          "base_uri": "https://localhost:8080/",
          "height": 342
        },
        "id": "CZmupgiXDaMi",
        "outputId": "4342298f-cbd6-473e-e6b2-8fcf9ff4f9e3"
      },
      "outputs": [
        {
          "data": {
            "text/html": [
              "<div>\n",
              "<style scoped>\n",
              "    .dataframe tbody tr th:only-of-type {\n",
              "        vertical-align: middle;\n",
              "    }\n",
              "\n",
              "    .dataframe tbody tr th {\n",
              "        vertical-align: top;\n",
              "    }\n",
              "\n",
              "    .dataframe thead th {\n",
              "        text-align: right;\n",
              "    }\n",
              "</style>\n",
              "<table border=\"1\" class=\"dataframe\">\n",
              "  <thead>\n",
              "    <tr style=\"text-align: right;\">\n",
              "      <th></th>\n",
              "      <th>Gender</th>\n",
              "      <th>Study Hours</th>\n",
              "      <th>Extracurricular_Involvement</th>\n",
              "      <th>Part time job</th>\n",
              "      <th>Struggle with English</th>\n",
              "      <th>Year</th>\n",
              "      <th>Pass/Fail</th>\n",
              "      <th>Previous_GPA</th>\n",
              "      <th>one_credit_course_1_ca</th>\n",
              "      <th>one_credit_course_1_grade</th>\n",
              "      <th>...</th>\n",
              "      <th>two_credit_course_2_attendance</th>\n",
              "      <th>two_credit_course_3_ca</th>\n",
              "      <th>two_credit_course_3_grade</th>\n",
              "      <th>two_credit_course_3_attendance</th>\n",
              "      <th>three_credit_course_1_ca</th>\n",
              "      <th>three_credit_course_1_grade</th>\n",
              "      <th>three_credit_course_1_attendance</th>\n",
              "      <th>three_credit_course_2_ca</th>\n",
              "      <th>three_credit_course_2_grade</th>\n",
              "      <th>three_credit_course_2_attendance</th>\n",
              "    </tr>\n",
              "  </thead>\n",
              "  <tbody>\n",
              "    <tr>\n",
              "      <th>0</th>\n",
              "      <td>Female</td>\n",
              "      <td>2</td>\n",
              "      <td>Yes</td>\n",
              "      <td>No</td>\n",
              "      <td>Yes</td>\n",
              "      <td>third</td>\n",
              "      <td>1</td>\n",
              "      <td>2.806667</td>\n",
              "      <td>0.257143</td>\n",
              "      <td>4.0</td>\n",
              "      <td>...</td>\n",
              "      <td>1</td>\n",
              "      <td>0.800000</td>\n",
              "      <td>2.7</td>\n",
              "      <td>1</td>\n",
              "      <td>0.571429</td>\n",
              "      <td>2.7</td>\n",
              "      <td>1</td>\n",
              "      <td>0.771429</td>\n",
              "      <td>4.0</td>\n",
              "      <td>1</td>\n",
              "    </tr>\n",
              "    <tr>\n",
              "      <th>1</th>\n",
              "      <td>Male</td>\n",
              "      <td>1</td>\n",
              "      <td>Yes</td>\n",
              "      <td>Yes</td>\n",
              "      <td>No</td>\n",
              "      <td>third</td>\n",
              "      <td>0</td>\n",
              "      <td>2.411667</td>\n",
              "      <td>0.342857</td>\n",
              "      <td>4.0</td>\n",
              "      <td>...</td>\n",
              "      <td>1</td>\n",
              "      <td>0.542857</td>\n",
              "      <td>2.0</td>\n",
              "      <td>1</td>\n",
              "      <td>0.542857</td>\n",
              "      <td>1.7</td>\n",
              "      <td>1</td>\n",
              "      <td>0.742857</td>\n",
              "      <td>2.7</td>\n",
              "      <td>1</td>\n",
              "    </tr>\n",
              "    <tr>\n",
              "      <th>2</th>\n",
              "      <td>Male</td>\n",
              "      <td>2</td>\n",
              "      <td>Yes</td>\n",
              "      <td>Yes</td>\n",
              "      <td>No</td>\n",
              "      <td>third</td>\n",
              "      <td>1</td>\n",
              "      <td>3.218333</td>\n",
              "      <td>0.628571</td>\n",
              "      <td>4.0</td>\n",
              "      <td>...</td>\n",
              "      <td>1</td>\n",
              "      <td>0.571429</td>\n",
              "      <td>2.0</td>\n",
              "      <td>1</td>\n",
              "      <td>0.714286</td>\n",
              "      <td>4.0</td>\n",
              "      <td>1</td>\n",
              "      <td>0.714286</td>\n",
              "      <td>2.7</td>\n",
              "      <td>1</td>\n",
              "    </tr>\n",
              "    <tr>\n",
              "      <th>3</th>\n",
              "      <td>Male</td>\n",
              "      <td>4</td>\n",
              "      <td>No</td>\n",
              "      <td>No</td>\n",
              "      <td>No</td>\n",
              "      <td>third</td>\n",
              "      <td>0</td>\n",
              "      <td>1.788333</td>\n",
              "      <td>0.542857</td>\n",
              "      <td>4.0</td>\n",
              "      <td>...</td>\n",
              "      <td>1</td>\n",
              "      <td>0.142857</td>\n",
              "      <td>1.7</td>\n",
              "      <td>1</td>\n",
              "      <td>0.228571</td>\n",
              "      <td>1.3</td>\n",
              "      <td>1</td>\n",
              "      <td>0.714286</td>\n",
              "      <td>2.7</td>\n",
              "      <td>1</td>\n",
              "    </tr>\n",
              "    <tr>\n",
              "      <th>4</th>\n",
              "      <td>Male</td>\n",
              "      <td>less than 1 hour</td>\n",
              "      <td>Yes</td>\n",
              "      <td>Yes</td>\n",
              "      <td>Yes</td>\n",
              "      <td>third</td>\n",
              "      <td>1</td>\n",
              "      <td>3.095000</td>\n",
              "      <td>0.571429</td>\n",
              "      <td>3.7</td>\n",
              "      <td>...</td>\n",
              "      <td>1</td>\n",
              "      <td>0.628571</td>\n",
              "      <td>3.0</td>\n",
              "      <td>1</td>\n",
              "      <td>0.714286</td>\n",
              "      <td>3.3</td>\n",
              "      <td>1</td>\n",
              "      <td>0.685714</td>\n",
              "      <td>3.0</td>\n",
              "      <td>1</td>\n",
              "    </tr>\n",
              "  </tbody>\n",
              "</table>\n",
              "<p>5 rows × 32 columns</p>\n",
              "</div>"
            ],
            "text/plain": [
              "   Gender       Study Hours Extracurricular_Involvement Part time job  \\\n",
              "0  Female                 2                         Yes            No   \n",
              "1    Male                 1                         Yes           Yes   \n",
              "2    Male                 2                         Yes           Yes   \n",
              "3    Male                 4                          No            No   \n",
              "4    Male  less than 1 hour                         Yes           Yes   \n",
              "\n",
              "  Struggle with English   Year  Pass/Fail  Previous_GPA  \\\n",
              "0                   Yes  third          1      2.806667   \n",
              "1                    No  third          0      2.411667   \n",
              "2                    No  third          1      3.218333   \n",
              "3                    No  third          0      1.788333   \n",
              "4                   Yes  third          1      3.095000   \n",
              "\n",
              "   one_credit_course_1_ca  one_credit_course_1_grade  ...  \\\n",
              "0                0.257143                        4.0  ...   \n",
              "1                0.342857                        4.0  ...   \n",
              "2                0.628571                        4.0  ...   \n",
              "3                0.542857                        4.0  ...   \n",
              "4                0.571429                        3.7  ...   \n",
              "\n",
              "   two_credit_course_2_attendance  two_credit_course_3_ca  \\\n",
              "0                               1                0.800000   \n",
              "1                               1                0.542857   \n",
              "2                               1                0.571429   \n",
              "3                               1                0.142857   \n",
              "4                               1                0.628571   \n",
              "\n",
              "   two_credit_course_3_grade  two_credit_course_3_attendance  \\\n",
              "0                        2.7                               1   \n",
              "1                        2.0                               1   \n",
              "2                        2.0                               1   \n",
              "3                        1.7                               1   \n",
              "4                        3.0                               1   \n",
              "\n",
              "   three_credit_course_1_ca  three_credit_course_1_grade  \\\n",
              "0                  0.571429                          2.7   \n",
              "1                  0.542857                          1.7   \n",
              "2                  0.714286                          4.0   \n",
              "3                  0.228571                          1.3   \n",
              "4                  0.714286                          3.3   \n",
              "\n",
              "   three_credit_course_1_attendance  three_credit_course_2_ca  \\\n",
              "0                                 1                  0.771429   \n",
              "1                                 1                  0.742857   \n",
              "2                                 1                  0.714286   \n",
              "3                                 1                  0.714286   \n",
              "4                                 1                  0.685714   \n",
              "\n",
              "   three_credit_course_2_grade  three_credit_course_2_attendance  \n",
              "0                          4.0                                 1  \n",
              "1                          2.7                                 1  \n",
              "2                          2.7                                 1  \n",
              "3                          2.7                                 1  \n",
              "4                          3.0                                 1  \n",
              "\n",
              "[5 rows x 32 columns]"
            ]
          },
          "execution_count": 398,
          "metadata": {},
          "output_type": "execute_result"
        }
      ],
      "source": [
        "df6 = pd.read_csv(\"C:/Users/NYA/Desktop/XGBoost/With GPA/Dataset/sem6.csv\")\n",
        "def extract_course_data_sem6(row):\n",
        "    course_data = {}\n",
        "    for col in df6.columns:\n",
        "        if \"CS\" in col:\n",
        "            course_code = col[:6]\n",
        "            if course_code not in course_data:\n",
        "                course_data[course_code] = {\n",
        "                    'ca': row.get(course_code + \"_CA\"),\n",
        "                    'grade': row.get(course_code),\n",
        "                    'attendance': row.get(course_code + \"_attendance\"),\n",
        "                    'credit': get_credit_value(course_code)\n",
        "                }\n",
        "    return course_data\n",
        "\n",
        "\n",
        "def process_row(row):\n",
        "    course_data = extract_course_data_sem6(row)\n",
        "    new_row = {\n",
        "        \"Gender\": row['Gender'],\n",
        "        \"Study Hours\": row['Study Hours'],\n",
        "        \"Extracurricular_Involvement\": row['Extracurricular_Involvement'],\n",
        "        \"Part time job\": row['Part time job'],\n",
        "        \"Struggle with English\": row['Struggle with English'],\n",
        "        \"Year\": 'third',\n",
        "        \"Pass/Fail\" : row['6sem_pass/fail'],\n",
        "         \"Previous_GPA\" : row['5th_sem_GPA']\n",
        "    }\n",
        "\n",
        "    one_credit_courses = [course for course in course_data.values() if course['credit'] == 1]\n",
        "    for i, course in enumerate(one_credit_courses, start=1):\n",
        "        new_row[f\"one_credit_course_{i}_ca\"] = course['ca']/CA_HIGHEST\n",
        "        new_row[f\"one_credit_course_{i}_grade\"] = map_grade(course['grade'])\n",
        "        new_row[f\"one_credit_course_{i}_attendance\"] = course['attendance']\n",
        "\n",
        "    two_credit_courses = [course for course in course_data.values() if course['credit'] == 2]\n",
        "    for i, course in enumerate(two_credit_courses, start=1):\n",
        "        new_row[f\"two_credit_course_{i}_ca\"] = course['ca']/CA_HIGHEST\n",
        "        new_row[f\"two_credit_course_{i}_grade\"] = map_grade(course['grade'])\n",
        "        new_row[f\"two_credit_course_{i}_attendance\"] = course['attendance']\n",
        "\n",
        "\n",
        "    three_credit_courses = [course for course in course_data.values() if course['credit'] == 3]\n",
        "    for i, course in enumerate(three_credit_courses, start=1):\n",
        "        new_row[f\"three_credit_course_{i}_ca\"] = course['ca']/CA_HIGHEST\n",
        "        new_row[f\"three_credit_course_{i}_grade\"] = map_grade(course['grade'])\n",
        "        new_row[f\"three_credit_course_{i}_attendance\"] = course['attendance']\n",
        "\n",
        "    return new_row\n",
        "\n",
        "\n",
        "\n",
        "processed_df6= pd.DataFrame(df6.apply(process_row, axis=1).tolist())\n",
        "processed_df6.head()"
      ]
    },
    {
      "cell_type": "code",
      "execution_count": 399,
      "metadata": {
        "colab": {
          "base_uri": "https://localhost:8080/"
        },
        "id": "LKB8gwOiD-UG",
        "outputId": "65108b82-2e3c-4471-bde5-57b0b49cc469"
      },
      "outputs": [
        {
          "data": {
            "text/plain": [
              "(1134, 44)"
            ]
          },
          "execution_count": 399,
          "metadata": {},
          "output_type": "execute_result"
        }
      ],
      "source": [
        "dataframe = pd.concat([processed_df1, processed_df2, processed_df3, processed_df4, processed_df5, processed_df6], ignore_index=True)\n",
        "dataframe.shape"
      ]
    },
    {
      "cell_type": "code",
      "execution_count": 400,
      "metadata": {
        "colab": {
          "base_uri": "https://localhost:8080/"
        },
        "id": "X6DNt99QEIPZ",
        "outputId": "4aa0a15a-0435-4aa1-bba7-d4ddd0de318b"
      },
      "outputs": [
        {
          "data": {
            "text/plain": [
              "Index(['Gender', 'Study Hours', 'Extracurricular_Involvement', 'Part time job',\n",
              "       'Struggle with English', 'Year', 'Pass/Fail', 'Previous_GPA',\n",
              "       'one_credit_course_1_ca', 'one_credit_course_1_grade',\n",
              "       'one_credit_course_1_attendance', 'one_credit_course_2_ca',\n",
              "       'one_credit_course_2_grade', 'one_credit_course_2_attendance',\n",
              "       'one_credit_course_3_ca', 'one_credit_course_3_grade',\n",
              "       'one_credit_course_3_attendance', 'two_credit_course_1_ca',\n",
              "       'two_credit_course_1_grade', 'two_credit_course_1_attendance',\n",
              "       'two_credit_course_2_ca', 'two_credit_course_2_grade',\n",
              "       'two_credit_course_2_attendance', 'two_credit_course_3_ca',\n",
              "       'two_credit_course_3_grade', 'two_credit_course_3_attendance',\n",
              "       'two_credit_course_4_ca', 'two_credit_course_4_grade',\n",
              "       'two_credit_course_4_attendance', 'two_credit_course_5_ca',\n",
              "       'two_credit_course_5_grade', 'two_credit_course_5_attendance',\n",
              "       'two_credit_course_6_ca', 'two_credit_course_6_grade',\n",
              "       'two_credit_course_6_attendance', 'one_credit_course_4_ca',\n",
              "       'one_credit_course_4_grade', 'one_credit_course_4_attendance',\n",
              "       'three_credit_course_1_ca', 'three_credit_course_1_grade',\n",
              "       'three_credit_course_1_attendance', 'three_credit_course_2_ca',\n",
              "       'three_credit_course_2_grade', 'three_credit_course_2_attendance'],\n",
              "      dtype='object')"
            ]
          },
          "execution_count": 400,
          "metadata": {},
          "output_type": "execute_result"
        }
      ],
      "source": [
        "dataframe.columns"
      ]
    },
    {
      "cell_type": "code",
      "execution_count": 401,
      "metadata": {
        "colab": {
          "base_uri": "https://localhost:8080/",
          "height": 342
        },
        "id": "29f04CU-NMNh",
        "outputId": "a2525ff8-8ba5-40fb-9100-83923c589d45"
      },
      "outputs": [
        {
          "data": {
            "text/html": [
              "<div>\n",
              "<style scoped>\n",
              "    .dataframe tbody tr th:only-of-type {\n",
              "        vertical-align: middle;\n",
              "    }\n",
              "\n",
              "    .dataframe tbody tr th {\n",
              "        vertical-align: top;\n",
              "    }\n",
              "\n",
              "    .dataframe thead th {\n",
              "        text-align: right;\n",
              "    }\n",
              "</style>\n",
              "<table border=\"1\" class=\"dataframe\">\n",
              "  <thead>\n",
              "    <tr style=\"text-align: right;\">\n",
              "      <th></th>\n",
              "      <th>Gender</th>\n",
              "      <th>Study Hours</th>\n",
              "      <th>Extracurricular_Involvement</th>\n",
              "      <th>Part time job</th>\n",
              "      <th>Struggle with English</th>\n",
              "      <th>Year</th>\n",
              "      <th>Pass/Fail</th>\n",
              "      <th>Previous_GPA</th>\n",
              "      <th>one_credit_course_1_ca</th>\n",
              "      <th>one_credit_course_1_grade</th>\n",
              "      <th>...</th>\n",
              "      <th>two_credit_course_6_attendance</th>\n",
              "      <th>one_credit_course_4_ca</th>\n",
              "      <th>one_credit_course_4_grade</th>\n",
              "      <th>one_credit_course_4_attendance</th>\n",
              "      <th>three_credit_course_1_ca</th>\n",
              "      <th>three_credit_course_1_grade</th>\n",
              "      <th>three_credit_course_1_attendance</th>\n",
              "      <th>three_credit_course_2_ca</th>\n",
              "      <th>three_credit_course_2_grade</th>\n",
              "      <th>three_credit_course_2_attendance</th>\n",
              "    </tr>\n",
              "  </thead>\n",
              "  <tbody>\n",
              "    <tr>\n",
              "      <th>0</th>\n",
              "      <td>Female</td>\n",
              "      <td>2</td>\n",
              "      <td>Yes</td>\n",
              "      <td>No</td>\n",
              "      <td>Yes</td>\n",
              "      <td>first</td>\n",
              "      <td>0</td>\n",
              "      <td>4.0</td>\n",
              "      <td>0.828571</td>\n",
              "      <td>3.3</td>\n",
              "      <td>...</td>\n",
              "      <td>1.0</td>\n",
              "      <td>0.0</td>\n",
              "      <td>0.0</td>\n",
              "      <td>0.0</td>\n",
              "      <td>0.0</td>\n",
              "      <td>0.0</td>\n",
              "      <td>0.0</td>\n",
              "      <td>0.0</td>\n",
              "      <td>0.0</td>\n",
              "      <td>0.0</td>\n",
              "    </tr>\n",
              "    <tr>\n",
              "      <th>1</th>\n",
              "      <td>Male</td>\n",
              "      <td>1</td>\n",
              "      <td>Yes</td>\n",
              "      <td>Yes</td>\n",
              "      <td>No</td>\n",
              "      <td>first</td>\n",
              "      <td>1</td>\n",
              "      <td>4.0</td>\n",
              "      <td>0.828571</td>\n",
              "      <td>4.0</td>\n",
              "      <td>...</td>\n",
              "      <td>1.0</td>\n",
              "      <td>0.0</td>\n",
              "      <td>0.0</td>\n",
              "      <td>0.0</td>\n",
              "      <td>0.0</td>\n",
              "      <td>0.0</td>\n",
              "      <td>0.0</td>\n",
              "      <td>0.0</td>\n",
              "      <td>0.0</td>\n",
              "      <td>0.0</td>\n",
              "    </tr>\n",
              "    <tr>\n",
              "      <th>2</th>\n",
              "      <td>Male</td>\n",
              "      <td>2</td>\n",
              "      <td>Yes</td>\n",
              "      <td>Yes</td>\n",
              "      <td>No</td>\n",
              "      <td>first</td>\n",
              "      <td>1</td>\n",
              "      <td>4.0</td>\n",
              "      <td>0.885714</td>\n",
              "      <td>4.0</td>\n",
              "      <td>...</td>\n",
              "      <td>1.0</td>\n",
              "      <td>0.0</td>\n",
              "      <td>0.0</td>\n",
              "      <td>0.0</td>\n",
              "      <td>0.0</td>\n",
              "      <td>0.0</td>\n",
              "      <td>0.0</td>\n",
              "      <td>0.0</td>\n",
              "      <td>0.0</td>\n",
              "      <td>0.0</td>\n",
              "    </tr>\n",
              "    <tr>\n",
              "      <th>3</th>\n",
              "      <td>Male</td>\n",
              "      <td>4</td>\n",
              "      <td>No</td>\n",
              "      <td>No</td>\n",
              "      <td>No</td>\n",
              "      <td>first</td>\n",
              "      <td>0</td>\n",
              "      <td>4.0</td>\n",
              "      <td>0.400000</td>\n",
              "      <td>2.7</td>\n",
              "      <td>...</td>\n",
              "      <td>1.0</td>\n",
              "      <td>0.0</td>\n",
              "      <td>0.0</td>\n",
              "      <td>0.0</td>\n",
              "      <td>0.0</td>\n",
              "      <td>0.0</td>\n",
              "      <td>0.0</td>\n",
              "      <td>0.0</td>\n",
              "      <td>0.0</td>\n",
              "      <td>0.0</td>\n",
              "    </tr>\n",
              "    <tr>\n",
              "      <th>4</th>\n",
              "      <td>Male</td>\n",
              "      <td>less than 1 hour</td>\n",
              "      <td>Yes</td>\n",
              "      <td>Yes</td>\n",
              "      <td>Yes</td>\n",
              "      <td>first</td>\n",
              "      <td>0</td>\n",
              "      <td>4.0</td>\n",
              "      <td>0.342857</td>\n",
              "      <td>4.0</td>\n",
              "      <td>...</td>\n",
              "      <td>1.0</td>\n",
              "      <td>0.0</td>\n",
              "      <td>0.0</td>\n",
              "      <td>0.0</td>\n",
              "      <td>0.0</td>\n",
              "      <td>0.0</td>\n",
              "      <td>0.0</td>\n",
              "      <td>0.0</td>\n",
              "      <td>0.0</td>\n",
              "      <td>0.0</td>\n",
              "    </tr>\n",
              "  </tbody>\n",
              "</table>\n",
              "<p>5 rows × 44 columns</p>\n",
              "</div>"
            ],
            "text/plain": [
              "   Gender       Study Hours Extracurricular_Involvement Part time job  \\\n",
              "0  Female                 2                         Yes            No   \n",
              "1    Male                 1                         Yes           Yes   \n",
              "2    Male                 2                         Yes           Yes   \n",
              "3    Male                 4                          No            No   \n",
              "4    Male  less than 1 hour                         Yes           Yes   \n",
              "\n",
              "  Struggle with English   Year  Pass/Fail  Previous_GPA  \\\n",
              "0                   Yes  first          0           4.0   \n",
              "1                    No  first          1           4.0   \n",
              "2                    No  first          1           4.0   \n",
              "3                    No  first          0           4.0   \n",
              "4                   Yes  first          0           4.0   \n",
              "\n",
              "   one_credit_course_1_ca  one_credit_course_1_grade  ...  \\\n",
              "0                0.828571                        3.3  ...   \n",
              "1                0.828571                        4.0  ...   \n",
              "2                0.885714                        4.0  ...   \n",
              "3                0.400000                        2.7  ...   \n",
              "4                0.342857                        4.0  ...   \n",
              "\n",
              "   two_credit_course_6_attendance  one_credit_course_4_ca  \\\n",
              "0                             1.0                     0.0   \n",
              "1                             1.0                     0.0   \n",
              "2                             1.0                     0.0   \n",
              "3                             1.0                     0.0   \n",
              "4                             1.0                     0.0   \n",
              "\n",
              "   one_credit_course_4_grade  one_credit_course_4_attendance  \\\n",
              "0                        0.0                             0.0   \n",
              "1                        0.0                             0.0   \n",
              "2                        0.0                             0.0   \n",
              "3                        0.0                             0.0   \n",
              "4                        0.0                             0.0   \n",
              "\n",
              "   three_credit_course_1_ca  three_credit_course_1_grade  \\\n",
              "0                       0.0                          0.0   \n",
              "1                       0.0                          0.0   \n",
              "2                       0.0                          0.0   \n",
              "3                       0.0                          0.0   \n",
              "4                       0.0                          0.0   \n",
              "\n",
              "   three_credit_course_1_attendance  three_credit_course_2_ca  \\\n",
              "0                               0.0                       0.0   \n",
              "1                               0.0                       0.0   \n",
              "2                               0.0                       0.0   \n",
              "3                               0.0                       0.0   \n",
              "4                               0.0                       0.0   \n",
              "\n",
              "   three_credit_course_2_grade  three_credit_course_2_attendance  \n",
              "0                          0.0                               0.0  \n",
              "1                          0.0                               0.0  \n",
              "2                          0.0                               0.0  \n",
              "3                          0.0                               0.0  \n",
              "4                          0.0                               0.0  \n",
              "\n",
              "[5 rows x 44 columns]"
            ]
          },
          "execution_count": 401,
          "metadata": {},
          "output_type": "execute_result"
        }
      ],
      "source": [
        "#filling NAN values with 0\n",
        "dataframe.fillna(0, inplace=True)\n",
        "dataframe.head()"
      ]
    },
    {
      "cell_type": "markdown",
      "metadata": {
        "id": "lQtF3zspVENk"
      },
      "source": [
        "#### Pre-processing Study Hour column"
      ]
    },
    {
      "cell_type": "code",
      "execution_count": 402,
      "metadata": {
        "colab": {
          "base_uri": "https://localhost:8080/"
        },
        "id": "tVO6zaHgVLJF",
        "outputId": "9bbe86d8-77dc-4d7a-b77a-1ad2e039a624"
      },
      "outputs": [
        {
          "name": "stdout",
          "output_type": "stream",
          "text": [
            "0      2\n",
            "1      1\n",
            "2      2\n",
            "3      4\n",
            "4    0.5\n",
            "Name: Study Hours, dtype: object\n"
          ]
        }
      ],
      "source": [
        "# Replace the string 'less than 1 hour' with a suitable numerical value by, 0.5\n",
        "dataframe['Study Hours'] = dataframe['Study Hours'].replace('less than 1 hour', 0.5)\n",
        "# Replace the string 'less than 1 hour' with a suitable numerical value by, 6.5\n",
        "dataframe['Study Hours'] = dataframe['Study Hours'].replace('more than 6 hours',6.5)\n",
        "print(dataframe['Study Hours'].head())\n"
      ]
    },
    {
      "cell_type": "code",
      "execution_count": 403,
      "metadata": {
        "id": "sn1h-Gv4WDxi"
      },
      "outputs": [],
      "source": [
        "dataframe.columns\n",
        "#shuffle the dataframe\n",
        "dataframe = dataframe.sample(frac = 1)"
      ]
    },
    {
      "cell_type": "markdown",
      "metadata": {
        "id": "XO5pBX2xYSEy"
      },
      "source": [
        "## Selecting Feature Set and Independent Variables"
      ]
    },
    {
      "cell_type": "code",
      "execution_count": 404,
      "metadata": {
        "colab": {
          "base_uri": "https://localhost:8080/"
        },
        "id": "gZPbEZINYZls",
        "outputId": "2b865b58-28d0-4261-cd88-89cf8e02720b"
      },
      "outputs": [
        {
          "name": "stdout",
          "output_type": "stream",
          "text": [
            "(1134, 43)\n",
            "(1134,)\n"
          ]
        }
      ],
      "source": [
        "y = dataframe['Pass/Fail']  # Target variable\n",
        "\n",
        "# Define the feature columns (all columns except Pass/Fail)\n",
        "X = dataframe.drop('Pass/Fail', axis=1)  # Features\n",
        "\n",
        "# Check the shape of X and y to ensure they were separated correctly\n",
        "print(X.shape)\n",
        "print(y.shape)"
      ]
    },
    {
      "cell_type": "markdown",
      "metadata": {
        "id": "-XPE6KA2Uo77"
      },
      "source": [
        "## One Hot Encoder to deal with Categorical Data"
      ]
    },
    {
      "cell_type": "code",
      "execution_count": 405,
      "metadata": {
        "colab": {
          "base_uri": "https://localhost:8080/"
        },
        "id": "TBl2BIo_PwL-",
        "outputId": "b6a3623b-3cc9-4e53-c6a2-d0819c5a345c"
      },
      "outputs": [
        {
          "data": {
            "text/plain": [
              "(1134, 49)"
            ]
          },
          "execution_count": 405,
          "metadata": {},
          "output_type": "execute_result"
        }
      ],
      "source": [
        "from sklearn.compose import ColumnTransformer\n",
        "from sklearn.preprocessing import OneHotEncoder\n",
        "ct = ColumnTransformer(transformers=[('encoder', OneHotEncoder(), [0,2,3,4,5])], remainder='passthrough')\n",
        "X= np.array(ct.fit_transform(X))\n",
        "X.shape"
      ]
    },
    {
      "cell_type": "markdown",
      "metadata": {
        "id": "Bbcclqz3aRhT"
      },
      "source": [
        "### Splitting the data into Train and Test Set"
      ]
    },
    {
      "cell_type": "code",
      "execution_count": 406,
      "metadata": {
        "id": "FhHiorO_YyHU"
      },
      "outputs": [],
      "source": [
        "from sklearn.model_selection import train_test_split\n",
        "X_train, X_test, y_train, y_test = train_test_split(X, y, test_size = 0.2, random_state = 42)"
      ]
    },
    {
      "cell_type": "markdown",
      "metadata": {
        "id": "wsKbdbACa5fx"
      },
      "source": [
        "### Feature Engineering for identify most important features of Feature Set"
      ]
    },
    {
      "cell_type": "code",
      "execution_count": 407,
      "metadata": {
        "colab": {
          "base_uri": "https://localhost:8080/"
        },
        "id": "H3qKHb-qbCuA",
        "outputId": "77a81b72-4591-4d87-f7bc-4eaa2a534697"
      },
      "outputs": [
        {
          "name": "stdout",
          "output_type": "stream",
          "text": [
            "                                        feature  importance\n",
            "26         remainder__two_credit_course_2_grade    0.354395\n",
            "29         remainder__two_credit_course_3_grade    0.131488\n",
            "38         remainder__two_credit_course_6_grade    0.115998\n",
            "17         remainder__one_credit_course_2_grade    0.091645\n",
            "32         remainder__two_credit_course_4_grade    0.071126\n",
            "44       remainder__three_credit_course_1_grade    0.058910\n",
            "23         remainder__two_credit_course_1_grade    0.055419\n",
            "14         remainder__one_credit_course_1_grade    0.030411\n",
            "43          remainder__three_credit_course_1_ca    0.021786\n",
            "20         remainder__one_credit_course_3_grade    0.010420\n",
            "12                      remainder__Previous_GPA    0.008304\n",
            "35         remainder__two_credit_course_5_grade    0.006656\n",
            "34            remainder__two_credit_course_5_ca    0.006459\n",
            "40            remainder__one_credit_course_4_ca    0.003940\n",
            "13            remainder__one_credit_course_1_ca    0.003618\n",
            "37            remainder__two_credit_course_6_ca    0.003509\n",
            "31            remainder__two_credit_course_4_ca    0.003047\n",
            "25            remainder__two_credit_course_2_ca    0.002935\n",
            "11                       remainder__Study Hours    0.002375\n",
            "47       remainder__three_credit_course_2_grade    0.002224\n",
            "28            remainder__two_credit_course_3_ca    0.001920\n",
            "19            remainder__one_credit_course_3_ca    0.001494\n",
            "22            remainder__two_credit_course_1_ca    0.001451\n",
            "16            remainder__one_credit_course_2_ca    0.001351\n",
            "48  remainder__three_credit_course_2_attendance    0.001110\n",
            "0                        encoder__Gender_Female    0.001000\n",
            "9                          encoder__Year_second    0.000984\n",
            "41         remainder__one_credit_course_4_grade    0.000769\n",
            "36    remainder__two_credit_course_5_attendance    0.000571\n",
            "33    remainder__two_credit_course_4_attendance    0.000559\n",
            "4                     encoder__Part time job_No    0.000545\n",
            "46          remainder__three_credit_course_2_ca    0.000479\n",
            "7            encoder__Struggle with English_Yes    0.000466\n",
            "10                          encoder__Year_third    0.000433\n",
            "3      encoder__Extracurricular_Involvement_Yes    0.000433\n",
            "5                    encoder__Part time job_Yes    0.000430\n",
            "1                          encoder__Gender_Male    0.000349\n",
            "2       encoder__Extracurricular_Involvement_No    0.000284\n",
            "15    remainder__one_credit_course_1_attendance    0.000220\n",
            "6             encoder__Struggle with English_No    0.000160\n",
            "8                           encoder__Year_first    0.000089\n",
            "18    remainder__one_credit_course_2_attendance    0.000071\n",
            "42    remainder__one_credit_course_4_attendance    0.000065\n",
            "39    remainder__two_credit_course_6_attendance    0.000037\n",
            "21    remainder__one_credit_course_3_attendance    0.000034\n",
            "24    remainder__two_credit_course_1_attendance    0.000030\n",
            "27    remainder__two_credit_course_2_attendance    0.000000\n",
            "30    remainder__two_credit_course_3_attendance    0.000000\n",
            "45  remainder__three_credit_course_1_attendance    0.000000\n"
          ]
        }
      ],
      "source": [
        "from sklearn.ensemble import RandomForestRegressor  # Example model\n",
        "\n",
        "# Train a RandomForestRegressor (you can use any other model like RandomForestClassifier if it's classification)\n",
        "model = RandomForestRegressor(random_state=42)\n",
        "model.fit(X_train, y_train)\n",
        "\n",
        "# Get feature importance\n",
        "importances = model.feature_importances_\n",
        "\n",
        "# Get the names of the encoded features from the ColumnTransformer\n",
        "# Categorical features were one-hot encoded, so we get the new feature names\n",
        "encoded_feature_names = ct.get_feature_names_out()\n",
        "\n",
        "# Combine the encoded feature names with their importance\n",
        "feature_importance = pd.DataFrame({\n",
        "    'feature': encoded_feature_names,\n",
        "    'importance': importances\n",
        "})\n",
        "\n",
        "# Sort the features by importance\n",
        "feature_importance = feature_importance.sort_values(by='importance', ascending=False)\n",
        "\n",
        "# Display the feature importance\n",
        "print(feature_importance)\n",
        "\n",
        "\n"
      ]
    },
    {
      "cell_type": "markdown",
      "metadata": {
        "id": "BGKANJ6Feneb"
      },
      "source": [
        "### Applying a standard scaler"
      ]
    },
    {
      "cell_type": "code",
      "execution_count": 408,
      "metadata": {
        "id": "deRMzPQWdUVs"
      },
      "outputs": [],
      "source": [
        "from sklearn.preprocessing import StandardScaler\n",
        "sc = StandardScaler()\n",
        "X_train = sc.fit_transform(X_train)\n"
      ]
    },
    {
      "cell_type": "markdown",
      "metadata": {
        "id": "rTjE96-j49Z_"
      },
      "source": [
        "### Random Forest Classifier"
      ]
    },
    {
      "cell_type": "code",
      "execution_count": 409,
      "metadata": {
        "colab": {
          "base_uri": "https://localhost:8080/"
        },
        "id": "ADsVX4OUfU5Y",
        "outputId": "bdfeb790-86d6-4f7d-95ec-91656acd5dce"
      },
      "outputs": [
        {
          "name": "stdout",
          "output_type": "stream",
          "text": [
            "Accuracy: 0.75\n",
            "Classification Report:\n",
            "              precision    recall  f1-score   support\n",
            "\n",
            "           0       0.95      0.25      0.39        73\n",
            "           1       0.74      0.99      0.85       154\n",
            "\n",
            "    accuracy                           0.75       227\n",
            "   macro avg       0.84      0.62      0.62       227\n",
            "weighted avg       0.80      0.75      0.70       227\n",
            "\n",
            "Confusion Matrix:\n",
            "[[ 18  55]\n",
            " [  1 153]]\n"
          ]
        }
      ],
      "source": [
        "from sklearn.ensemble import RandomForestClassifier\n",
        "from sklearn.metrics import accuracy_score, classification_report, confusion_matrix\n",
        "\n",
        "# Assuming X_train and X_test have already been scaled\n",
        "# X_train and X_test are already transformed using StandardScaler\n",
        "\n",
        "# Define and train the RandomForestClassifier\n",
        "classifier = RandomForestClassifier(random_state=42)\n",
        "classifier.fit(X_train, y_train)\n",
        "\n",
        "# Predict on the test data\n",
        "y_pred = classifier.predict(X_test)\n",
        "\n",
        "# Evaluate the model performance\n",
        "accuracy = accuracy_score(y_test, y_pred)\n",
        "print(f'Accuracy: {accuracy:.2f}')\n",
        "\n",
        "# Display the classification report for precision, recall, and F1-score\n",
        "print(\"Classification Report:\")\n",
        "print(classification_report(y_test, y_pred))\n",
        "\n",
        "# Display the confusion matrix\n",
        "print(\"Confusion Matrix:\")\n",
        "print(confusion_matrix(y_test, y_pred))\n"
      ]
    },
    {
      "cell_type": "code",
      "execution_count": 410,
      "metadata": {
        "colab": {
          "base_uri": "https://localhost:8080/"
        },
        "id": "N6GcNzB21Y40",
        "outputId": "06c3329d-ef89-42d1-d5a3-414fdf74e0c4"
      },
      "outputs": [
        {
          "name": "stdout",
          "output_type": "stream",
          "text": [
            "Defaulting to user installation because normal site-packages is not writeable\n",
            "Requirement already satisfied: xgboost in c:\\users\\nya\\appdata\\roaming\\python\\python312\\site-packages (2.1.3)\n",
            "Requirement already satisfied: numpy in c:\\users\\nya\\appdata\\roaming\\python\\python312\\site-packages (from xgboost) (1.26.4)\n",
            "Requirement already satisfied: scipy in c:\\users\\nya\\appdata\\roaming\\python\\python312\\site-packages (from xgboost) (1.14.1)\n",
            "Note: you may need to restart the kernel to use updated packages.\n"
          ]
        },
        {
          "name": "stderr",
          "output_type": "stream",
          "text": [
            "\n",
            "[notice] A new release of pip is available: 24.0 -> 24.3.1\n",
            "[notice] To update, run: python.exe -m pip install --upgrade pip\n"
          ]
        }
      ],
      "source": [
        "%pip install xgboost"
      ]
    },
    {
      "cell_type": "markdown",
      "metadata": {
        "id": "E1vp4-XK5DHW"
      },
      "source": [
        "### XGBoost Classifier"
      ]
    },
    {
      "cell_type": "code",
      "execution_count": 411,
      "metadata": {
        "colab": {
          "base_uri": "https://localhost:8080/"
        },
        "id": "YjesrPcw3NAm",
        "outputId": "1e300c62-2394-429f-e9fb-0844c1b7c80a"
      },
      "outputs": [
        {
          "name": "stdout",
          "output_type": "stream",
          "text": [
            "Accuracy: 0.75\n",
            "Classification Report:\n",
            "              precision    recall  f1-score   support\n",
            "\n",
            "           0       0.95      0.25      0.39        73\n",
            "           1       0.74      0.99      0.85       154\n",
            "\n",
            "    accuracy                           0.75       227\n",
            "   macro avg       0.84      0.62      0.62       227\n",
            "weighted avg       0.80      0.75      0.70       227\n",
            "\n",
            "Confusion Matrix:\n",
            "[[ 18  55]\n",
            " [  1 153]]\n"
          ]
        },
        {
          "name": "stderr",
          "output_type": "stream",
          "text": [
            "C:\\Users\\NYA\\AppData\\Roaming\\Python\\Python312\\site-packages\\xgboost\\core.py:158: UserWarning: [09:20:12] WARNING: C:\\buildkite-agent\\builds\\buildkite-windows-cpu-autoscaling-group-i-0c55ff5f71b100e98-1\\xgboost\\xgboost-ci-windows\\src\\learner.cc:740: \n",
            "Parameters: { \"use_label_encoder\" } are not used.\n",
            "\n",
            "  warnings.warn(smsg, UserWarning)\n"
          ]
        }
      ],
      "source": [
        "from xgboost import XGBClassifier\n",
        "\n",
        "# Define and train the XGBoost classifier\n",
        "xgb_classifier = XGBClassifier(\n",
        "    n_estimators=100,\n",
        "    learning_rate=0.1,\n",
        "    max_depth=5,\n",
        "    random_state=42,\n",
        "    use_label_encoder=False,\n",
        "    eval_metric='logloss'\n",
        ")\n",
        "xgb_classifier.fit(X_train, y_train)\n",
        "\n",
        "xgb_classifier.fit(X_train, y_train)\n",
        "\n",
        "# Predict on the test data\n",
        "y_pred = xgb_classifier.predict(X_test)\n",
        "\n",
        "# Evaluate the model performance\n",
        "accuracy = accuracy_score(y_test, y_pred)\n",
        "print(f'Accuracy: {accuracy:.2f}')\n",
        "\n",
        "# Display the classification report for precision, recall, and F1-score\n",
        "print(\"Classification Report:\")\n",
        "print(classification_report(y_test, y_pred))\n",
        "\n",
        "# Display the confusion matrix\n",
        "print(\"Confusion Matrix:\")\n",
        "print(confusion_matrix(y_test, y_pred))\n"
      ]
    },
    {
      "cell_type": "markdown",
      "metadata": {
        "id": "o0vPu8Ti5VnZ"
      },
      "source": [
        "### Decision Tree Classifier"
      ]
    },
    {
      "cell_type": "code",
      "execution_count": 412,
      "metadata": {
        "colab": {
          "base_uri": "https://localhost:8080/"
        },
        "id": "zbYR65wh5SKT",
        "outputId": "abc10c41-e477-4706-ba66-bcac48d783e6"
      },
      "outputs": [
        {
          "name": "stdout",
          "output_type": "stream",
          "text": [
            "Accuracy: 0.75\n",
            "Classification Report:\n",
            "              precision    recall  f1-score   support\n",
            "\n",
            "           0       0.95      0.25      0.39        73\n",
            "           1       0.74      0.99      0.85       154\n",
            "\n",
            "    accuracy                           0.75       227\n",
            "   macro avg       0.84      0.62      0.62       227\n",
            "weighted avg       0.80      0.75      0.70       227\n",
            "\n",
            "Confusion Matrix:\n",
            "[[ 18  55]\n",
            " [  1 153]]\n"
          ]
        }
      ],
      "source": [
        "from sklearn.tree import DecisionTreeClassifier\n",
        "from sklearn.metrics import accuracy_score, classification_report, confusion_matrix\n",
        "\n",
        "# Define and train the Decision Tree classifier\n",
        "dt_classifier = DecisionTreeClassifier(random_state=42)\n",
        "dt_classifier.fit(X_train, y_train)\n",
        "\n",
        "# Predict on the test data\n",
        "y_pred = dt_classifier.predict(X_test)\n",
        "\n",
        "# Evaluate the model performance\n",
        "accuracy = accuracy_score(y_test, y_pred)\n",
        "print(f'Accuracy: {accuracy:.2f}')\n",
        "\n",
        "# Display the classification report for precision, recall, and F1-score\n",
        "print(\"Classification Report:\")\n",
        "print(classification_report(y_test, y_pred))\n",
        "\n",
        "# Display the confusion matrix\n",
        "print(\"Confusion Matrix:\")\n",
        "print(confusion_matrix(y_test, y_pred))\n"
      ]
    },
    {
      "cell_type": "markdown",
      "metadata": {
        "id": "g7YNLjKPMX2h"
      },
      "source": []
    },
    {
      "cell_type": "code",
      "execution_count": 413,
      "metadata": {
        "colab": {
          "base_uri": "https://localhost:8080/"
        },
        "id": "hfBmvebnMYr3",
        "outputId": "c521ed84-b332-4465-91ca-7815423d5e13"
      },
      "outputs": [
        {
          "data": {
            "text/plain": [
              "Index(['Gender', 'Study Hours', 'Extracurricular_Involvement', 'Part time job',\n",
              "       'Struggle with English', 'Year', 'Pass/Fail', 'Previous_GPA',\n",
              "       'one_credit_course_1_ca', 'one_credit_course_1_grade',\n",
              "       'one_credit_course_1_attendance', 'one_credit_course_2_ca',\n",
              "       'one_credit_course_2_grade', 'one_credit_course_2_attendance',\n",
              "       'one_credit_course_3_ca', 'one_credit_course_3_grade',\n",
              "       'one_credit_course_3_attendance', 'two_credit_course_1_ca',\n",
              "       'two_credit_course_1_grade', 'two_credit_course_1_attendance',\n",
              "       'two_credit_course_2_ca', 'two_credit_course_2_grade',\n",
              "       'two_credit_course_2_attendance', 'two_credit_course_3_ca',\n",
              "       'two_credit_course_3_grade', 'two_credit_course_3_attendance',\n",
              "       'two_credit_course_4_ca', 'two_credit_course_4_grade',\n",
              "       'two_credit_course_4_attendance', 'two_credit_course_5_ca',\n",
              "       'two_credit_course_5_grade', 'two_credit_course_5_attendance',\n",
              "       'two_credit_course_6_ca', 'two_credit_course_6_grade',\n",
              "       'two_credit_course_6_attendance', 'one_credit_course_4_ca',\n",
              "       'one_credit_course_4_grade', 'one_credit_course_4_attendance',\n",
              "       'three_credit_course_1_ca', 'three_credit_course_1_grade',\n",
              "       'three_credit_course_1_attendance', 'three_credit_course_2_ca',\n",
              "       'three_credit_course_2_grade', 'three_credit_course_2_attendance'],\n",
              "      dtype='object')"
            ]
          },
          "execution_count": 413,
          "metadata": {},
          "output_type": "execute_result"
        }
      ],
      "source": [
        "dataframe.columns"
      ]
    },
    {
      "cell_type": "markdown",
      "metadata": {
        "id": "5cXe3b5-5Rva"
      },
      "source": [
        "## Model training only with continous assessment marks and other features except final grades of subjects"
      ]
    },
    {
      "cell_type": "code",
      "execution_count": 414,
      "metadata": {
        "colab": {
          "base_uri": "https://localhost:8080/"
        },
        "id": "WAT9CdD9Fgua",
        "outputId": "dbb90789-4678-495c-d292-429a32495ee6"
      },
      "outputs": [
        {
          "data": {
            "text/plain": [
              "(1134, 32)"
            ]
          },
          "execution_count": 414,
          "metadata": {},
          "output_type": "execute_result"
        }
      ],
      "source": [
        "filtered_dataframe = dataframe[[col for col in dataframe.columns if 'grade' not in col]]\n",
        "filtered_dataframe.columns\n",
        "filtered_dataframe.shape"
      ]
    },
    {
      "cell_type": "code",
      "execution_count": 415,
      "metadata": {
        "colab": {
          "base_uri": "https://localhost:8080/"
        },
        "id": "-ZQADZTpHZzS",
        "outputId": "2d748f1f-8129-4def-9995-a4c2d6fae853"
      },
      "outputs": [
        {
          "name": "stdout",
          "output_type": "stream",
          "text": [
            "(1134, 31)\n",
            "(1134,)\n"
          ]
        }
      ],
      "source": [
        "y = filtered_dataframe['Pass/Fail']  # Target variable\n",
        "\n",
        "# Define the feature columns (all columns except Pass/Fail)\n",
        "X = filtered_dataframe.drop('Pass/Fail', axis=1)  # Features\n",
        "\n",
        "# Check the shape of X and y to ensure they were separated correctly\n",
        "print(X.shape)\n",
        "print(y.shape)\n",
        "\n"
      ]
    },
    {
      "cell_type": "code",
      "execution_count": 416,
      "metadata": {
        "colab": {
          "base_uri": "https://localhost:8080/"
        },
        "id": "V2e-O4sJGvAC",
        "outputId": "804c7c76-51d6-49e3-b0d8-d7b99632206f"
      },
      "outputs": [
        {
          "name": "stdout",
          "output_type": "stream",
          "text": [
            "X Shape :{} (1134, 31)\n",
            "(1134, 37)\n"
          ]
        }
      ],
      "source": [
        "from sklearn.compose import ColumnTransformer\n",
        "from sklearn.preprocessing import OneHotEncoder\n",
        "print(\"X Shape :{}\" ,X.shape)\n",
        "ct = ColumnTransformer(transformers=[('encoder', OneHotEncoder(categories = \"auto\", handle_unknown = \"ignore\"), [0,2,3,4,5])], remainder='passthrough')\n",
        "X= np.array(ct.fit_transform(X))\n",
        "print(X.shape)\n"
      ]
    },
    {
      "cell_type": "code",
      "execution_count": 417,
      "metadata": {
        "id": "lsTjQ4yHHsnA"
      },
      "outputs": [],
      "source": [
        "from sklearn.model_selection import train_test_split\n",
        "X_train, X_test, y_train, y_test = train_test_split(X, y, test_size = 0.2, random_state = 42)"
      ]
    },
    {
      "cell_type": "code",
      "execution_count": 418,
      "metadata": {
        "colab": {
          "base_uri": "https://localhost:8080/"
        },
        "id": "dlmy43ykH5NE",
        "outputId": "63051c46-00b2-4bec-ae75-5715bb7027dd"
      },
      "outputs": [
        {
          "data": {
            "text/plain": [
              "(907, 37)"
            ]
          },
          "execution_count": 418,
          "metadata": {},
          "output_type": "execute_result"
        }
      ],
      "source": [
        "from sklearn.preprocessing import StandardScaler\n",
        "sc = StandardScaler()\n",
        "X_train = sc.fit_transform(X_train)\n",
        "X_train.shape"
      ]
    },
    {
      "cell_type": "code",
      "execution_count": 419,
      "metadata": {
        "colab": {
          "base_uri": "https://localhost:8080/"
        },
        "id": "kzuMrPmhIMm9",
        "outputId": "5d3e1b83-dfff-4883-b295-672145dc2870"
      },
      "outputs": [
        {
          "name": "stdout",
          "output_type": "stream",
          "text": [
            "Accuracy: 0.68\n",
            "Classification Report:\n",
            "              precision    recall  f1-score   support\n",
            "\n",
            "           0       0.00      0.00      0.00        73\n",
            "           1       0.68      1.00      0.81       154\n",
            "\n",
            "    accuracy                           0.68       227\n",
            "   macro avg       0.34      0.50      0.40       227\n",
            "weighted avg       0.46      0.68      0.55       227\n",
            "\n",
            "Confusion Matrix:\n",
            "[[  0  73]\n",
            " [  0 154]]\n"
          ]
        },
        {
          "name": "stderr",
          "output_type": "stream",
          "text": [
            "C:\\Users\\NYA\\AppData\\Roaming\\Python\\Python312\\site-packages\\sklearn\\metrics\\_classification.py:1565: UndefinedMetricWarning: Precision is ill-defined and being set to 0.0 in labels with no predicted samples. Use `zero_division` parameter to control this behavior.\n",
            "  _warn_prf(average, modifier, f\"{metric.capitalize()} is\", len(result))\n",
            "C:\\Users\\NYA\\AppData\\Roaming\\Python\\Python312\\site-packages\\sklearn\\metrics\\_classification.py:1565: UndefinedMetricWarning: Precision is ill-defined and being set to 0.0 in labels with no predicted samples. Use `zero_division` parameter to control this behavior.\n",
            "  _warn_prf(average, modifier, f\"{metric.capitalize()} is\", len(result))\n",
            "C:\\Users\\NYA\\AppData\\Roaming\\Python\\Python312\\site-packages\\sklearn\\metrics\\_classification.py:1565: UndefinedMetricWarning: Precision is ill-defined and being set to 0.0 in labels with no predicted samples. Use `zero_division` parameter to control this behavior.\n",
            "  _warn_prf(average, modifier, f\"{metric.capitalize()} is\", len(result))\n"
          ]
        }
      ],
      "source": [
        "from sklearn.ensemble import RandomForestClassifier\n",
        "from sklearn.metrics import accuracy_score, classification_report, confusion_matrix\n",
        "\n",
        "# Assuming X_train and X_test have already been scaled\n",
        "# X_train and X_test are already transformed using StandardScaler\n",
        "\n",
        "# Define and train the RandomForestClassifier\n",
        "classifier = RandomForestClassifier(random_state=42)\n",
        "classifier.fit(X_train, y_train)\n",
        "\n",
        "# Predict on the test data\n",
        "y_pred = classifier.predict(X_test)\n",
        "\n",
        "# Evaluate the model performance\n",
        "accuracy = accuracy_score(y_test, y_pred)\n",
        "print(f'Accuracy: {accuracy:.2f}')\n",
        "\n",
        "# Display the classification report for precision, recall, and F1-score\n",
        "print(\"Classification Report:\")\n",
        "print(classification_report(y_test, y_pred))\n",
        "\n",
        "# Display the confusion matrix\n",
        "print(\"Confusion Matrix:\")\n",
        "print(confusion_matrix(y_test, y_pred))"
      ]
    },
    {
      "cell_type": "code",
      "execution_count": 420,
      "metadata": {
        "colab": {
          "base_uri": "https://localhost:8080/"
        },
        "id": "72LKtvnCIXWv",
        "outputId": "1a248fcc-f53c-45d6-ce71-83313bcc058e"
      },
      "outputs": [
        {
          "name": "stderr",
          "output_type": "stream",
          "text": [
            "C:\\Users\\NYA\\AppData\\Roaming\\Python\\Python312\\site-packages\\xgboost\\core.py:158: UserWarning: [09:20:13] WARNING: C:\\buildkite-agent\\builds\\buildkite-windows-cpu-autoscaling-group-i-0c55ff5f71b100e98-1\\xgboost\\xgboost-ci-windows\\src\\learner.cc:740: \n",
            "Parameters: { \"use_label_encoder\" } are not used.\n",
            "\n",
            "  warnings.warn(smsg, UserWarning)\n"
          ]
        },
        {
          "name": "stdout",
          "output_type": "stream",
          "text": [
            "Accuracy: 0.78\n",
            "Classification Report:\n",
            "              precision    recall  f1-score   support\n",
            "\n",
            "           0       1.00      0.32      0.48        73\n",
            "           1       0.75      1.00      0.86       154\n",
            "\n",
            "    accuracy                           0.78       227\n",
            "   macro avg       0.88      0.66      0.67       227\n",
            "weighted avg       0.83      0.78      0.74       227\n",
            "\n",
            "Confusion Matrix:\n",
            "[[ 23  50]\n",
            " [  0 154]]\n"
          ]
        }
      ],
      "source": [
        "from xgboost import XGBClassifier\n",
        "\n",
        "# Define and train the XGBoost classifier\n",
        "xgb_classifier = XGBClassifier(\n",
        "    n_estimators=100,\n",
        "    learning_rate=0.1,\n",
        "    max_depth=5,\n",
        "    random_state=42,\n",
        "    use_label_encoder=False,\n",
        "    eval_metric='logloss'\n",
        ")\n",
        "xgb_classifier.fit(X_train, y_train)\n",
        "\n",
        "xgb_classifier.fit(X_train, y_train)\n",
        "\n",
        "# Predict on the test data\n",
        "y_pred = xgb_classifier.predict(X_test)\n",
        "\n",
        "# Evaluate the model performance\n",
        "accuracy = accuracy_score(y_test, y_pred)\n",
        "print(f'Accuracy: {accuracy:.2f}')\n",
        "\n",
        "# Display the classification report for precision, recall, and F1-score\n",
        "print(\"Classification Report:\")\n",
        "print(classification_report(y_test, y_pred))\n",
        "\n",
        "# Display the confusion matrix\n",
        "print(\"Confusion Matrix:\")\n",
        "print(confusion_matrix(y_test, y_pred))"
      ]
    },
    {
      "cell_type": "code",
      "execution_count": 421,
      "metadata": {
        "colab": {
          "base_uri": "https://localhost:8080/"
        },
        "id": "H4I5nOXRJUit",
        "outputId": "7e799efa-e1e3-4143-8796-f07e8e57c547"
      },
      "outputs": [
        {
          "name": "stdout",
          "output_type": "stream",
          "text": [
            "Accuracy: 0.52\n",
            "Classification Report:\n",
            "              precision    recall  f1-score   support\n",
            "\n",
            "           0       0.33      0.45      0.38        73\n",
            "           1       0.68      0.56      0.61       154\n",
            "\n",
            "    accuracy                           0.52       227\n",
            "   macro avg       0.50      0.51      0.50       227\n",
            "weighted avg       0.57      0.52      0.54       227\n",
            "\n",
            "Confusion Matrix:\n",
            "[[33 40]\n",
            " [68 86]]\n"
          ]
        }
      ],
      "source": [
        "from sklearn.tree import DecisionTreeClassifier\n",
        "from sklearn.metrics import accuracy_score, classification_report, confusion_matrix\n",
        "\n",
        "# Define and train the Decision Tree classifier\n",
        "dt_classifier = DecisionTreeClassifier(random_state=42)\n",
        "dt_classifier.fit(X_train, y_train)\n",
        "\n",
        "# Predict on the test data\n",
        "y_pred = dt_classifier.predict(X_test)\n",
        "\n",
        "# Evaluate the model performance\n",
        "accuracy = accuracy_score(y_test, y_pred)\n",
        "print(f'Accuracy: {accuracy:.2f}')\n",
        "\n",
        "# Display the classification report for precision, recall, and F1-score\n",
        "print(\"Classification Report:\")\n",
        "print(classification_report(y_test, y_pred))\n",
        "\n",
        "# Display the confusion matrix\n",
        "print(\"Confusion Matrix:\")\n",
        "print(confusion_matrix(y_test, y_pred))"
      ]
    },
    {
      "cell_type": "code",
      "execution_count": 422,
      "metadata": {
        "colab": {
          "base_uri": "https://localhost:8080/"
        },
        "id": "e5usdxHcKE7G",
        "outputId": "d33c8a59-5712-49e7-b95e-ccd81dcd3d65"
      },
      "outputs": [
        {
          "name": "stdout",
          "output_type": "stream",
          "text": [
            "Accuracy: 0.78\n",
            "Classification Report:\n",
            "              precision    recall  f1-score   support\n",
            "\n",
            "           0       1.00      0.32      0.48        73\n",
            "           1       0.75      1.00      0.86       154\n",
            "\n",
            "    accuracy                           0.78       227\n",
            "   macro avg       0.88      0.66      0.67       227\n",
            "weighted avg       0.83      0.78      0.74       227\n",
            "\n",
            "Confusion Matrix:\n",
            "[[ 23  50]\n",
            " [  0 154]]\n"
          ]
        },
        {
          "name": "stderr",
          "output_type": "stream",
          "text": [
            "C:\\Users\\NYA\\AppData\\Roaming\\Python\\Python312\\site-packages\\xgboost\\core.py:158: UserWarning: [09:20:13] WARNING: C:\\buildkite-agent\\builds\\buildkite-windows-cpu-autoscaling-group-i-0c55ff5f71b100e98-1\\xgboost\\xgboost-ci-windows\\src\\learner.cc:740: \n",
            "Parameters: { \"use_label_encoder\" } are not used.\n",
            "\n",
            "  warnings.warn(smsg, UserWarning)\n"
          ]
        }
      ],
      "source": [
        "import matplotlib.pyplot as plt\n",
        "import seaborn as sns\n",
        "from sklearn.metrics import confusion_matrix, classification_report, accuracy_score, roc_curve, auc\n",
        "from xgboost import XGBClassifier\n",
        "import numpy as np\n",
        "\n",
        "# Define and train the XGBoost classifier\n",
        "xgb_classifier = XGBClassifier(\n",
        "    n_estimators=100,\n",
        "    learning_rate=0.1,\n",
        "    max_depth=5,\n",
        "    random_state=42,\n",
        "    use_label_encoder=False,\n",
        "    eval_metric='logloss'\n",
        ")\n",
        "xgb_classifier.fit(X_train, y_train)\n",
        "\n",
        "# Predict on the test data\n",
        "y_pred = xgb_classifier.predict(X_test)\n",
        "\n",
        "# Evaluate the model performance\n",
        "accuracy = accuracy_score(y_test, y_pred)\n",
        "print(f'Accuracy: {accuracy:.2f}')\n",
        "\n",
        "# Display the classification report\n",
        "print(\"Classification Report:\")\n",
        "print(classification_report(y_test, y_pred))\n",
        "\n",
        "# Confusion Matrix\n",
        "cm = confusion_matrix(y_test, y_pred)\n",
        "print(\"Confusion Matrix:\")\n",
        "print(cm)\n",
        "\n",
        "\n"
      ]
    },
    {
      "cell_type": "code",
      "execution_count": 423,
      "metadata": {
        "colab": {
          "base_uri": "https://localhost:8080/",
          "height": 564
        },
        "id": "qahpbGISKU3b",
        "outputId": "bcb16788-3cba-4e70-8cfc-3a11f456dc18"
      },
      "outputs": [
        {
          "data": {
            "image/png": "[encoded data removed]",
            "text/plain": [
              "<Figure size 800x600 with 2 Axes>"
            ]
          },
          "metadata": {},
          "output_type": "display_data"
        }
      ],
      "source": [
        "# Plot the Confusion Matrix using Seaborn\n",
        "plt.figure(figsize=(8,6))\n",
        "sns.heatmap(cm, annot=True, fmt='d', cmap='Blues', xticklabels=['Predicted Negative', 'Predicted Positive'], yticklabels=['Actual Negative', 'Actual Positive'])\n",
        "plt.ylabel('Actual')\n",
        "plt.xlabel('Predicted')\n",
        "plt.title('Confusion Matrix')\n",
        "plt.show()\n",
        "\n"
      ]
    },
    {
      "cell_type": "code",
      "execution_count": 424,
      "metadata": {
        "colab": {
          "base_uri": "https://localhost:8080/",
          "height": 564
        },
        "id": "DyopL0CbKamT",
        "outputId": "d7411531-5bac-442b-d001-d56f73dadce7"
      },
      "outputs": [
        {
          "data": {
            "image/png": "[encoded data removed]",
            "text/plain": [
              "<Figure size 800x600 with 1 Axes>"
            ]
          },
          "metadata": {},
          "output_type": "display_data"
        }
      ],
      "source": [
        "# Plot ROC Curve (for binary classification)\n",
        "y_prob = xgb_classifier.predict_proba(X_test)[:,1]  # Probability estimates\n",
        "fpr, tpr, thresholds = roc_curve(y_test, y_prob)\n",
        "roc_auc = auc(fpr, tpr)\n",
        "\n",
        "plt.figure(figsize=(8,6))\n",
        "plt.plot(fpr, tpr, color='blue', label=f'ROC Curve (area = {roc_auc:.2f})')\n",
        "plt.plot([0, 1], [0, 1], color='red', linestyle='--')\n",
        "plt.xlim([0.0, 1.0])\n",
        "plt.ylim([0.0, 1.05])\n",
        "plt.xlabel('False Positive Rate')\n",
        "plt.ylabel('True Positive Rate')\n",
        "plt.title('Receiver Operating Characteristic (ROC) Curve')\n",
        "plt.legend(loc=\"lower right\")\n",
        "plt.show()\n",
        "\n"
      ]
    },
    {
      "cell_type": "code",
      "execution_count": 425,
      "metadata": {
        "colab": {
          "base_uri": "https://localhost:8080/",
          "height": 472
        },
        "id": "Z9WE-AlqKfZa",
        "outputId": "5702bec3-5194-49e9-aa15-e5be888a31f1"
      },
      "outputs": [
        {
          "data": {
            "image/png": "[encoded data removed]",
            "text/plain": [
              "<Figure size 640x480 with 1 Axes>"
            ]
          },
          "metadata": {},
          "output_type": "display_data"
        }
      ],
      "source": [
        "# Feature Importance (corrected)\n",
        "from xgboost import XGBClassifier, plot_importance  # Correct import for XGBoost plot_importance\n",
        "\n",
        "\n",
        "plot_importance(xgb_classifier)  # Correct method to plot feature importance\n",
        "plt.title('Feature Importance')\n",
        "plt.show()"
      ]
    },
    {
      "cell_type": "code",
      "execution_count": 426,
      "metadata": {
        "id": "JSf5sB_7tSb9"
      },
      "outputs": [],
      "source": [
        "import pandas as pd\n",
        "import numpy as np\n",
        "\n",
        "# Example feature values for a new instance\n",
        "data = {\n",
        "    'Gender': ['Male'],\n",
        "    'Study Hours': [1],\n",
        "    'Extracurricular_Involvement': ['Yes'],\n",
        "    'Part time job': ['Yes'],\n",
        "    'Struggle with English': ['Yes'],\n",
        "    'Year': ['Second'],\n",
        "    'Previous_GPA' :  [3.6],\n",
        "    'one_credit_course_1_ca': [15/35],\n",
        "    'one_credit_course_1_attendance': [1],\n",
        "    'one_credit_course_2_ca': [16/35],\n",
        "    'one_credit_course_2_attendance': [1],\n",
        "    'one_credit_course_3_ca': [23/35],\n",
        "    'one_credit_course_3_attendance': [1],\n",
        "    'two_credit_course_1_ca': [8/35],\n",
        "    'two_credit_course_1_attendance': [1],\n",
        "    'two_credit_course_2_ca': [11/35],\n",
        "    'two_credit_course_2_attendance': [1],\n",
        "    'two_credit_course_3_ca': [29/35],\n",
        "    'two_credit_course_3_attendance': [1],\n",
        "    'two_credit_course_4_ca': [11/35],\n",
        "    'two_credit_course_4_attendance': [1],\n",
        "    'two_credit_course_5_ca': [31/35],\n",
        "    'two_credit_course_5_attendance': [1],\n",
        "    'two_credit_course_6_ca': [27/35],\n",
        "    'two_credit_course_6_attendance': [1],\n",
        "    'one_credit_course_4_ca': [0],\n",
        "    'one_credit_course_4_attendance': [0],\n",
        "    'three_credit_course_1_ca': [0],\n",
        "    'three_credit_course_1_attendance': [0],\n",
        "    'three_credit_course_2_ca': [0],\n",
        "    'three_credit_course_2_attendance': [0]\n",
        "}"
      ]
    },
    {
      "cell_type": "code",
      "execution_count": 427,
      "metadata": {
        "colab": {
          "base_uri": "https://localhost:8080/",
          "height": 165
        },
        "id": "RUxDnXKtvzYD",
        "outputId": "80d10288-1f12-4493-e7f2-1c90215bd423"
      },
      "outputs": [
        {
          "data": {
            "text/html": [
              "<div>\n",
              "<style scoped>\n",
              "    .dataframe tbody tr th:only-of-type {\n",
              "        vertical-align: middle;\n",
              "    }\n",
              "\n",
              "    .dataframe tbody tr th {\n",
              "        vertical-align: top;\n",
              "    }\n",
              "\n",
              "    .dataframe thead th {\n",
              "        text-align: right;\n",
              "    }\n",
              "</style>\n",
              "<table border=\"1\" class=\"dataframe\">\n",
              "  <thead>\n",
              "    <tr style=\"text-align: right;\">\n",
              "      <th></th>\n",
              "      <th>Gender</th>\n",
              "      <th>Study Hours</th>\n",
              "      <th>Extracurricular_Involvement</th>\n",
              "      <th>Part time job</th>\n",
              "      <th>Struggle with English</th>\n",
              "      <th>Year</th>\n",
              "      <th>Previous_GPA</th>\n",
              "      <th>one_credit_course_1_ca</th>\n",
              "      <th>one_credit_course_1_attendance</th>\n",
              "      <th>one_credit_course_2_ca</th>\n",
              "      <th>...</th>\n",
              "      <th>two_credit_course_5_ca</th>\n",
              "      <th>two_credit_course_5_attendance</th>\n",
              "      <th>two_credit_course_6_ca</th>\n",
              "      <th>two_credit_course_6_attendance</th>\n",
              "      <th>one_credit_course_4_ca</th>\n",
              "      <th>one_credit_course_4_attendance</th>\n",
              "      <th>three_credit_course_1_ca</th>\n",
              "      <th>three_credit_course_1_attendance</th>\n",
              "      <th>three_credit_course_2_ca</th>\n",
              "      <th>three_credit_course_2_attendance</th>\n",
              "    </tr>\n",
              "  </thead>\n",
              "  <tbody>\n",
              "    <tr>\n",
              "      <th>0</th>\n",
              "      <td>Male</td>\n",
              "      <td>1</td>\n",
              "      <td>Yes</td>\n",
              "      <td>Yes</td>\n",
              "      <td>Yes</td>\n",
              "      <td>Second</td>\n",
              "      <td>3.6</td>\n",
              "      <td>0.428571</td>\n",
              "      <td>1</td>\n",
              "      <td>0.457143</td>\n",
              "      <td>...</td>\n",
              "      <td>0.885714</td>\n",
              "      <td>1</td>\n",
              "      <td>0.771429</td>\n",
              "      <td>1</td>\n",
              "      <td>0</td>\n",
              "      <td>0</td>\n",
              "      <td>0</td>\n",
              "      <td>0</td>\n",
              "      <td>0</td>\n",
              "      <td>0</td>\n",
              "    </tr>\n",
              "  </tbody>\n",
              "</table>\n",
              "<p>1 rows × 31 columns</p>\n",
              "</div>"
            ],
            "text/plain": [
              "  Gender  Study Hours Extracurricular_Involvement Part time job  \\\n",
              "0   Male            1                         Yes           Yes   \n",
              "\n",
              "  Struggle with English    Year  Previous_GPA  one_credit_course_1_ca  \\\n",
              "0                   Yes  Second           3.6                0.428571   \n",
              "\n",
              "   one_credit_course_1_attendance  one_credit_course_2_ca  ...  \\\n",
              "0                               1                0.457143  ...   \n",
              "\n",
              "   two_credit_course_5_ca  two_credit_course_5_attendance  \\\n",
              "0                0.885714                               1   \n",
              "\n",
              "   two_credit_course_6_ca  two_credit_course_6_attendance  \\\n",
              "0                0.771429                               1   \n",
              "\n",
              "   one_credit_course_4_ca  one_credit_course_4_attendance  \\\n",
              "0                       0                               0   \n",
              "\n",
              "   three_credit_course_1_ca  three_credit_course_1_attendance  \\\n",
              "0                         0                                 0   \n",
              "\n",
              "   three_credit_course_2_ca  three_credit_course_2_attendance  \n",
              "0                         0                                 0  \n",
              "\n",
              "[1 rows x 31 columns]"
            ]
          },
          "execution_count": 427,
          "metadata": {},
          "output_type": "execute_result"
        }
      ],
      "source": [
        "#converting data into a df\n",
        "new_data =pd.DataFrame(data)\n",
        "new_data"
      ]
    },
    {
      "cell_type": "code",
      "execution_count": 428,
      "metadata": {
        "colab": {
          "base_uri": "https://localhost:8080/"
        },
        "id": "R9nLB_Lrv494",
        "outputId": "94088587-1ae4-4a8f-ed5f-2ea50be6f2df"
      },
      "outputs": [
        {
          "name": "stdout",
          "output_type": "stream",
          "text": [
            "[[0.         1.         0.         1.         0.         1.\n",
            "  0.         1.         0.         0.         0.         1.\n",
            "  3.6        0.42857143 1.         0.45714286 1.         0.65714286\n",
            "  1.         0.22857143 1.         0.31428571 1.         0.82857143\n",
            "  1.         0.31428571 1.         0.88571429 1.         0.77142857\n",
            "  1.         0.         0.         0.         0.         0.\n",
            "  0.        ]]\n"
          ]
        }
      ],
      "source": [
        "transformed =ct.transform(new_data)\n",
        "print(transformed)"
      ]
    },
    {
      "cell_type": "code",
      "execution_count": 429,
      "metadata": {
        "colab": {
          "base_uri": "https://localhost:8080/"
        },
        "id": "Iah2VmtLwdna",
        "outputId": "a6cf753c-e638-4971-a04c-40e125c589bc"
      },
      "outputs": [
        {
          "name": "stdout",
          "output_type": "stream",
          "text": [
            "StandardScaler()\n"
          ]
        }
      ],
      "source": [
        "scaled_new_data= sc.fit(transformed)\n",
        "print(scaled_new_data)"
      ]
    },
    {
      "cell_type": "code",
      "execution_count": 430,
      "metadata": {
        "colab": {
          "base_uri": "https://localhost:8080/"
        },
        "id": "LJSSVrUryGT-",
        "outputId": "0071a5ac-7dfb-436d-ac85-b3b661503e52"
      },
      "outputs": [
        {
          "name": "stdout",
          "output_type": "stream",
          "text": [
            "Predicted Class: [1]\n",
            "Predicted Probabilities: [[0.0616225 0.9383775]]\n"
          ]
        }
      ],
      "source": [
        "# Predict the result for the new data\n",
        "y_pred_new = xgb_classifier.predict(transformed)\n",
        "\n",
        "# If you want probability estimates for classification\n",
        "y_prob_new = xgb_classifier.predict_proba(transformed)\n",
        "\n",
        "# Output the predicted class and probabilities\n",
        "print(f'Predicted Class: {y_pred_new}')\n",
        "print(f'Predicted Probabilities: {y_prob_new}')\n",
        "\n",
        "\n",
        "#predicted class : 1 -> Pass\n"
      ]
    },
    {
      "cell_type": "markdown",
      "metadata": {
        "id": "gcYJx41nnDuz"
      },
      "source": [
        "### Converting Probabilities into Percentages"
      ]
    },
    {
      "cell_type": "code",
      "execution_count": 431,
      "metadata": {
        "colab": {
          "base_uri": "https://localhost:8080/"
        },
        "id": "XUpsvBk0nJsW",
        "outputId": "54d1f673-b2e0-42ea-985d-7ea18a94fd14"
      },
      "outputs": [
        {
          "name": "stdout",
          "output_type": "stream",
          "text": [
            "Data Point 1:\n",
            "  Predicted Class: Pass\n",
            "  Probability of Pass: 93.84%\n",
            "  Probability of Fail: 6.16%\n",
            "------------------------------\n"
          ]
        }
      ],
      "source": [
        "# Predict the class for the new data\n",
        "y_pred_new = xgb_classifier.predict(transformed)\n",
        "\n",
        "# Get probability estimates for each class\n",
        "y_prob_new = xgb_classifier.predict_proba(transformed)\n",
        "\n",
        "# Convert probabilities to percentages\n",
        "y_prob_new_percentages = y_prob_new * 100\n",
        "\n",
        "# Iterate through each prediction and probability\n",
        "for i, (pred, probs) in enumerate(zip(y_pred_new, y_prob_new_percentages)):\n",
        "    pass_probability = probs[1]  # Probability for class 1 (pass)\n",
        "    fail_probability = probs[0]  # Probability for class 0 (fail)\n",
        "\n",
        "    # Display the predicted result with detailed probability information\n",
        "    print(f\"Data Point {i + 1}:\")\n",
        "    print(f\"  Predicted Class: {'Pass' if pred == 1 else 'Fail'}\")\n",
        "    print(f\"  Probability of Pass: {pass_probability:.2f}%\")\n",
        "    print(f\"  Probability of Fail: {fail_probability:.2f}%\")\n",
        "    print(\"-\" * 30)\n",
        "\n"
      ]
    },
    {
      "cell_type": "code",
      "execution_count": 432,
      "metadata": {
        "id": "zxwc8dZnQroo"
      },
      "outputs": [],
      "source": [
        "import pickle\n",
        "with open('trained_model.pkl', 'wb') as model_file:\n",
        "    pickle.dump(xgb_classifier, model_file)"
      ]
    },
    {
      "cell_type": "code",
      "execution_count": 433,
      "metadata": {
        "id": "ixaJNjIJuN0f"
      },
      "outputs": [],
      "source": [
        "import pickle\n",
        "with open('ct_transformer.pkl', 'wb') as model_file2:\n",
        "    pickle.dump(ct, model_file2)"
      ]
    }
  ],
  "metadata": {
    "colab": {
      "provenance": []
    },
    "kernelspec": {
      "display_name": "Python 3",
      "name": "python3"
    },
    "language_info": {
      "codemirror_mode": {
        "name": "ipython",
        "version": 3
      },
      "file_extension": ".py",
      "mimetype": "text/x-python",
      "name": "python",
      "nbconvert_exporter": "python",
      "pygments_lexer": "ipython3",
      "version": "3.12.4"
    }
  },
  "nbformat": 4,
  "nbformat_minor": 0
}
